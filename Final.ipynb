{
  "nbformat": 4,
  "nbformat_minor": 0,
  "metadata": {
    "colab": {
      "name": "Final.ipynb",
      "version": "0.3.2",
      "provenance": [],
      "collapsed_sections": [],
      "include_colab_link": true
    },
    "kernelspec": {
      "name": "python3",
      "display_name": "Python 3"
    },
    "accelerator": "GPU"
  },
  "cells": [
    {
      "cell_type": "markdown",
      "metadata": {
        "id": "view-in-github",
        "colab_type": "text"
      },
      "source": [
        "<a href=\"https://colab.research.google.com/github/amanjeetsahu/MovieLens-Data-Analysis/blob/master/Final.ipynb\" target=\"_parent\"><img src=\"https://colab.research.google.com/assets/colab-badge.svg\" alt=\"Open In Colab\"/></a>"
      ]
    },
    {
      "metadata": {
        "id": "VatCs_TQ8r0o",
        "colab_type": "text"
      },
      "cell_type": "markdown",
      "source": [
        "<img src=\"http://cfs22.simplicdn.net/ice9/new_logo.svgz \"/>\n",
        "\n",
        "# Project 04: Movielens Dataset Analysis\n",
        "\n",
        "You don't need to limit yourself to the number of rows/cells provided. You can add additional rows in each section to add more lines of code.\n",
        "\n",
        "**Happy coding!**"
      ]
    },
    {
      "metadata": {
        "id": "eQlPABUB8r05",
        "colab_type": "text"
      },
      "cell_type": "markdown",
      "source": [
        "# Problem Statement\n"
      ]
    },
    {
      "metadata": {
        "id": "55c3u1xb8r1B",
        "colab_type": "text"
      },
      "cell_type": "markdown",
      "source": [
        "## Movielens Dataset Analysis\n",
        "The GroupLens Research Project is a research group in the Department of Computer Science and Engineering in the University of Minnesota. The researchers of this group are involved in many research projects related to the fields of information filtering, collaborative filtering, and recommender systems. Here, we ask you to perform the analysis using the Exploratory Data Analysis technique. In particular, we want you to apply the tools of machine learning to predict the ratings."
      ]
    },
    {
      "metadata": {
        "id": "ueTeFU308r1r",
        "colab_type": "code",
        "colab": {}
      },
      "cell_type": "code",
      "source": [
        "import pandas as pd\n",
        "import numpy as np\n",
        "import matplotlib.pyplot as plt\n",
        "import seaborn as sns\n",
        "import re\n",
        "pd.set_option('display.max_columns', 100) # Show all columns when looking at dataframe"
      ],
      "execution_count": 0,
      "outputs": []
    },
    {
      "metadata": {
        "id": "xU2ykUR88r2C",
        "colab_type": "code",
        "colab": {}
      },
      "cell_type": "code",
      "source": [
        "import warnings\n",
        "warnings.filterwarnings('ignore')"
      ],
      "execution_count": 0,
      "outputs": []
    },
    {
      "metadata": {
        "collapsed": true,
        "id": "Pdl8RAQH8r2U",
        "colab_type": "text"
      },
      "cell_type": "markdown",
      "source": [
        "# Importing the Dataset"
      ]
    },
    {
      "metadata": {
        "id": "CMmC2qjr8r2a",
        "colab_type": "code",
        "colab": {}
      },
      "cell_type": "code",
      "source": [
        "movies= pd.read_table('https://raw.githubusercontent.com/amanjeetsahu/MovieLens-Data-Analysis/master/movies.dat',sep= '::',encoding= \"ISO-8859-1\" ,header=None)"
      ],
      "execution_count": 0,
      "outputs": []
    },
    {
      "metadata": {
        "id": "Tk5hiAx88r2r",
        "colab_type": "code",
        "outputId": "f7388413-92a8-41b3-a574-07559cfbe7d8",
        "colab": {
          "base_uri": "https://localhost:8080/",
          "height": 204
        }
      },
      "cell_type": "code",
      "source": [
        "movies.head()"
      ],
      "execution_count": 0,
      "outputs": [
        {
          "output_type": "execute_result",
          "data": {
            "text/html": [
              "<div>\n",
              "<style scoped>\n",
              "    .dataframe tbody tr th:only-of-type {\n",
              "        vertical-align: middle;\n",
              "    }\n",
              "\n",
              "    .dataframe tbody tr th {\n",
              "        vertical-align: top;\n",
              "    }\n",
              "\n",
              "    .dataframe thead th {\n",
              "        text-align: right;\n",
              "    }\n",
              "</style>\n",
              "<table border=\"1\" class=\"dataframe\">\n",
              "  <thead>\n",
              "    <tr style=\"text-align: right;\">\n",
              "      <th></th>\n",
              "      <th>0</th>\n",
              "      <th>1</th>\n",
              "      <th>2</th>\n",
              "    </tr>\n",
              "  </thead>\n",
              "  <tbody>\n",
              "    <tr>\n",
              "      <th>0</th>\n",
              "      <td>1</td>\n",
              "      <td>Toy Story (1995)</td>\n",
              "      <td>Animation|Children's|Comedy</td>\n",
              "    </tr>\n",
              "    <tr>\n",
              "      <th>1</th>\n",
              "      <td>2</td>\n",
              "      <td>Jumanji (1995)</td>\n",
              "      <td>Adventure|Children's|Fantasy</td>\n",
              "    </tr>\n",
              "    <tr>\n",
              "      <th>2</th>\n",
              "      <td>3</td>\n",
              "      <td>Grumpier Old Men (1995)</td>\n",
              "      <td>Comedy|Romance</td>\n",
              "    </tr>\n",
              "    <tr>\n",
              "      <th>3</th>\n",
              "      <td>4</td>\n",
              "      <td>Waiting to Exhale (1995)</td>\n",
              "      <td>Comedy|Drama</td>\n",
              "    </tr>\n",
              "    <tr>\n",
              "      <th>4</th>\n",
              "      <td>5</td>\n",
              "      <td>Father of the Bride Part II (1995)</td>\n",
              "      <td>Comedy</td>\n",
              "    </tr>\n",
              "  </tbody>\n",
              "</table>\n",
              "</div>"
            ],
            "text/plain": [
              "   0                                   1                             2\n",
              "0  1                    Toy Story (1995)   Animation|Children's|Comedy\n",
              "1  2                      Jumanji (1995)  Adventure|Children's|Fantasy\n",
              "2  3             Grumpier Old Men (1995)                Comedy|Romance\n",
              "3  4            Waiting to Exhale (1995)                  Comedy|Drama\n",
              "4  5  Father of the Bride Part II (1995)                        Comedy"
            ]
          },
          "metadata": {
            "tags": []
          },
          "execution_count": 4
        }
      ]
    },
    {
      "metadata": {
        "id": "V15YB8-78r3K",
        "colab_type": "code",
        "colab": {}
      },
      "cell_type": "code",
      "source": [
        "movies['year'] = movies[1].str.extract('\\((.*?)\\)', expand=True)\n",
        "movies[1] = movies[1].str.replace('\\((.*?)\\)', \"\")\n",
        "movies[1] = movies[1].str.rstrip()"
      ],
      "execution_count": 0,
      "outputs": []
    },
    {
      "metadata": {
        "id": "rxjem1Ls8r3e",
        "colab_type": "code",
        "outputId": "0663c279-dee8-4f0a-c66a-c1b1b7ce0961",
        "colab": {
          "base_uri": "https://localhost:8080/",
          "height": 204
        }
      },
      "cell_type": "code",
      "source": [
        "movies.head()"
      ],
      "execution_count": 0,
      "outputs": [
        {
          "output_type": "execute_result",
          "data": {
            "text/html": [
              "<div>\n",
              "<style scoped>\n",
              "    .dataframe tbody tr th:only-of-type {\n",
              "        vertical-align: middle;\n",
              "    }\n",
              "\n",
              "    .dataframe tbody tr th {\n",
              "        vertical-align: top;\n",
              "    }\n",
              "\n",
              "    .dataframe thead th {\n",
              "        text-align: right;\n",
              "    }\n",
              "</style>\n",
              "<table border=\"1\" class=\"dataframe\">\n",
              "  <thead>\n",
              "    <tr style=\"text-align: right;\">\n",
              "      <th></th>\n",
              "      <th>0</th>\n",
              "      <th>1</th>\n",
              "      <th>2</th>\n",
              "      <th>year</th>\n",
              "    </tr>\n",
              "  </thead>\n",
              "  <tbody>\n",
              "    <tr>\n",
              "      <th>0</th>\n",
              "      <td>1</td>\n",
              "      <td>Toy Story</td>\n",
              "      <td>Animation|Children's|Comedy</td>\n",
              "      <td>1995</td>\n",
              "    </tr>\n",
              "    <tr>\n",
              "      <th>1</th>\n",
              "      <td>2</td>\n",
              "      <td>Jumanji</td>\n",
              "      <td>Adventure|Children's|Fantasy</td>\n",
              "      <td>1995</td>\n",
              "    </tr>\n",
              "    <tr>\n",
              "      <th>2</th>\n",
              "      <td>3</td>\n",
              "      <td>Grumpier Old Men</td>\n",
              "      <td>Comedy|Romance</td>\n",
              "      <td>1995</td>\n",
              "    </tr>\n",
              "    <tr>\n",
              "      <th>3</th>\n",
              "      <td>4</td>\n",
              "      <td>Waiting to Exhale</td>\n",
              "      <td>Comedy|Drama</td>\n",
              "      <td>1995</td>\n",
              "    </tr>\n",
              "    <tr>\n",
              "      <th>4</th>\n",
              "      <td>5</td>\n",
              "      <td>Father of the Bride Part II</td>\n",
              "      <td>Comedy</td>\n",
              "      <td>1995</td>\n",
              "    </tr>\n",
              "  </tbody>\n",
              "</table>\n",
              "</div>"
            ],
            "text/plain": [
              "   0                            1                             2  year\n",
              "0  1                    Toy Story   Animation|Children's|Comedy  1995\n",
              "1  2                      Jumanji  Adventure|Children's|Fantasy  1995\n",
              "2  3             Grumpier Old Men                Comedy|Romance  1995\n",
              "3  4            Waiting to Exhale                  Comedy|Drama  1995\n",
              "4  5  Father of the Bride Part II                        Comedy  1995"
            ]
          },
          "metadata": {
            "tags": []
          },
          "execution_count": 6
        }
      ]
    },
    {
      "metadata": {
        "id": "cM-vXEsk8r4E",
        "colab_type": "code",
        "colab": {}
      },
      "cell_type": "code",
      "source": [
        "movies.columns= ['MovieId','Title', 'Genre', 'Year']\n",
        "movies= movies[['MovieId','Year', 'Title', 'Genre']]"
      ],
      "execution_count": 0,
      "outputs": []
    },
    {
      "metadata": {
        "id": "vcM1K52K8r4l",
        "colab_type": "code",
        "outputId": "dba233b9-87f7-4857-c9f1-c87800b0a653",
        "colab": {
          "base_uri": "https://localhost:8080/",
          "height": 204
        }
      },
      "cell_type": "code",
      "source": [
        "movies.head()"
      ],
      "execution_count": 0,
      "outputs": [
        {
          "output_type": "execute_result",
          "data": {
            "text/html": [
              "<div>\n",
              "<style scoped>\n",
              "    .dataframe tbody tr th:only-of-type {\n",
              "        vertical-align: middle;\n",
              "    }\n",
              "\n",
              "    .dataframe tbody tr th {\n",
              "        vertical-align: top;\n",
              "    }\n",
              "\n",
              "    .dataframe thead th {\n",
              "        text-align: right;\n",
              "    }\n",
              "</style>\n",
              "<table border=\"1\" class=\"dataframe\">\n",
              "  <thead>\n",
              "    <tr style=\"text-align: right;\">\n",
              "      <th></th>\n",
              "      <th>MovieId</th>\n",
              "      <th>Year</th>\n",
              "      <th>Title</th>\n",
              "      <th>Genre</th>\n",
              "    </tr>\n",
              "  </thead>\n",
              "  <tbody>\n",
              "    <tr>\n",
              "      <th>0</th>\n",
              "      <td>1</td>\n",
              "      <td>1995</td>\n",
              "      <td>Toy Story</td>\n",
              "      <td>Animation|Children's|Comedy</td>\n",
              "    </tr>\n",
              "    <tr>\n",
              "      <th>1</th>\n",
              "      <td>2</td>\n",
              "      <td>1995</td>\n",
              "      <td>Jumanji</td>\n",
              "      <td>Adventure|Children's|Fantasy</td>\n",
              "    </tr>\n",
              "    <tr>\n",
              "      <th>2</th>\n",
              "      <td>3</td>\n",
              "      <td>1995</td>\n",
              "      <td>Grumpier Old Men</td>\n",
              "      <td>Comedy|Romance</td>\n",
              "    </tr>\n",
              "    <tr>\n",
              "      <th>3</th>\n",
              "      <td>4</td>\n",
              "      <td>1995</td>\n",
              "      <td>Waiting to Exhale</td>\n",
              "      <td>Comedy|Drama</td>\n",
              "    </tr>\n",
              "    <tr>\n",
              "      <th>4</th>\n",
              "      <td>5</td>\n",
              "      <td>1995</td>\n",
              "      <td>Father of the Bride Part II</td>\n",
              "      <td>Comedy</td>\n",
              "    </tr>\n",
              "  </tbody>\n",
              "</table>\n",
              "</div>"
            ],
            "text/plain": [
              "   MovieId  Year                        Title                         Genre\n",
              "0        1  1995                    Toy Story   Animation|Children's|Comedy\n",
              "1        2  1995                      Jumanji  Adventure|Children's|Fantasy\n",
              "2        3  1995             Grumpier Old Men                Comedy|Romance\n",
              "3        4  1995            Waiting to Exhale                  Comedy|Drama\n",
              "4        5  1995  Father of the Bride Part II                        Comedy"
            ]
          },
          "metadata": {
            "tags": []
          },
          "execution_count": 8
        }
      ]
    },
    {
      "metadata": {
        "id": "fcW6ok0K8r45",
        "colab_type": "code",
        "colab": {}
      },
      "cell_type": "code",
      "source": [
        "ratings= pd.read_table('https://raw.githubusercontent.com/amanjeetsahu/MovieLens-Data-Analysis/master/ratings.dat',sep= '::',encoding= \"ISO-8859-1\" ,header=None)"
      ],
      "execution_count": 0,
      "outputs": []
    },
    {
      "metadata": {
        "id": "aVJxdyJg8r5J",
        "colab_type": "code",
        "outputId": "9a4774bc-7eaa-4a05-b8cc-8cef3b7f6804",
        "colab": {
          "base_uri": "https://localhost:8080/",
          "height": 204
        }
      },
      "cell_type": "code",
      "source": [
        "ratings.head()"
      ],
      "execution_count": 0,
      "outputs": [
        {
          "output_type": "execute_result",
          "data": {
            "text/html": [
              "<div>\n",
              "<style scoped>\n",
              "    .dataframe tbody tr th:only-of-type {\n",
              "        vertical-align: middle;\n",
              "    }\n",
              "\n",
              "    .dataframe tbody tr th {\n",
              "        vertical-align: top;\n",
              "    }\n",
              "\n",
              "    .dataframe thead th {\n",
              "        text-align: right;\n",
              "    }\n",
              "</style>\n",
              "<table border=\"1\" class=\"dataframe\">\n",
              "  <thead>\n",
              "    <tr style=\"text-align: right;\">\n",
              "      <th></th>\n",
              "      <th>0</th>\n",
              "      <th>1</th>\n",
              "      <th>2</th>\n",
              "      <th>3</th>\n",
              "    </tr>\n",
              "  </thead>\n",
              "  <tbody>\n",
              "    <tr>\n",
              "      <th>0</th>\n",
              "      <td>1</td>\n",
              "      <td>1193</td>\n",
              "      <td>5</td>\n",
              "      <td>978300760</td>\n",
              "    </tr>\n",
              "    <tr>\n",
              "      <th>1</th>\n",
              "      <td>1</td>\n",
              "      <td>661</td>\n",
              "      <td>3</td>\n",
              "      <td>978302109</td>\n",
              "    </tr>\n",
              "    <tr>\n",
              "      <th>2</th>\n",
              "      <td>1</td>\n",
              "      <td>914</td>\n",
              "      <td>3</td>\n",
              "      <td>978301968</td>\n",
              "    </tr>\n",
              "    <tr>\n",
              "      <th>3</th>\n",
              "      <td>1</td>\n",
              "      <td>3408</td>\n",
              "      <td>4</td>\n",
              "      <td>978300275</td>\n",
              "    </tr>\n",
              "    <tr>\n",
              "      <th>4</th>\n",
              "      <td>1</td>\n",
              "      <td>2355</td>\n",
              "      <td>5</td>\n",
              "      <td>978824291</td>\n",
              "    </tr>\n",
              "  </tbody>\n",
              "</table>\n",
              "</div>"
            ],
            "text/plain": [
              "   0     1  2          3\n",
              "0  1  1193  5  978300760\n",
              "1  1   661  3  978302109\n",
              "2  1   914  3  978301968\n",
              "3  1  3408  4  978300275\n",
              "4  1  2355  5  978824291"
            ]
          },
          "metadata": {
            "tags": []
          },
          "execution_count": 10
        }
      ]
    },
    {
      "metadata": {
        "id": "lUVYQb1Y8r5j",
        "colab_type": "code",
        "colab": {}
      },
      "cell_type": "code",
      "source": [
        "ratings.columns= ['UserId','MovieId','Rating','Timestamp']"
      ],
      "execution_count": 0,
      "outputs": []
    },
    {
      "metadata": {
        "id": "vLKzbPOI8r5x",
        "colab_type": "code",
        "outputId": "25144606-505e-4850-a13e-aeecb0cc7ed9",
        "colab": {
          "base_uri": "https://localhost:8080/",
          "height": 204
        }
      },
      "cell_type": "code",
      "source": [
        "ratings.head()"
      ],
      "execution_count": 0,
      "outputs": [
        {
          "output_type": "execute_result",
          "data": {
            "text/html": [
              "<div>\n",
              "<style scoped>\n",
              "    .dataframe tbody tr th:only-of-type {\n",
              "        vertical-align: middle;\n",
              "    }\n",
              "\n",
              "    .dataframe tbody tr th {\n",
              "        vertical-align: top;\n",
              "    }\n",
              "\n",
              "    .dataframe thead th {\n",
              "        text-align: right;\n",
              "    }\n",
              "</style>\n",
              "<table border=\"1\" class=\"dataframe\">\n",
              "  <thead>\n",
              "    <tr style=\"text-align: right;\">\n",
              "      <th></th>\n",
              "      <th>UserId</th>\n",
              "      <th>MovieId</th>\n",
              "      <th>Rating</th>\n",
              "      <th>Timestamp</th>\n",
              "    </tr>\n",
              "  </thead>\n",
              "  <tbody>\n",
              "    <tr>\n",
              "      <th>0</th>\n",
              "      <td>1</td>\n",
              "      <td>1193</td>\n",
              "      <td>5</td>\n",
              "      <td>978300760</td>\n",
              "    </tr>\n",
              "    <tr>\n",
              "      <th>1</th>\n",
              "      <td>1</td>\n",
              "      <td>661</td>\n",
              "      <td>3</td>\n",
              "      <td>978302109</td>\n",
              "    </tr>\n",
              "    <tr>\n",
              "      <th>2</th>\n",
              "      <td>1</td>\n",
              "      <td>914</td>\n",
              "      <td>3</td>\n",
              "      <td>978301968</td>\n",
              "    </tr>\n",
              "    <tr>\n",
              "      <th>3</th>\n",
              "      <td>1</td>\n",
              "      <td>3408</td>\n",
              "      <td>4</td>\n",
              "      <td>978300275</td>\n",
              "    </tr>\n",
              "    <tr>\n",
              "      <th>4</th>\n",
              "      <td>1</td>\n",
              "      <td>2355</td>\n",
              "      <td>5</td>\n",
              "      <td>978824291</td>\n",
              "    </tr>\n",
              "  </tbody>\n",
              "</table>\n",
              "</div>"
            ],
            "text/plain": [
              "   UserId  MovieId  Rating  Timestamp\n",
              "0       1     1193       5  978300760\n",
              "1       1      661       3  978302109\n",
              "2       1      914       3  978301968\n",
              "3       1     3408       4  978300275\n",
              "4       1     2355       5  978824291"
            ]
          },
          "metadata": {
            "tags": []
          },
          "execution_count": 12
        }
      ]
    },
    {
      "metadata": {
        "id": "U4etHGfi8r6F",
        "colab_type": "code",
        "colab": {}
      },
      "cell_type": "code",
      "source": [
        "users= pd.read_table('https://raw.githubusercontent.com/amanjeetsahu/MovieLens-Data-Analysis/master/users.dat',sep= '::',encoding= \"ISO-8859-1\" ,header=None)"
      ],
      "execution_count": 0,
      "outputs": []
    },
    {
      "metadata": {
        "id": "Zh-HaJOO8r6V",
        "colab_type": "code",
        "colab": {}
      },
      "cell_type": "code",
      "source": [
        "users.columns= ['UserId','Gender','Age','Occupation','ZipCode']"
      ],
      "execution_count": 0,
      "outputs": []
    },
    {
      "metadata": {
        "id": "ICELqgOv8r67",
        "colab_type": "code",
        "outputId": "394ad1ad-2c56-4a63-a692-482155716710",
        "colab": {
          "base_uri": "https://localhost:8080/",
          "height": 204
        }
      },
      "cell_type": "code",
      "source": [
        "users.head()"
      ],
      "execution_count": 0,
      "outputs": [
        {
          "output_type": "execute_result",
          "data": {
            "text/html": [
              "<div>\n",
              "<style scoped>\n",
              "    .dataframe tbody tr th:only-of-type {\n",
              "        vertical-align: middle;\n",
              "    }\n",
              "\n",
              "    .dataframe tbody tr th {\n",
              "        vertical-align: top;\n",
              "    }\n",
              "\n",
              "    .dataframe thead th {\n",
              "        text-align: right;\n",
              "    }\n",
              "</style>\n",
              "<table border=\"1\" class=\"dataframe\">\n",
              "  <thead>\n",
              "    <tr style=\"text-align: right;\">\n",
              "      <th></th>\n",
              "      <th>UserId</th>\n",
              "      <th>Gender</th>\n",
              "      <th>Age</th>\n",
              "      <th>Occupation</th>\n",
              "      <th>ZipCode</th>\n",
              "    </tr>\n",
              "  </thead>\n",
              "  <tbody>\n",
              "    <tr>\n",
              "      <th>0</th>\n",
              "      <td>1</td>\n",
              "      <td>F</td>\n",
              "      <td>1</td>\n",
              "      <td>10</td>\n",
              "      <td>48067</td>\n",
              "    </tr>\n",
              "    <tr>\n",
              "      <th>1</th>\n",
              "      <td>2</td>\n",
              "      <td>M</td>\n",
              "      <td>56</td>\n",
              "      <td>16</td>\n",
              "      <td>70072</td>\n",
              "    </tr>\n",
              "    <tr>\n",
              "      <th>2</th>\n",
              "      <td>3</td>\n",
              "      <td>M</td>\n",
              "      <td>25</td>\n",
              "      <td>15</td>\n",
              "      <td>55117</td>\n",
              "    </tr>\n",
              "    <tr>\n",
              "      <th>3</th>\n",
              "      <td>4</td>\n",
              "      <td>M</td>\n",
              "      <td>45</td>\n",
              "      <td>7</td>\n",
              "      <td>02460</td>\n",
              "    </tr>\n",
              "    <tr>\n",
              "      <th>4</th>\n",
              "      <td>5</td>\n",
              "      <td>M</td>\n",
              "      <td>25</td>\n",
              "      <td>20</td>\n",
              "      <td>55455</td>\n",
              "    </tr>\n",
              "  </tbody>\n",
              "</table>\n",
              "</div>"
            ],
            "text/plain": [
              "   UserId Gender  Age  Occupation ZipCode\n",
              "0       1      F    1          10   48067\n",
              "1       2      M   56          16   70072\n",
              "2       3      M   25          15   55117\n",
              "3       4      M   45           7   02460\n",
              "4       5      M   25          20   55455"
            ]
          },
          "metadata": {
            "tags": []
          },
          "execution_count": 15
        }
      ]
    },
    {
      "metadata": {
        "id": "x86blsI58r7V",
        "colab_type": "text"
      },
      "cell_type": "markdown",
      "source": [
        "# Exploratory Data Analysis\n",
        "\n",
        "\n",
        "## Visualize user age distribution"
      ]
    },
    {
      "metadata": {
        "id": "td37aI0i8r7Z",
        "colab_type": "code",
        "outputId": "066e37ab-75c0-436e-cb31-b07394e474ce",
        "colab": {
          "base_uri": "https://localhost:8080/",
          "height": 378
        }
      },
      "cell_type": "code",
      "source": [
        "sns.set(context='notebook', style='darkgrid', palette='deep', font='sans-serif', color_codes=True)\n",
        "sns.distplot(users['Age'])"
      ],
      "execution_count": 0,
      "outputs": [
        {
          "output_type": "execute_result",
          "data": {
            "text/plain": [
              "<matplotlib.axes._subplots.AxesSubplot at 0x7fb0a77110f0>"
            ]
          },
          "metadata": {
            "tags": []
          },
          "execution_count": 16
        },
        {
          "output_type": "display_data",
          "data": {
            "image/png": "[encoded data removed]",
            "text/plain": [
              "<Figure size 576x396 with 1 Axes>"
            ]
          },
          "metadata": {
            "tags": []
          }
        }
      ]
    },
    {
      "metadata": {
        "id": "LU3e9Kwq8r76",
        "colab_type": "text"
      },
      "cell_type": "markdown",
      "source": [
        "## Visualize overall rating by users"
      ]
    },
    {
      "metadata": {
        "id": "8p059Th88r7-",
        "colab_type": "code",
        "outputId": "4492187c-bc66-4e6a-89bb-a197b79c2a35",
        "colab": {
          "base_uri": "https://localhost:8080/",
          "height": 170
        }
      },
      "cell_type": "code",
      "source": [
        "ratings['Rating'].describe()"
      ],
      "execution_count": 0,
      "outputs": [
        {
          "output_type": "execute_result",
          "data": {
            "text/plain": [
              "count    1.000209e+06\n",
              "mean     3.581564e+00\n",
              "std      1.117102e+00\n",
              "min      1.000000e+00\n",
              "25%      3.000000e+00\n",
              "50%      4.000000e+00\n",
              "75%      4.000000e+00\n",
              "max      5.000000e+00\n",
              "Name: Rating, dtype: float64"
            ]
          },
          "metadata": {
            "tags": []
          },
          "execution_count": 17
        }
      ]
    },
    {
      "metadata": {
        "id": "2pArUcii8r8g",
        "colab_type": "code",
        "outputId": "f6742d32-c416-4418-c5aa-0f4649d204fb",
        "colab": {
          "base_uri": "https://localhost:8080/",
          "height": 378
        }
      },
      "cell_type": "code",
      "source": [
        "sns.countplot(x=\"Rating\", data=ratings, edgecolor=sns.color_palette(\"dark\", 4))"
      ],
      "execution_count": 0,
      "outputs": [
        {
          "output_type": "execute_result",
          "data": {
            "text/plain": [
              "<matplotlib.axes._subplots.AxesSubplot at 0x7fb0a7739b00>"
            ]
          },
          "metadata": {
            "tags": []
          },
          "execution_count": 18
        },
        {
          "output_type": "display_data",
          "data": {
            "image/png": "[encoded data removed]",
            "text/plain": [
              "<Figure size 576x396 with 1 Axes>"
            ]
          },
          "metadata": {
            "tags": []
          }
        }
      ]
    },
    {
      "metadata": {
        "id": "R2IHXuzF8r8w",
        "colab_type": "text"
      },
      "cell_type": "markdown",
      "source": [
        "## Find and visualize the user rating of the movie “Toy Story”"
      ]
    },
    {
      "metadata": {
        "id": "wFGnKRjJ8r8y",
        "colab_type": "code",
        "outputId": "b34e0456-99fc-4d22-93b0-3a4053bed1ad",
        "colab": {
          "base_uri": "https://localhost:8080/",
          "height": 204
        }
      },
      "cell_type": "code",
      "source": [
        "movies.head()"
      ],
      "execution_count": 0,
      "outputs": [
        {
          "output_type": "execute_result",
          "data": {
            "text/html": [
              "<div>\n",
              "<style scoped>\n",
              "    .dataframe tbody tr th:only-of-type {\n",
              "        vertical-align: middle;\n",
              "    }\n",
              "\n",
              "    .dataframe tbody tr th {\n",
              "        vertical-align: top;\n",
              "    }\n",
              "\n",
              "    .dataframe thead th {\n",
              "        text-align: right;\n",
              "    }\n",
              "</style>\n",
              "<table border=\"1\" class=\"dataframe\">\n",
              "  <thead>\n",
              "    <tr style=\"text-align: right;\">\n",
              "      <th></th>\n",
              "      <th>MovieId</th>\n",
              "      <th>Year</th>\n",
              "      <th>Title</th>\n",
              "      <th>Genre</th>\n",
              "    </tr>\n",
              "  </thead>\n",
              "  <tbody>\n",
              "    <tr>\n",
              "      <th>0</th>\n",
              "      <td>1</td>\n",
              "      <td>1995</td>\n",
              "      <td>Toy Story</td>\n",
              "      <td>Animation|Children's|Comedy</td>\n",
              "    </tr>\n",
              "    <tr>\n",
              "      <th>1</th>\n",
              "      <td>2</td>\n",
              "      <td>1995</td>\n",
              "      <td>Jumanji</td>\n",
              "      <td>Adventure|Children's|Fantasy</td>\n",
              "    </tr>\n",
              "    <tr>\n",
              "      <th>2</th>\n",
              "      <td>3</td>\n",
              "      <td>1995</td>\n",
              "      <td>Grumpier Old Men</td>\n",
              "      <td>Comedy|Romance</td>\n",
              "    </tr>\n",
              "    <tr>\n",
              "      <th>3</th>\n",
              "      <td>4</td>\n",
              "      <td>1995</td>\n",
              "      <td>Waiting to Exhale</td>\n",
              "      <td>Comedy|Drama</td>\n",
              "    </tr>\n",
              "    <tr>\n",
              "      <th>4</th>\n",
              "      <td>5</td>\n",
              "      <td>1995</td>\n",
              "      <td>Father of the Bride Part II</td>\n",
              "      <td>Comedy</td>\n",
              "    </tr>\n",
              "  </tbody>\n",
              "</table>\n",
              "</div>"
            ],
            "text/plain": [
              "   MovieId  Year                        Title                         Genre\n",
              "0        1  1995                    Toy Story   Animation|Children's|Comedy\n",
              "1        2  1995                      Jumanji  Adventure|Children's|Fantasy\n",
              "2        3  1995             Grumpier Old Men                Comedy|Romance\n",
              "3        4  1995            Waiting to Exhale                  Comedy|Drama\n",
              "4        5  1995  Father of the Bride Part II                        Comedy"
            ]
          },
          "metadata": {
            "tags": []
          },
          "execution_count": 19
        }
      ]
    },
    {
      "metadata": {
        "id": "IHFXFmaN8r9D",
        "colab_type": "code",
        "outputId": "89500230-a579-4c84-e263-b37e6fdb14c5",
        "colab": {
          "base_uri": "https://localhost:8080/",
          "height": 204
        }
      },
      "cell_type": "code",
      "source": [
        "ratings.head()"
      ],
      "execution_count": 0,
      "outputs": [
        {
          "output_type": "execute_result",
          "data": {
            "text/html": [
              "<div>\n",
              "<style scoped>\n",
              "    .dataframe tbody tr th:only-of-type {\n",
              "        vertical-align: middle;\n",
              "    }\n",
              "\n",
              "    .dataframe tbody tr th {\n",
              "        vertical-align: top;\n",
              "    }\n",
              "\n",
              "    .dataframe thead th {\n",
              "        text-align: right;\n",
              "    }\n",
              "</style>\n",
              "<table border=\"1\" class=\"dataframe\">\n",
              "  <thead>\n",
              "    <tr style=\"text-align: right;\">\n",
              "      <th></th>\n",
              "      <th>UserId</th>\n",
              "      <th>MovieId</th>\n",
              "      <th>Rating</th>\n",
              "      <th>Timestamp</th>\n",
              "    </tr>\n",
              "  </thead>\n",
              "  <tbody>\n",
              "    <tr>\n",
              "      <th>0</th>\n",
              "      <td>1</td>\n",
              "      <td>1193</td>\n",
              "      <td>5</td>\n",
              "      <td>978300760</td>\n",
              "    </tr>\n",
              "    <tr>\n",
              "      <th>1</th>\n",
              "      <td>1</td>\n",
              "      <td>661</td>\n",
              "      <td>3</td>\n",
              "      <td>978302109</td>\n",
              "    </tr>\n",
              "    <tr>\n",
              "      <th>2</th>\n",
              "      <td>1</td>\n",
              "      <td>914</td>\n",
              "      <td>3</td>\n",
              "      <td>978301968</td>\n",
              "    </tr>\n",
              "    <tr>\n",
              "      <th>3</th>\n",
              "      <td>1</td>\n",
              "      <td>3408</td>\n",
              "      <td>4</td>\n",
              "      <td>978300275</td>\n",
              "    </tr>\n",
              "    <tr>\n",
              "      <th>4</th>\n",
              "      <td>1</td>\n",
              "      <td>2355</td>\n",
              "      <td>5</td>\n",
              "      <td>978824291</td>\n",
              "    </tr>\n",
              "  </tbody>\n",
              "</table>\n",
              "</div>"
            ],
            "text/plain": [
              "   UserId  MovieId  Rating  Timestamp\n",
              "0       1     1193       5  978300760\n",
              "1       1      661       3  978302109\n",
              "2       1      914       3  978301968\n",
              "3       1     3408       4  978300275\n",
              "4       1     2355       5  978824291"
            ]
          },
          "metadata": {
            "tags": []
          },
          "execution_count": 20
        }
      ]
    },
    {
      "metadata": {
        "id": "dfEVT0Yl8r9f",
        "colab_type": "code",
        "outputId": "69d7f2ee-ecd4-477a-aabd-cda40589a15f",
        "colab": {
          "base_uri": "https://localhost:8080/",
          "height": 204
        }
      },
      "cell_type": "code",
      "source": [
        "new_movies= movies.merge(ratings, on='MovieId', how='inner')\n",
        "new_movies.head()"
      ],
      "execution_count": 0,
      "outputs": [
        {
          "output_type": "execute_result",
          "data": {
            "text/html": [
              "<div>\n",
              "<style scoped>\n",
              "    .dataframe tbody tr th:only-of-type {\n",
              "        vertical-align: middle;\n",
              "    }\n",
              "\n",
              "    .dataframe tbody tr th {\n",
              "        vertical-align: top;\n",
              "    }\n",
              "\n",
              "    .dataframe thead th {\n",
              "        text-align: right;\n",
              "    }\n",
              "</style>\n",
              "<table border=\"1\" class=\"dataframe\">\n",
              "  <thead>\n",
              "    <tr style=\"text-align: right;\">\n",
              "      <th></th>\n",
              "      <th>MovieId</th>\n",
              "      <th>Year</th>\n",
              "      <th>Title</th>\n",
              "      <th>Genre</th>\n",
              "      <th>UserId</th>\n",
              "      <th>Rating</th>\n",
              "      <th>Timestamp</th>\n",
              "    </tr>\n",
              "  </thead>\n",
              "  <tbody>\n",
              "    <tr>\n",
              "      <th>0</th>\n",
              "      <td>1</td>\n",
              "      <td>1995</td>\n",
              "      <td>Toy Story</td>\n",
              "      <td>Animation|Children's|Comedy</td>\n",
              "      <td>1</td>\n",
              "      <td>5</td>\n",
              "      <td>978824268</td>\n",
              "    </tr>\n",
              "    <tr>\n",
              "      <th>1</th>\n",
              "      <td>1</td>\n",
              "      <td>1995</td>\n",
              "      <td>Toy Story</td>\n",
              "      <td>Animation|Children's|Comedy</td>\n",
              "      <td>6</td>\n",
              "      <td>4</td>\n",
              "      <td>978237008</td>\n",
              "    </tr>\n",
              "    <tr>\n",
              "      <th>2</th>\n",
              "      <td>1</td>\n",
              "      <td>1995</td>\n",
              "      <td>Toy Story</td>\n",
              "      <td>Animation|Children's|Comedy</td>\n",
              "      <td>8</td>\n",
              "      <td>4</td>\n",
              "      <td>978233496</td>\n",
              "    </tr>\n",
              "    <tr>\n",
              "      <th>3</th>\n",
              "      <td>1</td>\n",
              "      <td>1995</td>\n",
              "      <td>Toy Story</td>\n",
              "      <td>Animation|Children's|Comedy</td>\n",
              "      <td>9</td>\n",
              "      <td>5</td>\n",
              "      <td>978225952</td>\n",
              "    </tr>\n",
              "    <tr>\n",
              "      <th>4</th>\n",
              "      <td>1</td>\n",
              "      <td>1995</td>\n",
              "      <td>Toy Story</td>\n",
              "      <td>Animation|Children's|Comedy</td>\n",
              "      <td>10</td>\n",
              "      <td>5</td>\n",
              "      <td>978226474</td>\n",
              "    </tr>\n",
              "  </tbody>\n",
              "</table>\n",
              "</div>"
            ],
            "text/plain": [
              "   MovieId  Year      Title                        Genre  UserId  Rating  \\\n",
              "0        1  1995  Toy Story  Animation|Children's|Comedy       1       5   \n",
              "1        1  1995  Toy Story  Animation|Children's|Comedy       6       4   \n",
              "2        1  1995  Toy Story  Animation|Children's|Comedy       8       4   \n",
              "3        1  1995  Toy Story  Animation|Children's|Comedy       9       5   \n",
              "4        1  1995  Toy Story  Animation|Children's|Comedy      10       5   \n",
              "\n",
              "   Timestamp  \n",
              "0  978824268  \n",
              "1  978237008  \n",
              "2  978233496  \n",
              "3  978225952  \n",
              "4  978226474  "
            ]
          },
          "metadata": {
            "tags": []
          },
          "execution_count": 21
        }
      ]
    },
    {
      "metadata": {
        "scrolled": true,
        "id": "6gT4vwlr8r-D",
        "colab_type": "code",
        "colab": {}
      },
      "cell_type": "code",
      "source": [
        "toy_story= new_movies.loc[new_movies['Title'] == 'Toy Story']"
      ],
      "execution_count": 0,
      "outputs": []
    },
    {
      "metadata": {
        "id": "oLCXtzJ08r-t",
        "colab_type": "code",
        "outputId": "80011bec-93ca-4af1-bf08-49fb083fbfa8",
        "colab": {
          "base_uri": "https://localhost:8080/",
          "height": 119
        }
      },
      "cell_type": "code",
      "source": [
        "toy_story['Rating'].value_counts()"
      ],
      "execution_count": 0,
      "outputs": [
        {
          "output_type": "execute_result",
          "data": {
            "text/plain": [
              "4    835\n",
              "5    820\n",
              "3    345\n",
              "2     61\n",
              "1     16\n",
              "Name: Rating, dtype: int64"
            ]
          },
          "metadata": {
            "tags": []
          },
          "execution_count": 23
        }
      ]
    },
    {
      "metadata": {
        "id": "-TDlVWxB8r-8",
        "colab_type": "code",
        "outputId": "4a304cd7-be1b-4df0-9606-605ddc63c1bc",
        "colab": {
          "base_uri": "https://localhost:8080/",
          "height": 361
        }
      },
      "cell_type": "code",
      "source": [
        "ax= sns.countplot(x=\"Rating\", data=toy_story, edgecolor=sns.color_palette(\"dark\", 4))\n",
        "ax.set(xlabel='Toy Story Ratings', ylabel='Count')\n",
        "plt.show()"
      ],
      "execution_count": 0,
      "outputs": [
        {
          "output_type": "display_data",
          "data": {
            "image/png": "[encoded data removed]",
            "text/plain": [
              "<Figure size 576x396 with 1 Axes>"
            ]
          },
          "metadata": {
            "tags": []
          }
        }
      ]
    },
    {
      "metadata": {
        "id": "2ImVYAcB8r_F",
        "colab_type": "text"
      },
      "cell_type": "markdown",
      "source": [
        "## Find and visualize the viewership of the movie “Toy Story” by age group"
      ]
    },
    {
      "metadata": {
        "id": "9MMGOWcc8r_I",
        "colab_type": "code",
        "outputId": "25c8648e-f86a-463f-a502-26859a843d45",
        "colab": {
          "base_uri": "https://localhost:8080/",
          "height": 204
        }
      },
      "cell_type": "code",
      "source": [
        "toy_story.head()"
      ],
      "execution_count": 0,
      "outputs": [
        {
          "output_type": "execute_result",
          "data": {
            "text/html": [
              "<div>\n",
              "<style scoped>\n",
              "    .dataframe tbody tr th:only-of-type {\n",
              "        vertical-align: middle;\n",
              "    }\n",
              "\n",
              "    .dataframe tbody tr th {\n",
              "        vertical-align: top;\n",
              "    }\n",
              "\n",
              "    .dataframe thead th {\n",
              "        text-align: right;\n",
              "    }\n",
              "</style>\n",
              "<table border=\"1\" class=\"dataframe\">\n",
              "  <thead>\n",
              "    <tr style=\"text-align: right;\">\n",
              "      <th></th>\n",
              "      <th>MovieId</th>\n",
              "      <th>Year</th>\n",
              "      <th>Title</th>\n",
              "      <th>Genre</th>\n",
              "      <th>UserId</th>\n",
              "      <th>Rating</th>\n",
              "      <th>Timestamp</th>\n",
              "    </tr>\n",
              "  </thead>\n",
              "  <tbody>\n",
              "    <tr>\n",
              "      <th>0</th>\n",
              "      <td>1</td>\n",
              "      <td>1995</td>\n",
              "      <td>Toy Story</td>\n",
              "      <td>Animation|Children's|Comedy</td>\n",
              "      <td>1</td>\n",
              "      <td>5</td>\n",
              "      <td>978824268</td>\n",
              "    </tr>\n",
              "    <tr>\n",
              "      <th>1</th>\n",
              "      <td>1</td>\n",
              "      <td>1995</td>\n",
              "      <td>Toy Story</td>\n",
              "      <td>Animation|Children's|Comedy</td>\n",
              "      <td>6</td>\n",
              "      <td>4</td>\n",
              "      <td>978237008</td>\n",
              "    </tr>\n",
              "    <tr>\n",
              "      <th>2</th>\n",
              "      <td>1</td>\n",
              "      <td>1995</td>\n",
              "      <td>Toy Story</td>\n",
              "      <td>Animation|Children's|Comedy</td>\n",
              "      <td>8</td>\n",
              "      <td>4</td>\n",
              "      <td>978233496</td>\n",
              "    </tr>\n",
              "    <tr>\n",
              "      <th>3</th>\n",
              "      <td>1</td>\n",
              "      <td>1995</td>\n",
              "      <td>Toy Story</td>\n",
              "      <td>Animation|Children's|Comedy</td>\n",
              "      <td>9</td>\n",
              "      <td>5</td>\n",
              "      <td>978225952</td>\n",
              "    </tr>\n",
              "    <tr>\n",
              "      <th>4</th>\n",
              "      <td>1</td>\n",
              "      <td>1995</td>\n",
              "      <td>Toy Story</td>\n",
              "      <td>Animation|Children's|Comedy</td>\n",
              "      <td>10</td>\n",
              "      <td>5</td>\n",
              "      <td>978226474</td>\n",
              "    </tr>\n",
              "  </tbody>\n",
              "</table>\n",
              "</div>"
            ],
            "text/plain": [
              "   MovieId  Year      Title                        Genre  UserId  Rating  \\\n",
              "0        1  1995  Toy Story  Animation|Children's|Comedy       1       5   \n",
              "1        1  1995  Toy Story  Animation|Children's|Comedy       6       4   \n",
              "2        1  1995  Toy Story  Animation|Children's|Comedy       8       4   \n",
              "3        1  1995  Toy Story  Animation|Children's|Comedy       9       5   \n",
              "4        1  1995  Toy Story  Animation|Children's|Comedy      10       5   \n",
              "\n",
              "   Timestamp  \n",
              "0  978824268  \n",
              "1  978237008  \n",
              "2  978233496  \n",
              "3  978225952  \n",
              "4  978226474  "
            ]
          },
          "metadata": {
            "tags": []
          },
          "execution_count": 25
        }
      ]
    },
    {
      "metadata": {
        "id": "w3X4nFi88r_T",
        "colab_type": "code",
        "outputId": "a39145d4-1636-4d5c-c31a-769605b4b9fc",
        "colab": {
          "base_uri": "https://localhost:8080/",
          "height": 204
        }
      },
      "cell_type": "code",
      "source": [
        "users.head()"
      ],
      "execution_count": 0,
      "outputs": [
        {
          "output_type": "execute_result",
          "data": {
            "text/html": [
              "<div>\n",
              "<style scoped>\n",
              "    .dataframe tbody tr th:only-of-type {\n",
              "        vertical-align: middle;\n",
              "    }\n",
              "\n",
              "    .dataframe tbody tr th {\n",
              "        vertical-align: top;\n",
              "    }\n",
              "\n",
              "    .dataframe thead th {\n",
              "        text-align: right;\n",
              "    }\n",
              "</style>\n",
              "<table border=\"1\" class=\"dataframe\">\n",
              "  <thead>\n",
              "    <tr style=\"text-align: right;\">\n",
              "      <th></th>\n",
              "      <th>UserId</th>\n",
              "      <th>Gender</th>\n",
              "      <th>Age</th>\n",
              "      <th>Occupation</th>\n",
              "      <th>ZipCode</th>\n",
              "    </tr>\n",
              "  </thead>\n",
              "  <tbody>\n",
              "    <tr>\n",
              "      <th>0</th>\n",
              "      <td>1</td>\n",
              "      <td>F</td>\n",
              "      <td>1</td>\n",
              "      <td>10</td>\n",
              "      <td>48067</td>\n",
              "    </tr>\n",
              "    <tr>\n",
              "      <th>1</th>\n",
              "      <td>2</td>\n",
              "      <td>M</td>\n",
              "      <td>56</td>\n",
              "      <td>16</td>\n",
              "      <td>70072</td>\n",
              "    </tr>\n",
              "    <tr>\n",
              "      <th>2</th>\n",
              "      <td>3</td>\n",
              "      <td>M</td>\n",
              "      <td>25</td>\n",
              "      <td>15</td>\n",
              "      <td>55117</td>\n",
              "    </tr>\n",
              "    <tr>\n",
              "      <th>3</th>\n",
              "      <td>4</td>\n",
              "      <td>M</td>\n",
              "      <td>45</td>\n",
              "      <td>7</td>\n",
              "      <td>02460</td>\n",
              "    </tr>\n",
              "    <tr>\n",
              "      <th>4</th>\n",
              "      <td>5</td>\n",
              "      <td>M</td>\n",
              "      <td>25</td>\n",
              "      <td>20</td>\n",
              "      <td>55455</td>\n",
              "    </tr>\n",
              "  </tbody>\n",
              "</table>\n",
              "</div>"
            ],
            "text/plain": [
              "   UserId Gender  Age  Occupation ZipCode\n",
              "0       1      F    1          10   48067\n",
              "1       2      M   56          16   70072\n",
              "2       3      M   25          15   55117\n",
              "3       4      M   45           7   02460\n",
              "4       5      M   25          20   55455"
            ]
          },
          "metadata": {
            "tags": []
          },
          "execution_count": 26
        }
      ]
    },
    {
      "metadata": {
        "id": "5OziC2hH8r_i",
        "colab_type": "code",
        "outputId": "336d9f94-799f-4d4b-b540-138780f7b531",
        "colab": {
          "base_uri": "https://localhost:8080/",
          "height": 235
        }
      },
      "cell_type": "code",
      "source": [
        "users.loc[users.ZipCode == '48067']"
      ],
      "execution_count": 0,
      "outputs": [
        {
          "output_type": "execute_result",
          "data": {
            "text/html": [
              "<div>\n",
              "<style scoped>\n",
              "    .dataframe tbody tr th:only-of-type {\n",
              "        vertical-align: middle;\n",
              "    }\n",
              "\n",
              "    .dataframe tbody tr th {\n",
              "        vertical-align: top;\n",
              "    }\n",
              "\n",
              "    .dataframe thead th {\n",
              "        text-align: right;\n",
              "    }\n",
              "</style>\n",
              "<table border=\"1\" class=\"dataframe\">\n",
              "  <thead>\n",
              "    <tr style=\"text-align: right;\">\n",
              "      <th></th>\n",
              "      <th>UserId</th>\n",
              "      <th>Gender</th>\n",
              "      <th>Age</th>\n",
              "      <th>Occupation</th>\n",
              "      <th>ZipCode</th>\n",
              "    </tr>\n",
              "  </thead>\n",
              "  <tbody>\n",
              "    <tr>\n",
              "      <th>0</th>\n",
              "      <td>1</td>\n",
              "      <td>F</td>\n",
              "      <td>1</td>\n",
              "      <td>10</td>\n",
              "      <td>48067</td>\n",
              "    </tr>\n",
              "    <tr>\n",
              "      <th>582</th>\n",
              "      <td>583</td>\n",
              "      <td>F</td>\n",
              "      <td>25</td>\n",
              "      <td>0</td>\n",
              "      <td>48067</td>\n",
              "    </tr>\n",
              "    <tr>\n",
              "      <th>1509</th>\n",
              "      <td>1510</td>\n",
              "      <td>F</td>\n",
              "      <td>25</td>\n",
              "      <td>1</td>\n",
              "      <td>48067</td>\n",
              "    </tr>\n",
              "    <tr>\n",
              "      <th>2097</th>\n",
              "      <td>2098</td>\n",
              "      <td>M</td>\n",
              "      <td>35</td>\n",
              "      <td>20</td>\n",
              "      <td>48067</td>\n",
              "    </tr>\n",
              "    <tr>\n",
              "      <th>4516</th>\n",
              "      <td>4517</td>\n",
              "      <td>F</td>\n",
              "      <td>18</td>\n",
              "      <td>1</td>\n",
              "      <td>48067</td>\n",
              "    </tr>\n",
              "    <tr>\n",
              "      <th>4951</th>\n",
              "      <td>4952</td>\n",
              "      <td>F</td>\n",
              "      <td>25</td>\n",
              "      <td>14</td>\n",
              "      <td>48067</td>\n",
              "    </tr>\n",
              "  </tbody>\n",
              "</table>\n",
              "</div>"
            ],
            "text/plain": [
              "      UserId Gender  Age  Occupation ZipCode\n",
              "0          1      F    1          10   48067\n",
              "582      583      F   25           0   48067\n",
              "1509    1510      F   25           1   48067\n",
              "2097    2098      M   35          20   48067\n",
              "4516    4517      F   18           1   48067\n",
              "4951    4952      F   25          14   48067"
            ]
          },
          "metadata": {
            "tags": []
          },
          "execution_count": 27
        }
      ]
    },
    {
      "metadata": {
        "id": "4sCOj6lg8r_t",
        "colab_type": "code",
        "colab": {}
      },
      "cell_type": "code",
      "source": [
        "new_toy_story= toy_story.merge(users, on= 'UserId', how='inner')"
      ],
      "execution_count": 0,
      "outputs": []
    },
    {
      "metadata": {
        "id": "17OUGm7E8r_0",
        "colab_type": "code",
        "outputId": "ec31a28f-e9f4-420e-9372-1249ddeb559c",
        "colab": {
          "base_uri": "https://localhost:8080/",
          "height": 204
        }
      },
      "cell_type": "code",
      "source": [
        "new_toy_story.head()"
      ],
      "execution_count": 0,
      "outputs": [
        {
          "output_type": "execute_result",
          "data": {
            "text/html": [
              "<div>\n",
              "<style scoped>\n",
              "    .dataframe tbody tr th:only-of-type {\n",
              "        vertical-align: middle;\n",
              "    }\n",
              "\n",
              "    .dataframe tbody tr th {\n",
              "        vertical-align: top;\n",
              "    }\n",
              "\n",
              "    .dataframe thead th {\n",
              "        text-align: right;\n",
              "    }\n",
              "</style>\n",
              "<table border=\"1\" class=\"dataframe\">\n",
              "  <thead>\n",
              "    <tr style=\"text-align: right;\">\n",
              "      <th></th>\n",
              "      <th>MovieId</th>\n",
              "      <th>Year</th>\n",
              "      <th>Title</th>\n",
              "      <th>Genre</th>\n",
              "      <th>UserId</th>\n",
              "      <th>Rating</th>\n",
              "      <th>Timestamp</th>\n",
              "      <th>Gender</th>\n",
              "      <th>Age</th>\n",
              "      <th>Occupation</th>\n",
              "      <th>ZipCode</th>\n",
              "    </tr>\n",
              "  </thead>\n",
              "  <tbody>\n",
              "    <tr>\n",
              "      <th>0</th>\n",
              "      <td>1</td>\n",
              "      <td>1995</td>\n",
              "      <td>Toy Story</td>\n",
              "      <td>Animation|Children's|Comedy</td>\n",
              "      <td>1</td>\n",
              "      <td>5</td>\n",
              "      <td>978824268</td>\n",
              "      <td>F</td>\n",
              "      <td>1</td>\n",
              "      <td>10</td>\n",
              "      <td>48067</td>\n",
              "    </tr>\n",
              "    <tr>\n",
              "      <th>1</th>\n",
              "      <td>1</td>\n",
              "      <td>1995</td>\n",
              "      <td>Toy Story</td>\n",
              "      <td>Animation|Children's|Comedy</td>\n",
              "      <td>6</td>\n",
              "      <td>4</td>\n",
              "      <td>978237008</td>\n",
              "      <td>F</td>\n",
              "      <td>50</td>\n",
              "      <td>9</td>\n",
              "      <td>55117</td>\n",
              "    </tr>\n",
              "    <tr>\n",
              "      <th>2</th>\n",
              "      <td>1</td>\n",
              "      <td>1995</td>\n",
              "      <td>Toy Story</td>\n",
              "      <td>Animation|Children's|Comedy</td>\n",
              "      <td>8</td>\n",
              "      <td>4</td>\n",
              "      <td>978233496</td>\n",
              "      <td>M</td>\n",
              "      <td>25</td>\n",
              "      <td>12</td>\n",
              "      <td>11413</td>\n",
              "    </tr>\n",
              "    <tr>\n",
              "      <th>3</th>\n",
              "      <td>1</td>\n",
              "      <td>1995</td>\n",
              "      <td>Toy Story</td>\n",
              "      <td>Animation|Children's|Comedy</td>\n",
              "      <td>9</td>\n",
              "      <td>5</td>\n",
              "      <td>978225952</td>\n",
              "      <td>M</td>\n",
              "      <td>25</td>\n",
              "      <td>17</td>\n",
              "      <td>61614</td>\n",
              "    </tr>\n",
              "    <tr>\n",
              "      <th>4</th>\n",
              "      <td>1</td>\n",
              "      <td>1995</td>\n",
              "      <td>Toy Story</td>\n",
              "      <td>Animation|Children's|Comedy</td>\n",
              "      <td>10</td>\n",
              "      <td>5</td>\n",
              "      <td>978226474</td>\n",
              "      <td>F</td>\n",
              "      <td>35</td>\n",
              "      <td>1</td>\n",
              "      <td>95370</td>\n",
              "    </tr>\n",
              "  </tbody>\n",
              "</table>\n",
              "</div>"
            ],
            "text/plain": [
              "   MovieId  Year      Title                        Genre  UserId  Rating  \\\n",
              "0        1  1995  Toy Story  Animation|Children's|Comedy       1       5   \n",
              "1        1  1995  Toy Story  Animation|Children's|Comedy       6       4   \n",
              "2        1  1995  Toy Story  Animation|Children's|Comedy       8       4   \n",
              "3        1  1995  Toy Story  Animation|Children's|Comedy       9       5   \n",
              "4        1  1995  Toy Story  Animation|Children's|Comedy      10       5   \n",
              "\n",
              "   Timestamp Gender  Age  Occupation ZipCode  \n",
              "0  978824268      F    1          10   48067  \n",
              "1  978237008      F   50           9   55117  \n",
              "2  978233496      M   25          12   11413  \n",
              "3  978225952      M   25          17   61614  \n",
              "4  978226474      F   35           1   95370  "
            ]
          },
          "metadata": {
            "tags": []
          },
          "execution_count": 29
        }
      ]
    },
    {
      "metadata": {
        "id": "nHQEckJV8sAU",
        "colab_type": "code",
        "outputId": "74e79981-1410-45a2-903d-423457345f25",
        "colab": {
          "base_uri": "https://localhost:8080/",
          "height": 153
        }
      },
      "cell_type": "code",
      "source": [
        "new_toy_story['Age'].value_counts()"
      ],
      "execution_count": 0,
      "outputs": [
        {
          "output_type": "execute_result",
          "data": {
            "text/plain": [
              "25    790\n",
              "18    448\n",
              "35    423\n",
              "45    143\n",
              "1     112\n",
              "50    108\n",
              "56     53\n",
              "Name: Age, dtype: int64"
            ]
          },
          "metadata": {
            "tags": []
          },
          "execution_count": 30
        }
      ]
    },
    {
      "metadata": {
        "id": "iklOmAcG8sAn",
        "colab_type": "code",
        "outputId": "b04d9048-665b-4623-8439-0877ed2273b9",
        "colab": {
          "base_uri": "https://localhost:8080/",
          "height": 361
        }
      },
      "cell_type": "code",
      "source": [
        "ax = sns.countplot(x=\"Age\", data=new_toy_story, edgecolor=sns.color_palette(\"dark\", 4))\n",
        "ax.set(xlabel= 'Age', ylabel=\"Count\")\n",
        "plt.show()"
      ],
      "execution_count": 0,
      "outputs": [
        {
          "output_type": "display_data",
          "data": {
            "image/png": "[encoded data removed]",
            "text/plain": [
              "<Figure size 576x396 with 1 Axes>"
            ]
          },
          "metadata": {
            "tags": []
          }
        }
      ]
    },
    {
      "metadata": {
        "id": "3HoiNsxt8sA3",
        "colab_type": "text"
      },
      "cell_type": "markdown",
      "source": [
        "## Find and visualize the top 25 movies by viewership rating"
      ]
    },
    {
      "metadata": {
        "id": "eC02yCQl8sA6",
        "colab_type": "code",
        "colab": {}
      },
      "cell_type": "code",
      "source": [
        "new_merged= movies.merge(ratings , on= 'MovieId', how= 'inner').merge(users, on= 'UserId', how= 'inner')"
      ],
      "execution_count": 0,
      "outputs": []
    },
    {
      "metadata": {
        "id": "z5AZGrJL8sBD",
        "colab_type": "code",
        "outputId": "d89e17ee-07ce-4753-9b94-4913767ee33e",
        "colab": {
          "base_uri": "https://localhost:8080/",
          "height": 204
        }
      },
      "cell_type": "code",
      "source": [
        "new_merged.head()"
      ],
      "execution_count": 0,
      "outputs": [
        {
          "output_type": "execute_result",
          "data": {
            "text/html": [
              "<div>\n",
              "<style scoped>\n",
              "    .dataframe tbody tr th:only-of-type {\n",
              "        vertical-align: middle;\n",
              "    }\n",
              "\n",
              "    .dataframe tbody tr th {\n",
              "        vertical-align: top;\n",
              "    }\n",
              "\n",
              "    .dataframe thead th {\n",
              "        text-align: right;\n",
              "    }\n",
              "</style>\n",
              "<table border=\"1\" class=\"dataframe\">\n",
              "  <thead>\n",
              "    <tr style=\"text-align: right;\">\n",
              "      <th></th>\n",
              "      <th>MovieId</th>\n",
              "      <th>Year</th>\n",
              "      <th>Title</th>\n",
              "      <th>Genre</th>\n",
              "      <th>UserId</th>\n",
              "      <th>Rating</th>\n",
              "      <th>Timestamp</th>\n",
              "      <th>Gender</th>\n",
              "      <th>Age</th>\n",
              "      <th>Occupation</th>\n",
              "      <th>ZipCode</th>\n",
              "    </tr>\n",
              "  </thead>\n",
              "  <tbody>\n",
              "    <tr>\n",
              "      <th>0</th>\n",
              "      <td>1</td>\n",
              "      <td>1995</td>\n",
              "      <td>Toy Story</td>\n",
              "      <td>Animation|Children's|Comedy</td>\n",
              "      <td>1</td>\n",
              "      <td>5</td>\n",
              "      <td>978824268</td>\n",
              "      <td>F</td>\n",
              "      <td>1</td>\n",
              "      <td>10</td>\n",
              "      <td>48067</td>\n",
              "    </tr>\n",
              "    <tr>\n",
              "      <th>1</th>\n",
              "      <td>48</td>\n",
              "      <td>1995</td>\n",
              "      <td>Pocahontas</td>\n",
              "      <td>Animation|Children's|Musical|Romance</td>\n",
              "      <td>1</td>\n",
              "      <td>5</td>\n",
              "      <td>978824351</td>\n",
              "      <td>F</td>\n",
              "      <td>1</td>\n",
              "      <td>10</td>\n",
              "      <td>48067</td>\n",
              "    </tr>\n",
              "    <tr>\n",
              "      <th>2</th>\n",
              "      <td>150</td>\n",
              "      <td>1995</td>\n",
              "      <td>Apollo 13</td>\n",
              "      <td>Drama</td>\n",
              "      <td>1</td>\n",
              "      <td>5</td>\n",
              "      <td>978301777</td>\n",
              "      <td>F</td>\n",
              "      <td>1</td>\n",
              "      <td>10</td>\n",
              "      <td>48067</td>\n",
              "    </tr>\n",
              "    <tr>\n",
              "      <th>3</th>\n",
              "      <td>260</td>\n",
              "      <td>1977</td>\n",
              "      <td>Star Wars: Episode IV - A New Hope</td>\n",
              "      <td>Action|Adventure|Fantasy|Sci-Fi</td>\n",
              "      <td>1</td>\n",
              "      <td>4</td>\n",
              "      <td>978300760</td>\n",
              "      <td>F</td>\n",
              "      <td>1</td>\n",
              "      <td>10</td>\n",
              "      <td>48067</td>\n",
              "    </tr>\n",
              "    <tr>\n",
              "      <th>4</th>\n",
              "      <td>527</td>\n",
              "      <td>1993</td>\n",
              "      <td>Schindler's List</td>\n",
              "      <td>Drama|War</td>\n",
              "      <td>1</td>\n",
              "      <td>5</td>\n",
              "      <td>978824195</td>\n",
              "      <td>F</td>\n",
              "      <td>1</td>\n",
              "      <td>10</td>\n",
              "      <td>48067</td>\n",
              "    </tr>\n",
              "  </tbody>\n",
              "</table>\n",
              "</div>"
            ],
            "text/plain": [
              "   MovieId  Year                               Title  \\\n",
              "0        1  1995                           Toy Story   \n",
              "1       48  1995                          Pocahontas   \n",
              "2      150  1995                           Apollo 13   \n",
              "3      260  1977  Star Wars: Episode IV - A New Hope   \n",
              "4      527  1993                    Schindler's List   \n",
              "\n",
              "                                  Genre  UserId  Rating  Timestamp Gender  \\\n",
              "0           Animation|Children's|Comedy       1       5  978824268      F   \n",
              "1  Animation|Children's|Musical|Romance       1       5  978824351      F   \n",
              "2                                 Drama       1       5  978301777      F   \n",
              "3       Action|Adventure|Fantasy|Sci-Fi       1       4  978300760      F   \n",
              "4                             Drama|War       1       5  978824195      F   \n",
              "\n",
              "   Age  Occupation ZipCode  \n",
              "0    1          10   48067  \n",
              "1    1          10   48067  \n",
              "2    1          10   48067  \n",
              "3    1          10   48067  \n",
              "4    1          10   48067  "
            ]
          },
          "metadata": {
            "tags": []
          },
          "execution_count": 33
        }
      ]
    },
    {
      "metadata": {
        "id": "85d2-9DG8sBh",
        "colab_type": "code",
        "colab": {}
      },
      "cell_type": "code",
      "source": [
        "most_rated= new_merged.groupby('Title').size().sort_values(ascending=False)[:25]"
      ],
      "execution_count": 0,
      "outputs": []
    },
    {
      "metadata": {
        "id": "pB-c4ChN8sBn",
        "colab_type": "code",
        "outputId": "e35b529e-ab72-4d53-bbce-49a9b0da2cb7",
        "colab": {
          "base_uri": "https://localhost:8080/",
          "height": 476
        }
      },
      "cell_type": "code",
      "source": [
        "most_rated"
      ],
      "execution_count": 0,
      "outputs": [
        {
          "output_type": "execute_result",
          "data": {
            "text/plain": [
              "Title\n",
              "American Beauty                                   3428\n",
              "Star Wars: Episode IV - A New Hope                2991\n",
              "Star Wars: Episode V - The Empire Strikes Back    2990\n",
              "Star Wars: Episode VI - Return of the Jedi        2883\n",
              "Jurassic Park                                     2672\n",
              "Saving Private Ryan                               2653\n",
              "Terminator 2: Judgment Day                        2649\n",
              "Matrix, The                                       2590\n",
              "Back to the Future                                2583\n",
              "Silence of the Lambs, The                         2578\n",
              "Men in Black                                      2538\n",
              "Raiders of the Lost Ark                           2514\n",
              "Fargo                                             2513\n",
              "Sixth Sense, The                                  2459\n",
              "Braveheart                                        2443\n",
              "Shakespeare in Love                               2369\n",
              "Princess Bride, The                               2318\n",
              "Schindler's List                                  2304\n",
              "L.A. Confidential                                 2288\n",
              "Groundhog Day                                     2278\n",
              "E.T. the Extra-Terrestrial                        2269\n",
              "Star Wars: Episode I - The Phantom Menace         2250\n",
              "Being John Malkovich                              2241\n",
              "Shawshank Redemption, The                         2227\n",
              "Godfather, The                                    2223\n",
              "dtype: int64"
            ]
          },
          "metadata": {
            "tags": []
          },
          "execution_count": 35
        }
      ]
    },
    {
      "metadata": {
        "scrolled": false,
        "id": "wtXe1J-a8sBw",
        "colab_type": "code",
        "outputId": "367013a9-e921-4505-b389-9544eed40e58",
        "colab": {
          "base_uri": "https://localhost:8080/",
          "height": 647
        }
      },
      "cell_type": "code",
      "source": [
        "fig, ax = plt.subplots()\n",
        "fig.set_size_inches(20, 7)\n",
        "ax.set_xticklabels(most_rated.index, rotation=90)\n",
        "ax= sns.barplot(x=most_rated.index ,y=most_rated, edgecolor=sns.color_palette(\"dark\", 4))"
      ],
      "execution_count": 0,
      "outputs": [
        {
          "output_type": "display_data",
          "data": {
            "image/png": "[encoded data removed]",
            "text/plain": [
              "<Figure size 1440x504 with 1 Axes>"
            ]
          },
          "metadata": {
            "tags": []
          }
        }
      ]
    },
    {
      "metadata": {
        "id": "pPjncrwh8sB4",
        "colab_type": "text"
      },
      "cell_type": "markdown",
      "source": [
        "## Find the rating for a particular user of user id = 2696\n",
        "\n"
      ]
    },
    {
      "metadata": {
        "id": "YiJk9TQR8sB6",
        "colab_type": "code",
        "colab": {}
      },
      "cell_type": "code",
      "source": [
        "for_2696= new_merged.loc[ new_merged['UserId']== 2696 ]"
      ],
      "execution_count": 0,
      "outputs": []
    },
    {
      "metadata": {
        "id": "Y1vKowSF8sCB",
        "colab_type": "code",
        "outputId": "e903f7e1-c007-4515-9ff6-fa812d284e72",
        "colab": {
          "base_uri": "https://localhost:8080/",
          "height": 669
        }
      },
      "cell_type": "code",
      "source": [
        "for_2696"
      ],
      "execution_count": 0,
      "outputs": [
        {
          "output_type": "execute_result",
          "data": {
            "text/html": [
              "<div>\n",
              "<style scoped>\n",
              "    .dataframe tbody tr th:only-of-type {\n",
              "        vertical-align: middle;\n",
              "    }\n",
              "\n",
              "    .dataframe tbody tr th {\n",
              "        vertical-align: top;\n",
              "    }\n",
              "\n",
              "    .dataframe thead th {\n",
              "        text-align: right;\n",
              "    }\n",
              "</style>\n",
              "<table border=\"1\" class=\"dataframe\">\n",
              "  <thead>\n",
              "    <tr style=\"text-align: right;\">\n",
              "      <th></th>\n",
              "      <th>MovieId</th>\n",
              "      <th>Year</th>\n",
              "      <th>Title</th>\n",
              "      <th>Genre</th>\n",
              "      <th>UserId</th>\n",
              "      <th>Rating</th>\n",
              "      <th>Timestamp</th>\n",
              "      <th>Gender</th>\n",
              "      <th>Age</th>\n",
              "      <th>Occupation</th>\n",
              "      <th>ZipCode</th>\n",
              "    </tr>\n",
              "  </thead>\n",
              "  <tbody>\n",
              "    <tr>\n",
              "      <th>991035</th>\n",
              "      <td>350</td>\n",
              "      <td>1994</td>\n",
              "      <td>Client, The</td>\n",
              "      <td>Drama|Mystery|Thriller</td>\n",
              "      <td>2696</td>\n",
              "      <td>3</td>\n",
              "      <td>973308886</td>\n",
              "      <td>M</td>\n",
              "      <td>25</td>\n",
              "      <td>7</td>\n",
              "      <td>24210</td>\n",
              "    </tr>\n",
              "    <tr>\n",
              "      <th>991036</th>\n",
              "      <td>800</td>\n",
              "      <td>1996</td>\n",
              "      <td>Lone Star</td>\n",
              "      <td>Drama|Mystery</td>\n",
              "      <td>2696</td>\n",
              "      <td>5</td>\n",
              "      <td>973308842</td>\n",
              "      <td>M</td>\n",
              "      <td>25</td>\n",
              "      <td>7</td>\n",
              "      <td>24210</td>\n",
              "    </tr>\n",
              "    <tr>\n",
              "      <th>991037</th>\n",
              "      <td>1092</td>\n",
              "      <td>1992</td>\n",
              "      <td>Basic Instinct</td>\n",
              "      <td>Mystery|Thriller</td>\n",
              "      <td>2696</td>\n",
              "      <td>4</td>\n",
              "      <td>973308886</td>\n",
              "      <td>M</td>\n",
              "      <td>25</td>\n",
              "      <td>7</td>\n",
              "      <td>24210</td>\n",
              "    </tr>\n",
              "    <tr>\n",
              "      <th>991038</th>\n",
              "      <td>1097</td>\n",
              "      <td>1982</td>\n",
              "      <td>E.T. the Extra-Terrestrial</td>\n",
              "      <td>Children's|Drama|Fantasy|Sci-Fi</td>\n",
              "      <td>2696</td>\n",
              "      <td>3</td>\n",
              "      <td>973308690</td>\n",
              "      <td>M</td>\n",
              "      <td>25</td>\n",
              "      <td>7</td>\n",
              "      <td>24210</td>\n",
              "    </tr>\n",
              "    <tr>\n",
              "      <th>991039</th>\n",
              "      <td>1258</td>\n",
              "      <td>1980</td>\n",
              "      <td>Shining, The</td>\n",
              "      <td>Horror</td>\n",
              "      <td>2696</td>\n",
              "      <td>4</td>\n",
              "      <td>973308710</td>\n",
              "      <td>M</td>\n",
              "      <td>25</td>\n",
              "      <td>7</td>\n",
              "      <td>24210</td>\n",
              "    </tr>\n",
              "    <tr>\n",
              "      <th>991040</th>\n",
              "      <td>1270</td>\n",
              "      <td>1985</td>\n",
              "      <td>Back to the Future</td>\n",
              "      <td>Comedy|Sci-Fi</td>\n",
              "      <td>2696</td>\n",
              "      <td>2</td>\n",
              "      <td>973308676</td>\n",
              "      <td>M</td>\n",
              "      <td>25</td>\n",
              "      <td>7</td>\n",
              "      <td>24210</td>\n",
              "    </tr>\n",
              "    <tr>\n",
              "      <th>991041</th>\n",
              "      <td>1589</td>\n",
              "      <td>1997</td>\n",
              "      <td>Cop Land</td>\n",
              "      <td>Crime|Drama|Mystery</td>\n",
              "      <td>2696</td>\n",
              "      <td>3</td>\n",
              "      <td>973308865</td>\n",
              "      <td>M</td>\n",
              "      <td>25</td>\n",
              "      <td>7</td>\n",
              "      <td>24210</td>\n",
              "    </tr>\n",
              "    <tr>\n",
              "      <th>991042</th>\n",
              "      <td>1617</td>\n",
              "      <td>1997</td>\n",
              "      <td>L.A. Confidential</td>\n",
              "      <td>Crime|Film-Noir|Mystery|Thriller</td>\n",
              "      <td>2696</td>\n",
              "      <td>4</td>\n",
              "      <td>973308842</td>\n",
              "      <td>M</td>\n",
              "      <td>25</td>\n",
              "      <td>7</td>\n",
              "      <td>24210</td>\n",
              "    </tr>\n",
              "    <tr>\n",
              "      <th>991043</th>\n",
              "      <td>1625</td>\n",
              "      <td>1997</td>\n",
              "      <td>Game, The</td>\n",
              "      <td>Mystery|Thriller</td>\n",
              "      <td>2696</td>\n",
              "      <td>4</td>\n",
              "      <td>973308842</td>\n",
              "      <td>M</td>\n",
              "      <td>25</td>\n",
              "      <td>7</td>\n",
              "      <td>24210</td>\n",
              "    </tr>\n",
              "    <tr>\n",
              "      <th>991044</th>\n",
              "      <td>1644</td>\n",
              "      <td>1997</td>\n",
              "      <td>I Know What You Did Last Summer</td>\n",
              "      <td>Horror|Mystery|Thriller</td>\n",
              "      <td>2696</td>\n",
              "      <td>2</td>\n",
              "      <td>973308920</td>\n",
              "      <td>M</td>\n",
              "      <td>25</td>\n",
              "      <td>7</td>\n",
              "      <td>24210</td>\n",
              "    </tr>\n",
              "    <tr>\n",
              "      <th>991045</th>\n",
              "      <td>1645</td>\n",
              "      <td>1997</td>\n",
              "      <td>Devil's Advocate, The</td>\n",
              "      <td>Crime|Horror|Mystery|Thriller</td>\n",
              "      <td>2696</td>\n",
              "      <td>4</td>\n",
              "      <td>973308904</td>\n",
              "      <td>M</td>\n",
              "      <td>25</td>\n",
              "      <td>7</td>\n",
              "      <td>24210</td>\n",
              "    </tr>\n",
              "    <tr>\n",
              "      <th>991046</th>\n",
              "      <td>1711</td>\n",
              "      <td>1997</td>\n",
              "      <td>Midnight in the Garden of Good and Evil</td>\n",
              "      <td>Comedy|Crime|Drama|Mystery</td>\n",
              "      <td>2696</td>\n",
              "      <td>4</td>\n",
              "      <td>973308904</td>\n",
              "      <td>M</td>\n",
              "      <td>25</td>\n",
              "      <td>7</td>\n",
              "      <td>24210</td>\n",
              "    </tr>\n",
              "    <tr>\n",
              "      <th>991047</th>\n",
              "      <td>1783</td>\n",
              "      <td>1998</td>\n",
              "      <td>Palmetto</td>\n",
              "      <td>Film-Noir|Mystery|Thriller</td>\n",
              "      <td>2696</td>\n",
              "      <td>4</td>\n",
              "      <td>973308865</td>\n",
              "      <td>M</td>\n",
              "      <td>25</td>\n",
              "      <td>7</td>\n",
              "      <td>24210</td>\n",
              "    </tr>\n",
              "    <tr>\n",
              "      <th>991048</th>\n",
              "      <td>1805</td>\n",
              "      <td>1998</td>\n",
              "      <td>Wild Things</td>\n",
              "      <td>Crime|Drama|Mystery|Thriller</td>\n",
              "      <td>2696</td>\n",
              "      <td>4</td>\n",
              "      <td>973308886</td>\n",
              "      <td>M</td>\n",
              "      <td>25</td>\n",
              "      <td>7</td>\n",
              "      <td>24210</td>\n",
              "    </tr>\n",
              "    <tr>\n",
              "      <th>991049</th>\n",
              "      <td>1892</td>\n",
              "      <td>1998</td>\n",
              "      <td>Perfect Murder, A</td>\n",
              "      <td>Mystery|Thriller</td>\n",
              "      <td>2696</td>\n",
              "      <td>4</td>\n",
              "      <td>973308904</td>\n",
              "      <td>M</td>\n",
              "      <td>25</td>\n",
              "      <td>7</td>\n",
              "      <td>24210</td>\n",
              "    </tr>\n",
              "    <tr>\n",
              "      <th>991050</th>\n",
              "      <td>2338</td>\n",
              "      <td>1998</td>\n",
              "      <td>I Still Know What You Did Last Summer</td>\n",
              "      <td>Horror|Mystery|Thriller</td>\n",
              "      <td>2696</td>\n",
              "      <td>2</td>\n",
              "      <td>973308920</td>\n",
              "      <td>M</td>\n",
              "      <td>25</td>\n",
              "      <td>7</td>\n",
              "      <td>24210</td>\n",
              "    </tr>\n",
              "    <tr>\n",
              "      <th>991051</th>\n",
              "      <td>2389</td>\n",
              "      <td>1998</td>\n",
              "      <td>Psycho</td>\n",
              "      <td>Crime|Horror|Thriller</td>\n",
              "      <td>2696</td>\n",
              "      <td>4</td>\n",
              "      <td>973308710</td>\n",
              "      <td>M</td>\n",
              "      <td>25</td>\n",
              "      <td>7</td>\n",
              "      <td>24210</td>\n",
              "    </tr>\n",
              "    <tr>\n",
              "      <th>991052</th>\n",
              "      <td>2713</td>\n",
              "      <td>1999</td>\n",
              "      <td>Lake Placid</td>\n",
              "      <td>Horror|Thriller</td>\n",
              "      <td>2696</td>\n",
              "      <td>1</td>\n",
              "      <td>973308710</td>\n",
              "      <td>M</td>\n",
              "      <td>25</td>\n",
              "      <td>7</td>\n",
              "      <td>24210</td>\n",
              "    </tr>\n",
              "    <tr>\n",
              "      <th>991053</th>\n",
              "      <td>3176</td>\n",
              "      <td>1999</td>\n",
              "      <td>Talented Mr. Ripley, The</td>\n",
              "      <td>Drama|Mystery|Thriller</td>\n",
              "      <td>2696</td>\n",
              "      <td>4</td>\n",
              "      <td>973308865</td>\n",
              "      <td>M</td>\n",
              "      <td>25</td>\n",
              "      <td>7</td>\n",
              "      <td>24210</td>\n",
              "    </tr>\n",
              "    <tr>\n",
              "      <th>991054</th>\n",
              "      <td>3386</td>\n",
              "      <td>1991</td>\n",
              "      <td>JFK</td>\n",
              "      <td>Drama|Mystery</td>\n",
              "      <td>2696</td>\n",
              "      <td>1</td>\n",
              "      <td>973308842</td>\n",
              "      <td>M</td>\n",
              "      <td>25</td>\n",
              "      <td>7</td>\n",
              "      <td>24210</td>\n",
              "    </tr>\n",
              "  </tbody>\n",
              "</table>\n",
              "</div>"
            ],
            "text/plain": [
              "        MovieId  Year                                    Title  \\\n",
              "991035      350  1994                              Client, The   \n",
              "991036      800  1996                                Lone Star   \n",
              "991037     1092  1992                           Basic Instinct   \n",
              "991038     1097  1982               E.T. the Extra-Terrestrial   \n",
              "991039     1258  1980                             Shining, The   \n",
              "991040     1270  1985                       Back to the Future   \n",
              "991041     1589  1997                                 Cop Land   \n",
              "991042     1617  1997                        L.A. Confidential   \n",
              "991043     1625  1997                                Game, The   \n",
              "991044     1644  1997          I Know What You Did Last Summer   \n",
              "991045     1645  1997                    Devil's Advocate, The   \n",
              "991046     1711  1997  Midnight in the Garden of Good and Evil   \n",
              "991047     1783  1998                                 Palmetto   \n",
              "991048     1805  1998                              Wild Things   \n",
              "991049     1892  1998                        Perfect Murder, A   \n",
              "991050     2338  1998    I Still Know What You Did Last Summer   \n",
              "991051     2389  1998                                   Psycho   \n",
              "991052     2713  1999                              Lake Placid   \n",
              "991053     3176  1999                 Talented Mr. Ripley, The   \n",
              "991054     3386  1991                                      JFK   \n",
              "\n",
              "                                   Genre  UserId  Rating  Timestamp Gender  \\\n",
              "991035            Drama|Mystery|Thriller    2696       3  973308886      M   \n",
              "991036                     Drama|Mystery    2696       5  973308842      M   \n",
              "991037                  Mystery|Thriller    2696       4  973308886      M   \n",
              "991038   Children's|Drama|Fantasy|Sci-Fi    2696       3  973308690      M   \n",
              "991039                            Horror    2696       4  973308710      M   \n",
              "991040                     Comedy|Sci-Fi    2696       2  973308676      M   \n",
              "991041               Crime|Drama|Mystery    2696       3  973308865      M   \n",
              "991042  Crime|Film-Noir|Mystery|Thriller    2696       4  973308842      M   \n",
              "991043                  Mystery|Thriller    2696       4  973308842      M   \n",
              "991044           Horror|Mystery|Thriller    2696       2  973308920      M   \n",
              "991045     Crime|Horror|Mystery|Thriller    2696       4  973308904      M   \n",
              "991046        Comedy|Crime|Drama|Mystery    2696       4  973308904      M   \n",
              "991047        Film-Noir|Mystery|Thriller    2696       4  973308865      M   \n",
              "991048      Crime|Drama|Mystery|Thriller    2696       4  973308886      M   \n",
              "991049                  Mystery|Thriller    2696       4  973308904      M   \n",
              "991050           Horror|Mystery|Thriller    2696       2  973308920      M   \n",
              "991051             Crime|Horror|Thriller    2696       4  973308710      M   \n",
              "991052                   Horror|Thriller    2696       1  973308710      M   \n",
              "991053            Drama|Mystery|Thriller    2696       4  973308865      M   \n",
              "991054                     Drama|Mystery    2696       1  973308842      M   \n",
              "\n",
              "        Age  Occupation ZipCode  \n",
              "991035   25           7   24210  \n",
              "991036   25           7   24210  \n",
              "991037   25           7   24210  \n",
              "991038   25           7   24210  \n",
              "991039   25           7   24210  \n",
              "991040   25           7   24210  \n",
              "991041   25           7   24210  \n",
              "991042   25           7   24210  \n",
              "991043   25           7   24210  \n",
              "991044   25           7   24210  \n",
              "991045   25           7   24210  \n",
              "991046   25           7   24210  \n",
              "991047   25           7   24210  \n",
              "991048   25           7   24210  \n",
              "991049   25           7   24210  \n",
              "991050   25           7   24210  \n",
              "991051   25           7   24210  \n",
              "991052   25           7   24210  \n",
              "991053   25           7   24210  \n",
              "991054   25           7   24210  "
            ]
          },
          "metadata": {
            "tags": []
          },
          "execution_count": 38
        }
      ]
    },
    {
      "metadata": {
        "id": "sDvPsw6s8sCJ",
        "colab_type": "code",
        "outputId": "93ebff78-a86d-48cb-e7ef-f6005c2a270d",
        "colab": {
          "base_uri": "https://localhost:8080/",
          "height": 669
        }
      },
      "cell_type": "code",
      "source": [
        "for_2696[['Title', 'Rating']]"
      ],
      "execution_count": 0,
      "outputs": [
        {
          "output_type": "execute_result",
          "data": {
            "text/html": [
              "<div>\n",
              "<style scoped>\n",
              "    .dataframe tbody tr th:only-of-type {\n",
              "        vertical-align: middle;\n",
              "    }\n",
              "\n",
              "    .dataframe tbody tr th {\n",
              "        vertical-align: top;\n",
              "    }\n",
              "\n",
              "    .dataframe thead th {\n",
              "        text-align: right;\n",
              "    }\n",
              "</style>\n",
              "<table border=\"1\" class=\"dataframe\">\n",
              "  <thead>\n",
              "    <tr style=\"text-align: right;\">\n",
              "      <th></th>\n",
              "      <th>Title</th>\n",
              "      <th>Rating</th>\n",
              "    </tr>\n",
              "  </thead>\n",
              "  <tbody>\n",
              "    <tr>\n",
              "      <th>991035</th>\n",
              "      <td>Client, The</td>\n",
              "      <td>3</td>\n",
              "    </tr>\n",
              "    <tr>\n",
              "      <th>991036</th>\n",
              "      <td>Lone Star</td>\n",
              "      <td>5</td>\n",
              "    </tr>\n",
              "    <tr>\n",
              "      <th>991037</th>\n",
              "      <td>Basic Instinct</td>\n",
              "      <td>4</td>\n",
              "    </tr>\n",
              "    <tr>\n",
              "      <th>991038</th>\n",
              "      <td>E.T. the Extra-Terrestrial</td>\n",
              "      <td>3</td>\n",
              "    </tr>\n",
              "    <tr>\n",
              "      <th>991039</th>\n",
              "      <td>Shining, The</td>\n",
              "      <td>4</td>\n",
              "    </tr>\n",
              "    <tr>\n",
              "      <th>991040</th>\n",
              "      <td>Back to the Future</td>\n",
              "      <td>2</td>\n",
              "    </tr>\n",
              "    <tr>\n",
              "      <th>991041</th>\n",
              "      <td>Cop Land</td>\n",
              "      <td>3</td>\n",
              "    </tr>\n",
              "    <tr>\n",
              "      <th>991042</th>\n",
              "      <td>L.A. Confidential</td>\n",
              "      <td>4</td>\n",
              "    </tr>\n",
              "    <tr>\n",
              "      <th>991043</th>\n",
              "      <td>Game, The</td>\n",
              "      <td>4</td>\n",
              "    </tr>\n",
              "    <tr>\n",
              "      <th>991044</th>\n",
              "      <td>I Know What You Did Last Summer</td>\n",
              "      <td>2</td>\n",
              "    </tr>\n",
              "    <tr>\n",
              "      <th>991045</th>\n",
              "      <td>Devil's Advocate, The</td>\n",
              "      <td>4</td>\n",
              "    </tr>\n",
              "    <tr>\n",
              "      <th>991046</th>\n",
              "      <td>Midnight in the Garden of Good and Evil</td>\n",
              "      <td>4</td>\n",
              "    </tr>\n",
              "    <tr>\n",
              "      <th>991047</th>\n",
              "      <td>Palmetto</td>\n",
              "      <td>4</td>\n",
              "    </tr>\n",
              "    <tr>\n",
              "      <th>991048</th>\n",
              "      <td>Wild Things</td>\n",
              "      <td>4</td>\n",
              "    </tr>\n",
              "    <tr>\n",
              "      <th>991049</th>\n",
              "      <td>Perfect Murder, A</td>\n",
              "      <td>4</td>\n",
              "    </tr>\n",
              "    <tr>\n",
              "      <th>991050</th>\n",
              "      <td>I Still Know What You Did Last Summer</td>\n",
              "      <td>2</td>\n",
              "    </tr>\n",
              "    <tr>\n",
              "      <th>991051</th>\n",
              "      <td>Psycho</td>\n",
              "      <td>4</td>\n",
              "    </tr>\n",
              "    <tr>\n",
              "      <th>991052</th>\n",
              "      <td>Lake Placid</td>\n",
              "      <td>1</td>\n",
              "    </tr>\n",
              "    <tr>\n",
              "      <th>991053</th>\n",
              "      <td>Talented Mr. Ripley, The</td>\n",
              "      <td>4</td>\n",
              "    </tr>\n",
              "    <tr>\n",
              "      <th>991054</th>\n",
              "      <td>JFK</td>\n",
              "      <td>1</td>\n",
              "    </tr>\n",
              "  </tbody>\n",
              "</table>\n",
              "</div>"
            ],
            "text/plain": [
              "                                          Title  Rating\n",
              "991035                              Client, The       3\n",
              "991036                                Lone Star       5\n",
              "991037                           Basic Instinct       4\n",
              "991038               E.T. the Extra-Terrestrial       3\n",
              "991039                             Shining, The       4\n",
              "991040                       Back to the Future       2\n",
              "991041                                 Cop Land       3\n",
              "991042                        L.A. Confidential       4\n",
              "991043                                Game, The       4\n",
              "991044          I Know What You Did Last Summer       2\n",
              "991045                    Devil's Advocate, The       4\n",
              "991046  Midnight in the Garden of Good and Evil       4\n",
              "991047                                 Palmetto       4\n",
              "991048                              Wild Things       4\n",
              "991049                        Perfect Murder, A       4\n",
              "991050    I Still Know What You Did Last Summer       2\n",
              "991051                                   Psycho       4\n",
              "991052                              Lake Placid       1\n",
              "991053                 Talented Mr. Ripley, The       4\n",
              "991054                                      JFK       1"
            ]
          },
          "metadata": {
            "tags": []
          },
          "execution_count": 39
        }
      ]
    },
    {
      "metadata": {
        "id": "UccaOS7k8sCS",
        "colab_type": "text"
      },
      "cell_type": "markdown",
      "source": [
        "## Visualize the rating data by user of user id = 2696"
      ]
    },
    {
      "metadata": {
        "id": "GvIO1pBQ8sCU",
        "colab_type": "code",
        "outputId": "39189a32-2545-4694-e7e3-ad0eacfb1073",
        "colab": {
          "base_uri": "https://localhost:8080/",
          "height": 610
        }
      },
      "cell_type": "code",
      "source": [
        "fig, ax = plt.subplots()\n",
        "fig.set_size_inches(20, 7)\n",
        "ax.set_xticklabels(for_2696['Title'], rotation=90)\n",
        "ax= sns.barplot(x=\"Title\",y='Rating', data=for_2696, edgecolor=sns.color_palette(\"dark\", 4))\n",
        "plt.show()"
      ],
      "execution_count": 0,
      "outputs": [
        {
          "output_type": "display_data",
          "data": {
            "image/png": "[encoded data removed]",
            "text/plain": [
              "<Figure size 1440x504 with 1 Axes>"
            ]
          },
          "metadata": {
            "tags": []
          }
        }
      ]
    },
    {
      "metadata": {
        "id": "WphHiSCr8sCc",
        "colab_type": "text"
      },
      "cell_type": "markdown",
      "source": [
        "# Feature Selection and Engineering"
      ]
    },
    {
      "metadata": {
        "id": "xoLv3lkY8sCd",
        "colab_type": "code",
        "outputId": "ec8ea798-2dce-43e4-eec0-e9c30eb8eff3",
        "colab": {
          "base_uri": "https://localhost:8080/",
          "height": 204
        }
      },
      "cell_type": "code",
      "source": [
        "movies.head()"
      ],
      "execution_count": 0,
      "outputs": [
        {
          "output_type": "execute_result",
          "data": {
            "text/html": [
              "<div>\n",
              "<style scoped>\n",
              "    .dataframe tbody tr th:only-of-type {\n",
              "        vertical-align: middle;\n",
              "    }\n",
              "\n",
              "    .dataframe tbody tr th {\n",
              "        vertical-align: top;\n",
              "    }\n",
              "\n",
              "    .dataframe thead th {\n",
              "        text-align: right;\n",
              "    }\n",
              "</style>\n",
              "<table border=\"1\" class=\"dataframe\">\n",
              "  <thead>\n",
              "    <tr style=\"text-align: right;\">\n",
              "      <th></th>\n",
              "      <th>MovieId</th>\n",
              "      <th>Year</th>\n",
              "      <th>Title</th>\n",
              "      <th>Genre</th>\n",
              "    </tr>\n",
              "  </thead>\n",
              "  <tbody>\n",
              "    <tr>\n",
              "      <th>0</th>\n",
              "      <td>1</td>\n",
              "      <td>1995</td>\n",
              "      <td>Toy Story</td>\n",
              "      <td>Animation|Children's|Comedy</td>\n",
              "    </tr>\n",
              "    <tr>\n",
              "      <th>1</th>\n",
              "      <td>2</td>\n",
              "      <td>1995</td>\n",
              "      <td>Jumanji</td>\n",
              "      <td>Adventure|Children's|Fantasy</td>\n",
              "    </tr>\n",
              "    <tr>\n",
              "      <th>2</th>\n",
              "      <td>3</td>\n",
              "      <td>1995</td>\n",
              "      <td>Grumpier Old Men</td>\n",
              "      <td>Comedy|Romance</td>\n",
              "    </tr>\n",
              "    <tr>\n",
              "      <th>3</th>\n",
              "      <td>4</td>\n",
              "      <td>1995</td>\n",
              "      <td>Waiting to Exhale</td>\n",
              "      <td>Comedy|Drama</td>\n",
              "    </tr>\n",
              "    <tr>\n",
              "      <th>4</th>\n",
              "      <td>5</td>\n",
              "      <td>1995</td>\n",
              "      <td>Father of the Bride Part II</td>\n",
              "      <td>Comedy</td>\n",
              "    </tr>\n",
              "  </tbody>\n",
              "</table>\n",
              "</div>"
            ],
            "text/plain": [
              "   MovieId  Year                        Title                         Genre\n",
              "0        1  1995                    Toy Story   Animation|Children's|Comedy\n",
              "1        2  1995                      Jumanji  Adventure|Children's|Fantasy\n",
              "2        3  1995             Grumpier Old Men                Comedy|Romance\n",
              "3        4  1995            Waiting to Exhale                  Comedy|Drama\n",
              "4        5  1995  Father of the Bride Part II                        Comedy"
            ]
          },
          "metadata": {
            "tags": []
          },
          "execution_count": 41
        }
      ]
    },
    {
      "metadata": {
        "id": "BTFIKbqI8sCk",
        "colab_type": "code",
        "colab": {}
      },
      "cell_type": "code",
      "source": [
        "genre_list=np.array(movies.Genre.str.split('|'))"
      ],
      "execution_count": 0,
      "outputs": []
    },
    {
      "metadata": {
        "id": "9Se0WhyF8sCx",
        "colab_type": "code",
        "colab": {}
      },
      "cell_type": "code",
      "source": [
        "genre_list[1]\n",
        "flat_genre_list = [item for sublist in genre_list for item in sublist]"
      ],
      "execution_count": 0,
      "outputs": []
    },
    {
      "metadata": {
        "id": "8sGEZ6W68sDH",
        "colab_type": "code",
        "outputId": "4d336388-5441-40c7-9f83-feeb03b790f0",
        "colab": {
          "base_uri": "https://localhost:8080/",
          "height": 323
        }
      },
      "cell_type": "code",
      "source": [
        "unique_genres= set(flat_genre_list)\n",
        "unique_genres"
      ],
      "execution_count": 0,
      "outputs": [
        {
          "output_type": "execute_result",
          "data": {
            "text/plain": [
              "{'Action',\n",
              " 'Adventure',\n",
              " 'Animation',\n",
              " \"Children's\",\n",
              " 'Comedy',\n",
              " 'Crime',\n",
              " 'Documentary',\n",
              " 'Drama',\n",
              " 'Fantasy',\n",
              " 'Film-Noir',\n",
              " 'Horror',\n",
              " 'Musical',\n",
              " 'Mystery',\n",
              " 'Romance',\n",
              " 'Sci-Fi',\n",
              " 'Thriller',\n",
              " 'War',\n",
              " 'Western'}"
            ]
          },
          "metadata": {
            "tags": []
          },
          "execution_count": 44
        }
      ]
    },
    {
      "metadata": {
        "id": "5I0cnGSc8sDQ",
        "colab_type": "code",
        "colab": {}
      },
      "cell_type": "code",
      "source": [
        "for i in unique_genres:\n",
        "    movies[i] = movies['Genre'].str.contains(i)"
      ],
      "execution_count": 0,
      "outputs": []
    },
    {
      "metadata": {
        "id": "14X4A6oq8sDn",
        "colab_type": "code",
        "outputId": "e015587d-22f1-4fcc-981d-e19366a8ea9b",
        "colab": {
          "base_uri": "https://localhost:8080/",
          "height": 309
        }
      },
      "cell_type": "code",
      "source": [
        "movies.head()"
      ],
      "execution_count": 0,
      "outputs": [
        {
          "output_type": "execute_result",
          "data": {
            "text/html": [
              "<div>\n",
              "<style scoped>\n",
              "    .dataframe tbody tr th:only-of-type {\n",
              "        vertical-align: middle;\n",
              "    }\n",
              "\n",
              "    .dataframe tbody tr th {\n",
              "        vertical-align: top;\n",
              "    }\n",
              "\n",
              "    .dataframe thead th {\n",
              "        text-align: right;\n",
              "    }\n",
              "</style>\n",
              "<table border=\"1\" class=\"dataframe\">\n",
              "  <thead>\n",
              "    <tr style=\"text-align: right;\">\n",
              "      <th></th>\n",
              "      <th>MovieId</th>\n",
              "      <th>Year</th>\n",
              "      <th>Title</th>\n",
              "      <th>Genre</th>\n",
              "      <th>Fantasy</th>\n",
              "      <th>Romance</th>\n",
              "      <th>Adventure</th>\n",
              "      <th>Horror</th>\n",
              "      <th>Documentary</th>\n",
              "      <th>Western</th>\n",
              "      <th>Drama</th>\n",
              "      <th>Musical</th>\n",
              "      <th>Film-Noir</th>\n",
              "      <th>War</th>\n",
              "      <th>Crime</th>\n",
              "      <th>Thriller</th>\n",
              "      <th>Action</th>\n",
              "      <th>Children's</th>\n",
              "      <th>Comedy</th>\n",
              "      <th>Mystery</th>\n",
              "      <th>Animation</th>\n",
              "      <th>Sci-Fi</th>\n",
              "    </tr>\n",
              "  </thead>\n",
              "  <tbody>\n",
              "    <tr>\n",
              "      <th>0</th>\n",
              "      <td>1</td>\n",
              "      <td>1995</td>\n",
              "      <td>Toy Story</td>\n",
              "      <td>Animation|Children's|Comedy</td>\n",
              "      <td>False</td>\n",
              "      <td>False</td>\n",
              "      <td>False</td>\n",
              "      <td>False</td>\n",
              "      <td>False</td>\n",
              "      <td>False</td>\n",
              "      <td>False</td>\n",
              "      <td>False</td>\n",
              "      <td>False</td>\n",
              "      <td>False</td>\n",
              "      <td>False</td>\n",
              "      <td>False</td>\n",
              "      <td>False</td>\n",
              "      <td>True</td>\n",
              "      <td>True</td>\n",
              "      <td>False</td>\n",
              "      <td>True</td>\n",
              "      <td>False</td>\n",
              "    </tr>\n",
              "    <tr>\n",
              "      <th>1</th>\n",
              "      <td>2</td>\n",
              "      <td>1995</td>\n",
              "      <td>Jumanji</td>\n",
              "      <td>Adventure|Children's|Fantasy</td>\n",
              "      <td>True</td>\n",
              "      <td>False</td>\n",
              "      <td>True</td>\n",
              "      <td>False</td>\n",
              "      <td>False</td>\n",
              "      <td>False</td>\n",
              "      <td>False</td>\n",
              "      <td>False</td>\n",
              "      <td>False</td>\n",
              "      <td>False</td>\n",
              "      <td>False</td>\n",
              "      <td>False</td>\n",
              "      <td>False</td>\n",
              "      <td>True</td>\n",
              "      <td>False</td>\n",
              "      <td>False</td>\n",
              "      <td>False</td>\n",
              "      <td>False</td>\n",
              "    </tr>\n",
              "    <tr>\n",
              "      <th>2</th>\n",
              "      <td>3</td>\n",
              "      <td>1995</td>\n",
              "      <td>Grumpier Old Men</td>\n",
              "      <td>Comedy|Romance</td>\n",
              "      <td>False</td>\n",
              "      <td>True</td>\n",
              "      <td>False</td>\n",
              "      <td>False</td>\n",
              "      <td>False</td>\n",
              "      <td>False</td>\n",
              "      <td>False</td>\n",
              "      <td>False</td>\n",
              "      <td>False</td>\n",
              "      <td>False</td>\n",
              "      <td>False</td>\n",
              "      <td>False</td>\n",
              "      <td>False</td>\n",
              "      <td>False</td>\n",
              "      <td>True</td>\n",
              "      <td>False</td>\n",
              "      <td>False</td>\n",
              "      <td>False</td>\n",
              "    </tr>\n",
              "    <tr>\n",
              "      <th>3</th>\n",
              "      <td>4</td>\n",
              "      <td>1995</td>\n",
              "      <td>Waiting to Exhale</td>\n",
              "      <td>Comedy|Drama</td>\n",
              "      <td>False</td>\n",
              "      <td>False</td>\n",
              "      <td>False</td>\n",
              "      <td>False</td>\n",
              "      <td>False</td>\n",
              "      <td>False</td>\n",
              "      <td>True</td>\n",
              "      <td>False</td>\n",
              "      <td>False</td>\n",
              "      <td>False</td>\n",
              "      <td>False</td>\n",
              "      <td>False</td>\n",
              "      <td>False</td>\n",
              "      <td>False</td>\n",
              "      <td>True</td>\n",
              "      <td>False</td>\n",
              "      <td>False</td>\n",
              "      <td>False</td>\n",
              "    </tr>\n",
              "    <tr>\n",
              "      <th>4</th>\n",
              "      <td>5</td>\n",
              "      <td>1995</td>\n",
              "      <td>Father of the Bride Part II</td>\n",
              "      <td>Comedy</td>\n",
              "      <td>False</td>\n",
              "      <td>False</td>\n",
              "      <td>False</td>\n",
              "      <td>False</td>\n",
              "      <td>False</td>\n",
              "      <td>False</td>\n",
              "      <td>False</td>\n",
              "      <td>False</td>\n",
              "      <td>False</td>\n",
              "      <td>False</td>\n",
              "      <td>False</td>\n",
              "      <td>False</td>\n",
              "      <td>False</td>\n",
              "      <td>False</td>\n",
              "      <td>True</td>\n",
              "      <td>False</td>\n",
              "      <td>False</td>\n",
              "      <td>False</td>\n",
              "    </tr>\n",
              "  </tbody>\n",
              "</table>\n",
              "</div>"
            ],
            "text/plain": [
              "   MovieId  Year                        Title                         Genre  \\\n",
              "0        1  1995                    Toy Story   Animation|Children's|Comedy   \n",
              "1        2  1995                      Jumanji  Adventure|Children's|Fantasy   \n",
              "2        3  1995             Grumpier Old Men                Comedy|Romance   \n",
              "3        4  1995            Waiting to Exhale                  Comedy|Drama   \n",
              "4        5  1995  Father of the Bride Part II                        Comedy   \n",
              "\n",
              "   Fantasy  Romance  Adventure  Horror  Documentary  Western  Drama  Musical  \\\n",
              "0    False    False      False   False        False    False  False    False   \n",
              "1     True    False       True   False        False    False  False    False   \n",
              "2    False     True      False   False        False    False  False    False   \n",
              "3    False    False      False   False        False    False   True    False   \n",
              "4    False    False      False   False        False    False  False    False   \n",
              "\n",
              "   Film-Noir    War  Crime  Thriller  Action  Children's  Comedy  Mystery  \\\n",
              "0      False  False  False     False   False        True    True    False   \n",
              "1      False  False  False     False   False        True   False    False   \n",
              "2      False  False  False     False   False       False    True    False   \n",
              "3      False  False  False     False   False       False    True    False   \n",
              "4      False  False  False     False   False       False    True    False   \n",
              "\n",
              "   Animation  Sci-Fi  \n",
              "0       True   False  \n",
              "1      False   False  \n",
              "2      False   False  \n",
              "3      False   False  \n",
              "4      False   False  "
            ]
          },
          "metadata": {
            "tags": []
          },
          "execution_count": 46
        }
      ]
    },
    {
      "metadata": {
        "id": "ByhjdzW_8sD2",
        "colab_type": "code",
        "outputId": "beed306c-b94e-4c78-8e98-861885237860",
        "colab": {
          "base_uri": "https://localhost:8080/",
          "height": 204
        }
      },
      "cell_type": "code",
      "source": [
        "new_merged.head()"
      ],
      "execution_count": 0,
      "outputs": [
        {
          "output_type": "execute_result",
          "data": {
            "text/html": [
              "<div>\n",
              "<style scoped>\n",
              "    .dataframe tbody tr th:only-of-type {\n",
              "        vertical-align: middle;\n",
              "    }\n",
              "\n",
              "    .dataframe tbody tr th {\n",
              "        vertical-align: top;\n",
              "    }\n",
              "\n",
              "    .dataframe thead th {\n",
              "        text-align: right;\n",
              "    }\n",
              "</style>\n",
              "<table border=\"1\" class=\"dataframe\">\n",
              "  <thead>\n",
              "    <tr style=\"text-align: right;\">\n",
              "      <th></th>\n",
              "      <th>MovieId</th>\n",
              "      <th>Year</th>\n",
              "      <th>Title</th>\n",
              "      <th>Genre</th>\n",
              "      <th>UserId</th>\n",
              "      <th>Rating</th>\n",
              "      <th>Timestamp</th>\n",
              "      <th>Gender</th>\n",
              "      <th>Age</th>\n",
              "      <th>Occupation</th>\n",
              "      <th>ZipCode</th>\n",
              "    </tr>\n",
              "  </thead>\n",
              "  <tbody>\n",
              "    <tr>\n",
              "      <th>0</th>\n",
              "      <td>1</td>\n",
              "      <td>1995</td>\n",
              "      <td>Toy Story</td>\n",
              "      <td>Animation|Children's|Comedy</td>\n",
              "      <td>1</td>\n",
              "      <td>5</td>\n",
              "      <td>978824268</td>\n",
              "      <td>F</td>\n",
              "      <td>1</td>\n",
              "      <td>10</td>\n",
              "      <td>48067</td>\n",
              "    </tr>\n",
              "    <tr>\n",
              "      <th>1</th>\n",
              "      <td>48</td>\n",
              "      <td>1995</td>\n",
              "      <td>Pocahontas</td>\n",
              "      <td>Animation|Children's|Musical|Romance</td>\n",
              "      <td>1</td>\n",
              "      <td>5</td>\n",
              "      <td>978824351</td>\n",
              "      <td>F</td>\n",
              "      <td>1</td>\n",
              "      <td>10</td>\n",
              "      <td>48067</td>\n",
              "    </tr>\n",
              "    <tr>\n",
              "      <th>2</th>\n",
              "      <td>150</td>\n",
              "      <td>1995</td>\n",
              "      <td>Apollo 13</td>\n",
              "      <td>Drama</td>\n",
              "      <td>1</td>\n",
              "      <td>5</td>\n",
              "      <td>978301777</td>\n",
              "      <td>F</td>\n",
              "      <td>1</td>\n",
              "      <td>10</td>\n",
              "      <td>48067</td>\n",
              "    </tr>\n",
              "    <tr>\n",
              "      <th>3</th>\n",
              "      <td>260</td>\n",
              "      <td>1977</td>\n",
              "      <td>Star Wars: Episode IV - A New Hope</td>\n",
              "      <td>Action|Adventure|Fantasy|Sci-Fi</td>\n",
              "      <td>1</td>\n",
              "      <td>4</td>\n",
              "      <td>978300760</td>\n",
              "      <td>F</td>\n",
              "      <td>1</td>\n",
              "      <td>10</td>\n",
              "      <td>48067</td>\n",
              "    </tr>\n",
              "    <tr>\n",
              "      <th>4</th>\n",
              "      <td>527</td>\n",
              "      <td>1993</td>\n",
              "      <td>Schindler's List</td>\n",
              "      <td>Drama|War</td>\n",
              "      <td>1</td>\n",
              "      <td>5</td>\n",
              "      <td>978824195</td>\n",
              "      <td>F</td>\n",
              "      <td>1</td>\n",
              "      <td>10</td>\n",
              "      <td>48067</td>\n",
              "    </tr>\n",
              "  </tbody>\n",
              "</table>\n",
              "</div>"
            ],
            "text/plain": [
              "   MovieId  Year                               Title  \\\n",
              "0        1  1995                           Toy Story   \n",
              "1       48  1995                          Pocahontas   \n",
              "2      150  1995                           Apollo 13   \n",
              "3      260  1977  Star Wars: Episode IV - A New Hope   \n",
              "4      527  1993                    Schindler's List   \n",
              "\n",
              "                                  Genre  UserId  Rating  Timestamp Gender  \\\n",
              "0           Animation|Children's|Comedy       1       5  978824268      F   \n",
              "1  Animation|Children's|Musical|Romance       1       5  978824351      F   \n",
              "2                                 Drama       1       5  978301777      F   \n",
              "3       Action|Adventure|Fantasy|Sci-Fi       1       4  978300760      F   \n",
              "4                             Drama|War       1       5  978824195      F   \n",
              "\n",
              "   Age  Occupation ZipCode  \n",
              "0    1          10   48067  \n",
              "1    1          10   48067  \n",
              "2    1          10   48067  \n",
              "3    1          10   48067  \n",
              "4    1          10   48067  "
            ]
          },
          "metadata": {
            "tags": []
          },
          "execution_count": 47
        }
      ]
    },
    {
      "metadata": {
        "id": "G0Xm6Iay8sEG",
        "colab_type": "code",
        "colab": {}
      },
      "cell_type": "code",
      "source": [
        "for i in unique_genres:\n",
        "    new_merged[i] = new_merged['Genre'].str.contains(i)"
      ],
      "execution_count": 0,
      "outputs": []
    },
    {
      "metadata": {
        "id": "-JomzXsE8sEM",
        "colab_type": "code",
        "outputId": "613ae004-0174-4186-8ce0-3fa712a1e638",
        "colab": {
          "base_uri": "https://localhost:8080/",
          "height": 309
        }
      },
      "cell_type": "code",
      "source": [
        "new_merged.head()"
      ],
      "execution_count": 0,
      "outputs": [
        {
          "output_type": "execute_result",
          "data": {
            "text/html": [
              "<div>\n",
              "<style scoped>\n",
              "    .dataframe tbody tr th:only-of-type {\n",
              "        vertical-align: middle;\n",
              "    }\n",
              "\n",
              "    .dataframe tbody tr th {\n",
              "        vertical-align: top;\n",
              "    }\n",
              "\n",
              "    .dataframe thead th {\n",
              "        text-align: right;\n",
              "    }\n",
              "</style>\n",
              "<table border=\"1\" class=\"dataframe\">\n",
              "  <thead>\n",
              "    <tr style=\"text-align: right;\">\n",
              "      <th></th>\n",
              "      <th>MovieId</th>\n",
              "      <th>Year</th>\n",
              "      <th>Title</th>\n",
              "      <th>Genre</th>\n",
              "      <th>UserId</th>\n",
              "      <th>Rating</th>\n",
              "      <th>Timestamp</th>\n",
              "      <th>Gender</th>\n",
              "      <th>Age</th>\n",
              "      <th>Occupation</th>\n",
              "      <th>ZipCode</th>\n",
              "      <th>Fantasy</th>\n",
              "      <th>Romance</th>\n",
              "      <th>Adventure</th>\n",
              "      <th>Horror</th>\n",
              "      <th>Documentary</th>\n",
              "      <th>Western</th>\n",
              "      <th>Drama</th>\n",
              "      <th>Musical</th>\n",
              "      <th>Film-Noir</th>\n",
              "      <th>War</th>\n",
              "      <th>Crime</th>\n",
              "      <th>Thriller</th>\n",
              "      <th>Action</th>\n",
              "      <th>Children's</th>\n",
              "      <th>Comedy</th>\n",
              "      <th>Mystery</th>\n",
              "      <th>Animation</th>\n",
              "      <th>Sci-Fi</th>\n",
              "    </tr>\n",
              "  </thead>\n",
              "  <tbody>\n",
              "    <tr>\n",
              "      <th>0</th>\n",
              "      <td>1</td>\n",
              "      <td>1995</td>\n",
              "      <td>Toy Story</td>\n",
              "      <td>Animation|Children's|Comedy</td>\n",
              "      <td>1</td>\n",
              "      <td>5</td>\n",
              "      <td>978824268</td>\n",
              "      <td>F</td>\n",
              "      <td>1</td>\n",
              "      <td>10</td>\n",
              "      <td>48067</td>\n",
              "      <td>False</td>\n",
              "      <td>False</td>\n",
              "      <td>False</td>\n",
              "      <td>False</td>\n",
              "      <td>False</td>\n",
              "      <td>False</td>\n",
              "      <td>False</td>\n",
              "      <td>False</td>\n",
              "      <td>False</td>\n",
              "      <td>False</td>\n",
              "      <td>False</td>\n",
              "      <td>False</td>\n",
              "      <td>False</td>\n",
              "      <td>True</td>\n",
              "      <td>True</td>\n",
              "      <td>False</td>\n",
              "      <td>True</td>\n",
              "      <td>False</td>\n",
              "    </tr>\n",
              "    <tr>\n",
              "      <th>1</th>\n",
              "      <td>48</td>\n",
              "      <td>1995</td>\n",
              "      <td>Pocahontas</td>\n",
              "      <td>Animation|Children's|Musical|Romance</td>\n",
              "      <td>1</td>\n",
              "      <td>5</td>\n",
              "      <td>978824351</td>\n",
              "      <td>F</td>\n",
              "      <td>1</td>\n",
              "      <td>10</td>\n",
              "      <td>48067</td>\n",
              "      <td>False</td>\n",
              "      <td>True</td>\n",
              "      <td>False</td>\n",
              "      <td>False</td>\n",
              "      <td>False</td>\n",
              "      <td>False</td>\n",
              "      <td>False</td>\n",
              "      <td>True</td>\n",
              "      <td>False</td>\n",
              "      <td>False</td>\n",
              "      <td>False</td>\n",
              "      <td>False</td>\n",
              "      <td>False</td>\n",
              "      <td>True</td>\n",
              "      <td>False</td>\n",
              "      <td>False</td>\n",
              "      <td>True</td>\n",
              "      <td>False</td>\n",
              "    </tr>\n",
              "    <tr>\n",
              "      <th>2</th>\n",
              "      <td>150</td>\n",
              "      <td>1995</td>\n",
              "      <td>Apollo 13</td>\n",
              "      <td>Drama</td>\n",
              "      <td>1</td>\n",
              "      <td>5</td>\n",
              "      <td>978301777</td>\n",
              "      <td>F</td>\n",
              "      <td>1</td>\n",
              "      <td>10</td>\n",
              "      <td>48067</td>\n",
              "      <td>False</td>\n",
              "      <td>False</td>\n",
              "      <td>False</td>\n",
              "      <td>False</td>\n",
              "      <td>False</td>\n",
              "      <td>False</td>\n",
              "      <td>True</td>\n",
              "      <td>False</td>\n",
              "      <td>False</td>\n",
              "      <td>False</td>\n",
              "      <td>False</td>\n",
              "      <td>False</td>\n",
              "      <td>False</td>\n",
              "      <td>False</td>\n",
              "      <td>False</td>\n",
              "      <td>False</td>\n",
              "      <td>False</td>\n",
              "      <td>False</td>\n",
              "    </tr>\n",
              "    <tr>\n",
              "      <th>3</th>\n",
              "      <td>260</td>\n",
              "      <td>1977</td>\n",
              "      <td>Star Wars: Episode IV - A New Hope</td>\n",
              "      <td>Action|Adventure|Fantasy|Sci-Fi</td>\n",
              "      <td>1</td>\n",
              "      <td>4</td>\n",
              "      <td>978300760</td>\n",
              "      <td>F</td>\n",
              "      <td>1</td>\n",
              "      <td>10</td>\n",
              "      <td>48067</td>\n",
              "      <td>True</td>\n",
              "      <td>False</td>\n",
              "      <td>True</td>\n",
              "      <td>False</td>\n",
              "      <td>False</td>\n",
              "      <td>False</td>\n",
              "      <td>False</td>\n",
              "      <td>False</td>\n",
              "      <td>False</td>\n",
              "      <td>False</td>\n",
              "      <td>False</td>\n",
              "      <td>False</td>\n",
              "      <td>True</td>\n",
              "      <td>False</td>\n",
              "      <td>False</td>\n",
              "      <td>False</td>\n",
              "      <td>False</td>\n",
              "      <td>True</td>\n",
              "    </tr>\n",
              "    <tr>\n",
              "      <th>4</th>\n",
              "      <td>527</td>\n",
              "      <td>1993</td>\n",
              "      <td>Schindler's List</td>\n",
              "      <td>Drama|War</td>\n",
              "      <td>1</td>\n",
              "      <td>5</td>\n",
              "      <td>978824195</td>\n",
              "      <td>F</td>\n",
              "      <td>1</td>\n",
              "      <td>10</td>\n",
              "      <td>48067</td>\n",
              "      <td>False</td>\n",
              "      <td>False</td>\n",
              "      <td>False</td>\n",
              "      <td>False</td>\n",
              "      <td>False</td>\n",
              "      <td>False</td>\n",
              "      <td>True</td>\n",
              "      <td>False</td>\n",
              "      <td>False</td>\n",
              "      <td>True</td>\n",
              "      <td>False</td>\n",
              "      <td>False</td>\n",
              "      <td>False</td>\n",
              "      <td>False</td>\n",
              "      <td>False</td>\n",
              "      <td>False</td>\n",
              "      <td>False</td>\n",
              "      <td>False</td>\n",
              "    </tr>\n",
              "  </tbody>\n",
              "</table>\n",
              "</div>"
            ],
            "text/plain": [
              "   MovieId  Year                               Title  \\\n",
              "0        1  1995                           Toy Story   \n",
              "1       48  1995                          Pocahontas   \n",
              "2      150  1995                           Apollo 13   \n",
              "3      260  1977  Star Wars: Episode IV - A New Hope   \n",
              "4      527  1993                    Schindler's List   \n",
              "\n",
              "                                  Genre  UserId  Rating  Timestamp Gender  \\\n",
              "0           Animation|Children's|Comedy       1       5  978824268      F   \n",
              "1  Animation|Children's|Musical|Romance       1       5  978824351      F   \n",
              "2                                 Drama       1       5  978301777      F   \n",
              "3       Action|Adventure|Fantasy|Sci-Fi       1       4  978300760      F   \n",
              "4                             Drama|War       1       5  978824195      F   \n",
              "\n",
              "   Age  Occupation ZipCode  Fantasy  Romance  Adventure  Horror  Documentary  \\\n",
              "0    1          10   48067    False    False      False   False        False   \n",
              "1    1          10   48067    False     True      False   False        False   \n",
              "2    1          10   48067    False    False      False   False        False   \n",
              "3    1          10   48067     True    False       True   False        False   \n",
              "4    1          10   48067    False    False      False   False        False   \n",
              "\n",
              "   Western  Drama  Musical  Film-Noir    War  Crime  Thriller  Action  \\\n",
              "0    False  False    False      False  False  False     False   False   \n",
              "1    False  False     True      False  False  False     False   False   \n",
              "2    False   True    False      False  False  False     False   False   \n",
              "3    False  False    False      False  False  False     False    True   \n",
              "4    False   True    False      False   True  False     False   False   \n",
              "\n",
              "   Children's  Comedy  Mystery  Animation  Sci-Fi  \n",
              "0        True    True    False       True   False  \n",
              "1        True   False    False       True   False  \n",
              "2       False   False    False      False   False  \n",
              "3       False   False    False      False    True  \n",
              "4       False   False    False      False   False  "
            ]
          },
          "metadata": {
            "tags": []
          },
          "execution_count": 49
        }
      ]
    },
    {
      "metadata": {
        "id": "yiQs6pWA8sES",
        "colab_type": "code",
        "colab": {}
      },
      "cell_type": "code",
      "source": [
        "occupation= pd.read_table('https://raw.githubusercontent.com/amanjeetsahu/MovieLens-Data-Analysis/master/u.occupation',sep= '::',encoding= \"ISO-8859-1\" ,header=None)"
      ],
      "execution_count": 0,
      "outputs": []
    },
    {
      "metadata": {
        "id": "0In6mmAx8sEr",
        "colab_type": "code",
        "outputId": "b0eb2f96-9f7b-446b-c212-d473add30969",
        "colab": {
          "base_uri": "https://localhost:8080/",
          "height": 374
        }
      },
      "cell_type": "code",
      "source": [
        "occupation_dict= occupation.to_dict()[0]\n",
        "occupation_dict"
      ],
      "execution_count": 0,
      "outputs": [
        {
          "output_type": "execute_result",
          "data": {
            "text/plain": [
              "{0: 'administrator',\n",
              " 1: 'artist',\n",
              " 2: 'doctor',\n",
              " 3: 'educator',\n",
              " 4: 'engineer',\n",
              " 5: 'entertainment',\n",
              " 6: 'executive',\n",
              " 7: 'healthcare',\n",
              " 8: 'homemaker',\n",
              " 9: 'lawyer',\n",
              " 10: 'librarian',\n",
              " 11: 'marketing',\n",
              " 12: 'none',\n",
              " 13: 'other',\n",
              " 14: 'programmer',\n",
              " 15: 'retired',\n",
              " 16: 'salesman',\n",
              " 17: 'scientist',\n",
              " 18: 'student',\n",
              " 19: 'technician',\n",
              " 20: 'writer'}"
            ]
          },
          "metadata": {
            "tags": []
          },
          "execution_count": 51
        }
      ]
    },
    {
      "metadata": {
        "id": "af1rc4898sE7",
        "colab_type": "code",
        "colab": {}
      },
      "cell_type": "code",
      "source": [
        "new_merged.Occupation= new_merged.Occupation.map(occupation_dict)"
      ],
      "execution_count": 0,
      "outputs": []
    },
    {
      "metadata": {
        "id": "2WTDQUbp8sFD",
        "colab_type": "code",
        "outputId": "53ab0e44-6e29-4838-f16d-6da412592f45",
        "colab": {
          "base_uri": "https://localhost:8080/",
          "height": 309
        }
      },
      "cell_type": "code",
      "source": [
        "new_merged.head()"
      ],
      "execution_count": 0,
      "outputs": [
        {
          "output_type": "execute_result",
          "data": {
            "text/html": [
              "<div>\n",
              "<style scoped>\n",
              "    .dataframe tbody tr th:only-of-type {\n",
              "        vertical-align: middle;\n",
              "    }\n",
              "\n",
              "    .dataframe tbody tr th {\n",
              "        vertical-align: top;\n",
              "    }\n",
              "\n",
              "    .dataframe thead th {\n",
              "        text-align: right;\n",
              "    }\n",
              "</style>\n",
              "<table border=\"1\" class=\"dataframe\">\n",
              "  <thead>\n",
              "    <tr style=\"text-align: right;\">\n",
              "      <th></th>\n",
              "      <th>MovieId</th>\n",
              "      <th>Year</th>\n",
              "      <th>Title</th>\n",
              "      <th>Genre</th>\n",
              "      <th>UserId</th>\n",
              "      <th>Rating</th>\n",
              "      <th>Timestamp</th>\n",
              "      <th>Gender</th>\n",
              "      <th>Age</th>\n",
              "      <th>Occupation</th>\n",
              "      <th>ZipCode</th>\n",
              "      <th>Fantasy</th>\n",
              "      <th>Romance</th>\n",
              "      <th>Adventure</th>\n",
              "      <th>Horror</th>\n",
              "      <th>Documentary</th>\n",
              "      <th>Western</th>\n",
              "      <th>Drama</th>\n",
              "      <th>Musical</th>\n",
              "      <th>Film-Noir</th>\n",
              "      <th>War</th>\n",
              "      <th>Crime</th>\n",
              "      <th>Thriller</th>\n",
              "      <th>Action</th>\n",
              "      <th>Children's</th>\n",
              "      <th>Comedy</th>\n",
              "      <th>Mystery</th>\n",
              "      <th>Animation</th>\n",
              "      <th>Sci-Fi</th>\n",
              "    </tr>\n",
              "  </thead>\n",
              "  <tbody>\n",
              "    <tr>\n",
              "      <th>0</th>\n",
              "      <td>1</td>\n",
              "      <td>1995</td>\n",
              "      <td>Toy Story</td>\n",
              "      <td>Animation|Children's|Comedy</td>\n",
              "      <td>1</td>\n",
              "      <td>5</td>\n",
              "      <td>978824268</td>\n",
              "      <td>F</td>\n",
              "      <td>1</td>\n",
              "      <td>librarian</td>\n",
              "      <td>48067</td>\n",
              "      <td>False</td>\n",
              "      <td>False</td>\n",
              "      <td>False</td>\n",
              "      <td>False</td>\n",
              "      <td>False</td>\n",
              "      <td>False</td>\n",
              "      <td>False</td>\n",
              "      <td>False</td>\n",
              "      <td>False</td>\n",
              "      <td>False</td>\n",
              "      <td>False</td>\n",
              "      <td>False</td>\n",
              "      <td>False</td>\n",
              "      <td>True</td>\n",
              "      <td>True</td>\n",
              "      <td>False</td>\n",
              "      <td>True</td>\n",
              "      <td>False</td>\n",
              "    </tr>\n",
              "    <tr>\n",
              "      <th>1</th>\n",
              "      <td>48</td>\n",
              "      <td>1995</td>\n",
              "      <td>Pocahontas</td>\n",
              "      <td>Animation|Children's|Musical|Romance</td>\n",
              "      <td>1</td>\n",
              "      <td>5</td>\n",
              "      <td>978824351</td>\n",
              "      <td>F</td>\n",
              "      <td>1</td>\n",
              "      <td>librarian</td>\n",
              "      <td>48067</td>\n",
              "      <td>False</td>\n",
              "      <td>True</td>\n",
              "      <td>False</td>\n",
              "      <td>False</td>\n",
              "      <td>False</td>\n",
              "      <td>False</td>\n",
              "      <td>False</td>\n",
              "      <td>True</td>\n",
              "      <td>False</td>\n",
              "      <td>False</td>\n",
              "      <td>False</td>\n",
              "      <td>False</td>\n",
              "      <td>False</td>\n",
              "      <td>True</td>\n",
              "      <td>False</td>\n",
              "      <td>False</td>\n",
              "      <td>True</td>\n",
              "      <td>False</td>\n",
              "    </tr>\n",
              "    <tr>\n",
              "      <th>2</th>\n",
              "      <td>150</td>\n",
              "      <td>1995</td>\n",
              "      <td>Apollo 13</td>\n",
              "      <td>Drama</td>\n",
              "      <td>1</td>\n",
              "      <td>5</td>\n",
              "      <td>978301777</td>\n",
              "      <td>F</td>\n",
              "      <td>1</td>\n",
              "      <td>librarian</td>\n",
              "      <td>48067</td>\n",
              "      <td>False</td>\n",
              "      <td>False</td>\n",
              "      <td>False</td>\n",
              "      <td>False</td>\n",
              "      <td>False</td>\n",
              "      <td>False</td>\n",
              "      <td>True</td>\n",
              "      <td>False</td>\n",
              "      <td>False</td>\n",
              "      <td>False</td>\n",
              "      <td>False</td>\n",
              "      <td>False</td>\n",
              "      <td>False</td>\n",
              "      <td>False</td>\n",
              "      <td>False</td>\n",
              "      <td>False</td>\n",
              "      <td>False</td>\n",
              "      <td>False</td>\n",
              "    </tr>\n",
              "    <tr>\n",
              "      <th>3</th>\n",
              "      <td>260</td>\n",
              "      <td>1977</td>\n",
              "      <td>Star Wars: Episode IV - A New Hope</td>\n",
              "      <td>Action|Adventure|Fantasy|Sci-Fi</td>\n",
              "      <td>1</td>\n",
              "      <td>4</td>\n",
              "      <td>978300760</td>\n",
              "      <td>F</td>\n",
              "      <td>1</td>\n",
              "      <td>librarian</td>\n",
              "      <td>48067</td>\n",
              "      <td>True</td>\n",
              "      <td>False</td>\n",
              "      <td>True</td>\n",
              "      <td>False</td>\n",
              "      <td>False</td>\n",
              "      <td>False</td>\n",
              "      <td>False</td>\n",
              "      <td>False</td>\n",
              "      <td>False</td>\n",
              "      <td>False</td>\n",
              "      <td>False</td>\n",
              "      <td>False</td>\n",
              "      <td>True</td>\n",
              "      <td>False</td>\n",
              "      <td>False</td>\n",
              "      <td>False</td>\n",
              "      <td>False</td>\n",
              "      <td>True</td>\n",
              "    </tr>\n",
              "    <tr>\n",
              "      <th>4</th>\n",
              "      <td>527</td>\n",
              "      <td>1993</td>\n",
              "      <td>Schindler's List</td>\n",
              "      <td>Drama|War</td>\n",
              "      <td>1</td>\n",
              "      <td>5</td>\n",
              "      <td>978824195</td>\n",
              "      <td>F</td>\n",
              "      <td>1</td>\n",
              "      <td>librarian</td>\n",
              "      <td>48067</td>\n",
              "      <td>False</td>\n",
              "      <td>False</td>\n",
              "      <td>False</td>\n",
              "      <td>False</td>\n",
              "      <td>False</td>\n",
              "      <td>False</td>\n",
              "      <td>True</td>\n",
              "      <td>False</td>\n",
              "      <td>False</td>\n",
              "      <td>True</td>\n",
              "      <td>False</td>\n",
              "      <td>False</td>\n",
              "      <td>False</td>\n",
              "      <td>False</td>\n",
              "      <td>False</td>\n",
              "      <td>False</td>\n",
              "      <td>False</td>\n",
              "      <td>False</td>\n",
              "    </tr>\n",
              "  </tbody>\n",
              "</table>\n",
              "</div>"
            ],
            "text/plain": [
              "   MovieId  Year                               Title  \\\n",
              "0        1  1995                           Toy Story   \n",
              "1       48  1995                          Pocahontas   \n",
              "2      150  1995                           Apollo 13   \n",
              "3      260  1977  Star Wars: Episode IV - A New Hope   \n",
              "4      527  1993                    Schindler's List   \n",
              "\n",
              "                                  Genre  UserId  Rating  Timestamp Gender  \\\n",
              "0           Animation|Children's|Comedy       1       5  978824268      F   \n",
              "1  Animation|Children's|Musical|Romance       1       5  978824351      F   \n",
              "2                                 Drama       1       5  978301777      F   \n",
              "3       Action|Adventure|Fantasy|Sci-Fi       1       4  978300760      F   \n",
              "4                             Drama|War       1       5  978824195      F   \n",
              "\n",
              "   Age Occupation ZipCode  Fantasy  Romance  Adventure  Horror  Documentary  \\\n",
              "0    1  librarian   48067    False    False      False   False        False   \n",
              "1    1  librarian   48067    False     True      False   False        False   \n",
              "2    1  librarian   48067    False    False      False   False        False   \n",
              "3    1  librarian   48067     True    False       True   False        False   \n",
              "4    1  librarian   48067    False    False      False   False        False   \n",
              "\n",
              "   Western  Drama  Musical  Film-Noir    War  Crime  Thriller  Action  \\\n",
              "0    False  False    False      False  False  False     False   False   \n",
              "1    False  False     True      False  False  False     False   False   \n",
              "2    False   True    False      False  False  False     False   False   \n",
              "3    False  False    False      False  False  False     False    True   \n",
              "4    False   True    False      False   True  False     False   False   \n",
              "\n",
              "   Children's  Comedy  Mystery  Animation  Sci-Fi  \n",
              "0        True    True    False       True   False  \n",
              "1        True   False    False       True   False  \n",
              "2       False   False    False      False   False  \n",
              "3       False   False    False      False    True  \n",
              "4       False   False    False      False   False  "
            ]
          },
          "metadata": {
            "tags": []
          },
          "execution_count": 53
        }
      ]
    },
    {
      "metadata": {
        "id": "TVAtQnNR8sFQ",
        "colab_type": "code",
        "outputId": "65e76835-3a42-466b-8fcd-37b2008ba415",
        "colab": {
          "base_uri": "https://localhost:8080/",
          "height": 170
        }
      },
      "cell_type": "code",
      "source": [
        "new_merged.Rating.describe()"
      ],
      "execution_count": 0,
      "outputs": [
        {
          "output_type": "execute_result",
          "data": {
            "text/plain": [
              "count    1.000209e+06\n",
              "mean     3.581564e+00\n",
              "std      1.117102e+00\n",
              "min      1.000000e+00\n",
              "25%      3.000000e+00\n",
              "50%      4.000000e+00\n",
              "75%      4.000000e+00\n",
              "max      5.000000e+00\n",
              "Name: Rating, dtype: float64"
            ]
          },
          "metadata": {
            "tags": []
          },
          "execution_count": 54
        }
      ]
    },
    {
      "metadata": {
        "id": "5F6NATNd8sGJ",
        "colab_type": "code",
        "outputId": "d973e7f7-3a0d-43e6-b6ef-c877fd783592",
        "colab": {
          "base_uri": "https://localhost:8080/",
          "height": 119
        }
      },
      "cell_type": "code",
      "source": [
        "new_merged.columns"
      ],
      "execution_count": 0,
      "outputs": [
        {
          "output_type": "execute_result",
          "data": {
            "text/plain": [
              "Index(['MovieId', 'Year', 'Title', 'Genre', 'UserId', 'Rating', 'Timestamp',\n",
              "       'Gender', 'Age', 'Occupation', 'ZipCode', 'Fantasy', 'Romance',\n",
              "       'Adventure', 'Horror', 'Documentary', 'Western', 'Drama', 'Musical',\n",
              "       'Film-Noir', 'War', 'Crime', 'Thriller', 'Action', 'Children's',\n",
              "       'Comedy', 'Mystery', 'Animation', 'Sci-Fi'],\n",
              "      dtype='object')"
            ]
          },
          "metadata": {
            "tags": []
          },
          "execution_count": 55
        }
      ]
    },
    {
      "metadata": {
        "id": "V-aHjKR48sGq",
        "colab_type": "code",
        "colab": {}
      },
      "cell_type": "code",
      "source": [
        "df= new_merged[['Gender', 'Age', 'Occupation','Animation', 'War', 'Fantasy',\n",
        "       'Adventure', \"Children's\", 'Comedy', 'Drama', 'Action', 'Romance',\n",
        "       'Crime', 'Horror', 'Musical', 'Film-Noir', 'Thriller', 'Documentary',\n",
        "       'Western', 'Mystery', 'Sci-Fi', 'Rating']]"
      ],
      "execution_count": 0,
      "outputs": []
    },
    {
      "metadata": {
        "id": "GW6h6LH98sG4",
        "colab_type": "code",
        "outputId": "e32f00c2-ae87-4e1c-f9d8-6f4ddf40da4f",
        "colab": {
          "base_uri": "https://localhost:8080/",
          "height": 241
        }
      },
      "cell_type": "code",
      "source": [
        "df.head()"
      ],
      "execution_count": 0,
      "outputs": [
        {
          "output_type": "execute_result",
          "data": {
            "text/html": [
              "<div>\n",
              "<style scoped>\n",
              "    .dataframe tbody tr th:only-of-type {\n",
              "        vertical-align: middle;\n",
              "    }\n",
              "\n",
              "    .dataframe tbody tr th {\n",
              "        vertical-align: top;\n",
              "    }\n",
              "\n",
              "    .dataframe thead th {\n",
              "        text-align: right;\n",
              "    }\n",
              "</style>\n",
              "<table border=\"1\" class=\"dataframe\">\n",
              "  <thead>\n",
              "    <tr style=\"text-align: right;\">\n",
              "      <th></th>\n",
              "      <th>Gender</th>\n",
              "      <th>Age</th>\n",
              "      <th>Occupation</th>\n",
              "      <th>Animation</th>\n",
              "      <th>War</th>\n",
              "      <th>Fantasy</th>\n",
              "      <th>Adventure</th>\n",
              "      <th>Children's</th>\n",
              "      <th>Comedy</th>\n",
              "      <th>Drama</th>\n",
              "      <th>Action</th>\n",
              "      <th>Romance</th>\n",
              "      <th>Crime</th>\n",
              "      <th>Horror</th>\n",
              "      <th>Musical</th>\n",
              "      <th>Film-Noir</th>\n",
              "      <th>Thriller</th>\n",
              "      <th>Documentary</th>\n",
              "      <th>Western</th>\n",
              "      <th>Mystery</th>\n",
              "      <th>Sci-Fi</th>\n",
              "      <th>Rating</th>\n",
              "    </tr>\n",
              "  </thead>\n",
              "  <tbody>\n",
              "    <tr>\n",
              "      <th>0</th>\n",
              "      <td>F</td>\n",
              "      <td>1</td>\n",
              "      <td>librarian</td>\n",
              "      <td>True</td>\n",
              "      <td>False</td>\n",
              "      <td>False</td>\n",
              "      <td>False</td>\n",
              "      <td>True</td>\n",
              "      <td>True</td>\n",
              "      <td>False</td>\n",
              "      <td>False</td>\n",
              "      <td>False</td>\n",
              "      <td>False</td>\n",
              "      <td>False</td>\n",
              "      <td>False</td>\n",
              "      <td>False</td>\n",
              "      <td>False</td>\n",
              "      <td>False</td>\n",
              "      <td>False</td>\n",
              "      <td>False</td>\n",
              "      <td>False</td>\n",
              "      <td>5</td>\n",
              "    </tr>\n",
              "    <tr>\n",
              "      <th>1</th>\n",
              "      <td>F</td>\n",
              "      <td>1</td>\n",
              "      <td>librarian</td>\n",
              "      <td>True</td>\n",
              "      <td>False</td>\n",
              "      <td>False</td>\n",
              "      <td>False</td>\n",
              "      <td>True</td>\n",
              "      <td>False</td>\n",
              "      <td>False</td>\n",
              "      <td>False</td>\n",
              "      <td>True</td>\n",
              "      <td>False</td>\n",
              "      <td>False</td>\n",
              "      <td>True</td>\n",
              "      <td>False</td>\n",
              "      <td>False</td>\n",
              "      <td>False</td>\n",
              "      <td>False</td>\n",
              "      <td>False</td>\n",
              "      <td>False</td>\n",
              "      <td>5</td>\n",
              "    </tr>\n",
              "    <tr>\n",
              "      <th>2</th>\n",
              "      <td>F</td>\n",
              "      <td>1</td>\n",
              "      <td>librarian</td>\n",
              "      <td>False</td>\n",
              "      <td>False</td>\n",
              "      <td>False</td>\n",
              "      <td>False</td>\n",
              "      <td>False</td>\n",
              "      <td>False</td>\n",
              "      <td>True</td>\n",
              "      <td>False</td>\n",
              "      <td>False</td>\n",
              "      <td>False</td>\n",
              "      <td>False</td>\n",
              "      <td>False</td>\n",
              "      <td>False</td>\n",
              "      <td>False</td>\n",
              "      <td>False</td>\n",
              "      <td>False</td>\n",
              "      <td>False</td>\n",
              "      <td>False</td>\n",
              "      <td>5</td>\n",
              "    </tr>\n",
              "    <tr>\n",
              "      <th>3</th>\n",
              "      <td>F</td>\n",
              "      <td>1</td>\n",
              "      <td>librarian</td>\n",
              "      <td>False</td>\n",
              "      <td>False</td>\n",
              "      <td>True</td>\n",
              "      <td>True</td>\n",
              "      <td>False</td>\n",
              "      <td>False</td>\n",
              "      <td>False</td>\n",
              "      <td>True</td>\n",
              "      <td>False</td>\n",
              "      <td>False</td>\n",
              "      <td>False</td>\n",
              "      <td>False</td>\n",
              "      <td>False</td>\n",
              "      <td>False</td>\n",
              "      <td>False</td>\n",
              "      <td>False</td>\n",
              "      <td>False</td>\n",
              "      <td>True</td>\n",
              "      <td>4</td>\n",
              "    </tr>\n",
              "    <tr>\n",
              "      <th>4</th>\n",
              "      <td>F</td>\n",
              "      <td>1</td>\n",
              "      <td>librarian</td>\n",
              "      <td>False</td>\n",
              "      <td>True</td>\n",
              "      <td>False</td>\n",
              "      <td>False</td>\n",
              "      <td>False</td>\n",
              "      <td>False</td>\n",
              "      <td>True</td>\n",
              "      <td>False</td>\n",
              "      <td>False</td>\n",
              "      <td>False</td>\n",
              "      <td>False</td>\n",
              "      <td>False</td>\n",
              "      <td>False</td>\n",
              "      <td>False</td>\n",
              "      <td>False</td>\n",
              "      <td>False</td>\n",
              "      <td>False</td>\n",
              "      <td>False</td>\n",
              "      <td>5</td>\n",
              "    </tr>\n",
              "  </tbody>\n",
              "</table>\n",
              "</div>"
            ],
            "text/plain": [
              "  Gender  Age Occupation  Animation    War  Fantasy  Adventure  Children's  \\\n",
              "0      F    1  librarian       True  False    False      False        True   \n",
              "1      F    1  librarian       True  False    False      False        True   \n",
              "2      F    1  librarian      False  False    False      False       False   \n",
              "3      F    1  librarian      False  False     True       True       False   \n",
              "4      F    1  librarian      False   True    False      False       False   \n",
              "\n",
              "   Comedy  Drama  Action  Romance  Crime  Horror  Musical  Film-Noir  \\\n",
              "0    True  False   False    False  False   False    False      False   \n",
              "1   False  False   False     True  False   False     True      False   \n",
              "2   False   True   False    False  False   False    False      False   \n",
              "3   False  False    True    False  False   False    False      False   \n",
              "4   False   True   False    False  False   False    False      False   \n",
              "\n",
              "   Thriller  Documentary  Western  Mystery  Sci-Fi  Rating  \n",
              "0     False        False    False    False   False       5  \n",
              "1     False        False    False    False   False       5  \n",
              "2     False        False    False    False   False       5  \n",
              "3     False        False    False    False    True       4  \n",
              "4     False        False    False    False   False       5  "
            ]
          },
          "metadata": {
            "tags": []
          },
          "execution_count": 57
        }
      ]
    },
    {
      "metadata": {
        "id": "TxZfAROT8sHO",
        "colab_type": "text"
      },
      "cell_type": "markdown",
      "source": [
        "### Chi-Squared Test of independence\n",
        "\n",
        "**H0:There is no statistically significant relationship between Gender and Ratings.**\n",
        "\n",
        "**Ha:There is a statistically significant relationship between Gender and Rating.**"
      ]
    },
    {
      "metadata": {
        "id": "QMhgkhiM8sHW",
        "colab_type": "code",
        "outputId": "b77636f7-f532-4a44-bb81-cd8caf2be584",
        "colab": {
          "base_uri": "https://localhost:8080/",
          "height": 173
        }
      },
      "cell_type": "code",
      "source": [
        "#contingency Table\n",
        "contingency_table = pd.crosstab(df['Gender'], df['Rating'], margins= True)\n",
        "contingency_table.head()"
      ],
      "execution_count": 0,
      "outputs": [
        {
          "output_type": "execute_result",
          "data": {
            "text/html": [
              "<div>\n",
              "<style scoped>\n",
              "    .dataframe tbody tr th:only-of-type {\n",
              "        vertical-align: middle;\n",
              "    }\n",
              "\n",
              "    .dataframe tbody tr th {\n",
              "        vertical-align: top;\n",
              "    }\n",
              "\n",
              "    .dataframe thead th {\n",
              "        text-align: right;\n",
              "    }\n",
              "</style>\n",
              "<table border=\"1\" class=\"dataframe\">\n",
              "  <thead>\n",
              "    <tr style=\"text-align: right;\">\n",
              "      <th>Rating</th>\n",
              "      <th>1</th>\n",
              "      <th>2</th>\n",
              "      <th>3</th>\n",
              "      <th>4</th>\n",
              "      <th>5</th>\n",
              "      <th>All</th>\n",
              "    </tr>\n",
              "    <tr>\n",
              "      <th>Gender</th>\n",
              "      <th></th>\n",
              "      <th></th>\n",
              "      <th></th>\n",
              "      <th></th>\n",
              "      <th></th>\n",
              "      <th></th>\n",
              "    </tr>\n",
              "  </thead>\n",
              "  <tbody>\n",
              "    <tr>\n",
              "      <th>F</th>\n",
              "      <td>13347</td>\n",
              "      <td>24548</td>\n",
              "      <td>62966</td>\n",
              "      <td>87033</td>\n",
              "      <td>58546</td>\n",
              "      <td>246440</td>\n",
              "    </tr>\n",
              "    <tr>\n",
              "      <th>M</th>\n",
              "      <td>42827</td>\n",
              "      <td>83009</td>\n",
              "      <td>198231</td>\n",
              "      <td>261938</td>\n",
              "      <td>167764</td>\n",
              "      <td>753769</td>\n",
              "    </tr>\n",
              "    <tr>\n",
              "      <th>All</th>\n",
              "      <td>56174</td>\n",
              "      <td>107557</td>\n",
              "      <td>261197</td>\n",
              "      <td>348971</td>\n",
              "      <td>226310</td>\n",
              "      <td>1000209</td>\n",
              "    </tr>\n",
              "  </tbody>\n",
              "</table>\n",
              "</div>"
            ],
            "text/plain": [
              "Rating      1       2       3       4       5      All\n",
              "Gender                                                \n",
              "F       13347   24548   62966   87033   58546   246440\n",
              "M       42827   83009  198231  261938  167764   753769\n",
              "All     56174  107557  261197  348971  226310  1000209"
            ]
          },
          "metadata": {
            "tags": []
          },
          "execution_count": 58
        }
      ]
    },
    {
      "metadata": {
        "id": "evKfMHus8sHs",
        "colab_type": "code",
        "outputId": "88d7f047-17dd-403b-b4d8-f478b287ff25",
        "colab": {
          "base_uri": "https://localhost:8080/",
          "height": 350
        }
      },
      "cell_type": "code",
      "source": [
        "#Assigns the frequency values\n",
        "malecount = contingency_table.iloc[0][0:5].values\n",
        "femalecount = contingency_table.iloc[1][0:5].values\n",
        "\n",
        "#Plots the bar chart\n",
        "fig = plt.figure(figsize=(10, 5))\n",
        "sns.set(font_scale=1.8)\n",
        "categories = [\"1\",\"2\",\"3\",\"4\",\"5\"]\n",
        "p1 = plt.bar(categories, malecount, 0.55, color='#d62728')\n",
        "p2 = plt.bar(categories, femalecount, 0.55, bottom=malecount)\n",
        "plt.legend((p2[0], p1[0]), ('Male', 'Female'))\n",
        "plt.xlabel('Ratings')\n",
        "plt.ylabel('Count')\n",
        "plt.show()"
      ],
      "execution_count": 0,
      "outputs": [
        {
          "output_type": "display_data",
          "data": {
            "image/png": "[encoded data removed]",
            "text/plain": [
              "<Figure size 720x360 with 1 Axes>"
            ]
          },
          "metadata": {
            "tags": []
          }
        }
      ]
    },
    {
      "metadata": {
        "id": "nGzGjYS18sH-",
        "colab_type": "code",
        "outputId": "96231d58-6509-4c64-82e0-2e41d25edf35",
        "colab": {
          "base_uri": "https://localhost:8080/",
          "height": 51
        }
      },
      "cell_type": "code",
      "source": [
        "f_obs = np.array([contingency_table.iloc[0][0:5].values,\n",
        "                  contingency_table.iloc[1][0:5].values])\n",
        "f_obs"
      ],
      "execution_count": 0,
      "outputs": [
        {
          "output_type": "execute_result",
          "data": {
            "text/plain": [
              "array([[ 13347,  24548,  62966,  87033,  58546],\n",
              "       [ 42827,  83009, 198231, 261938, 167764]])"
            ]
          },
          "metadata": {
            "tags": []
          },
          "execution_count": 60
        }
      ]
    },
    {
      "metadata": {
        "id": "OCOHdkBA8sIL",
        "colab_type": "code",
        "outputId": "a1ae87fe-c853-4320-911c-edeafcf14b4d",
        "colab": {
          "base_uri": "https://localhost:8080/",
          "height": 34
        }
      },
      "cell_type": "code",
      "source": [
        "from scipy import stats\n",
        "stats.chi2_contingency(f_obs)[0:3]"
      ],
      "execution_count": 0,
      "outputs": [
        {
          "output_type": "execute_result",
          "data": {
            "text/plain": [
              "(455.860738111417, 2.348561132924984e-97, 4)"
            ]
          },
          "metadata": {
            "tags": []
          },
          "execution_count": 61
        }
      ]
    },
    {
      "metadata": {
        "id": "ttaozcn68sIb",
        "colab_type": "text"
      },
      "cell_type": "markdown",
      "source": [
        "The X2 = ~456, p-value = ~0 and degrees of freedom = 4\n",
        "\n",
        "With a p-value < 0.05 , we can reject the null hypothesis. There is definitely some sort of relationship between 'Gender' and the 'Rating' column. We don't know what this relationship is, but we do know that these two variables are not independent of each other."
      ]
    },
    {
      "metadata": {
        "id": "Pz6pZuvl8sIf",
        "colab_type": "text"
      },
      "cell_type": "markdown",
      "source": [
        "### Chi-Squared Test of independence\n",
        "\n",
        "**H0:There is no statistically significant relationship between Occupation and Ratings.**\n",
        "\n",
        "**Ha:There is a statistically significant relationship between Occupation and Rating.**"
      ]
    },
    {
      "metadata": {
        "id": "wK_WUbpx8sJH",
        "colab_type": "code",
        "outputId": "e46dfe20-40b7-4c4f-e6f9-874a8a8d3e95",
        "colab": {
          "base_uri": "https://localhost:8080/",
          "height": 762
        }
      },
      "cell_type": "code",
      "source": [
        "contingency_table = pd.crosstab(df['Occupation'], df['Rating'], margins= True)\n",
        "contingency_table"
      ],
      "execution_count": 0,
      "outputs": [
        {
          "output_type": "execute_result",
          "data": {
            "text/html": [
              "<div>\n",
              "<style scoped>\n",
              "    .dataframe tbody tr th:only-of-type {\n",
              "        vertical-align: middle;\n",
              "    }\n",
              "\n",
              "    .dataframe tbody tr th {\n",
              "        vertical-align: top;\n",
              "    }\n",
              "\n",
              "    .dataframe thead th {\n",
              "        text-align: right;\n",
              "    }\n",
              "</style>\n",
              "<table border=\"1\" class=\"dataframe\">\n",
              "  <thead>\n",
              "    <tr style=\"text-align: right;\">\n",
              "      <th>Rating</th>\n",
              "      <th>1</th>\n",
              "      <th>2</th>\n",
              "      <th>3</th>\n",
              "      <th>4</th>\n",
              "      <th>5</th>\n",
              "      <th>All</th>\n",
              "    </tr>\n",
              "    <tr>\n",
              "      <th>Occupation</th>\n",
              "      <th></th>\n",
              "      <th></th>\n",
              "      <th></th>\n",
              "      <th></th>\n",
              "      <th></th>\n",
              "      <th></th>\n",
              "    </tr>\n",
              "  </thead>\n",
              "  <tbody>\n",
              "    <tr>\n",
              "      <th>administrator</th>\n",
              "      <td>7892</td>\n",
              "      <td>14679</td>\n",
              "      <td>35494</td>\n",
              "      <td>44256</td>\n",
              "      <td>28178</td>\n",
              "      <td>130499</td>\n",
              "    </tr>\n",
              "    <tr>\n",
              "      <th>artist</th>\n",
              "      <td>4756</td>\n",
              "      <td>9054</td>\n",
              "      <td>22361</td>\n",
              "      <td>30577</td>\n",
              "      <td>18603</td>\n",
              "      <td>85351</td>\n",
              "    </tr>\n",
              "    <tr>\n",
              "      <th>doctor</th>\n",
              "      <td>3062</td>\n",
              "      <td>5486</td>\n",
              "      <td>12919</td>\n",
              "      <td>16899</td>\n",
              "      <td>11702</td>\n",
              "      <td>50068</td>\n",
              "    </tr>\n",
              "    <tr>\n",
              "      <th>educator</th>\n",
              "      <td>1521</td>\n",
              "      <td>3083</td>\n",
              "      <td>7958</td>\n",
              "      <td>11236</td>\n",
              "      <td>7825</td>\n",
              "      <td>31623</td>\n",
              "    </tr>\n",
              "    <tr>\n",
              "      <th>engineer</th>\n",
              "      <td>9004</td>\n",
              "      <td>15418</td>\n",
              "      <td>33119</td>\n",
              "      <td>43219</td>\n",
              "      <td>30272</td>\n",
              "      <td>131032</td>\n",
              "    </tr>\n",
              "    <tr>\n",
              "      <th>entertainment</th>\n",
              "      <td>1070</td>\n",
              "      <td>2552</td>\n",
              "      <td>6446</td>\n",
              "      <td>7127</td>\n",
              "      <td>4655</td>\n",
              "      <td>21850</td>\n",
              "    </tr>\n",
              "    <tr>\n",
              "      <th>executive</th>\n",
              "      <td>2046</td>\n",
              "      <td>3332</td>\n",
              "      <td>9058</td>\n",
              "      <td>13500</td>\n",
              "      <td>9269</td>\n",
              "      <td>37205</td>\n",
              "    </tr>\n",
              "    <tr>\n",
              "      <th>healthcare</th>\n",
              "      <td>5076</td>\n",
              "      <td>10978</td>\n",
              "      <td>28054</td>\n",
              "      <td>38273</td>\n",
              "      <td>23044</td>\n",
              "      <td>105425</td>\n",
              "    </tr>\n",
              "    <tr>\n",
              "      <th>homemaker</th>\n",
              "      <td>176</td>\n",
              "      <td>292</td>\n",
              "      <td>820</td>\n",
              "      <td>929</td>\n",
              "      <td>489</td>\n",
              "      <td>2706</td>\n",
              "    </tr>\n",
              "    <tr>\n",
              "      <th>lawyer</th>\n",
              "      <td>393</td>\n",
              "      <td>1045</td>\n",
              "      <td>3182</td>\n",
              "      <td>4170</td>\n",
              "      <td>2555</td>\n",
              "      <td>11345</td>\n",
              "    </tr>\n",
              "    <tr>\n",
              "      <th>librarian</th>\n",
              "      <td>2058</td>\n",
              "      <td>2570</td>\n",
              "      <td>5392</td>\n",
              "      <td>7448</td>\n",
              "      <td>5822</td>\n",
              "      <td>23290</td>\n",
              "    </tr>\n",
              "    <tr>\n",
              "      <th>marketing</th>\n",
              "      <td>1337</td>\n",
              "      <td>2056</td>\n",
              "      <td>4814</td>\n",
              "      <td>7287</td>\n",
              "      <td>5069</td>\n",
              "      <td>20563</td>\n",
              "    </tr>\n",
              "    <tr>\n",
              "      <th>none</th>\n",
              "      <td>2578</td>\n",
              "      <td>5675</td>\n",
              "      <td>14382</td>\n",
              "      <td>20909</td>\n",
              "      <td>13670</td>\n",
              "      <td>57214</td>\n",
              "    </tr>\n",
              "    <tr>\n",
              "      <th>other</th>\n",
              "      <td>405</td>\n",
              "      <td>1176</td>\n",
              "      <td>3274</td>\n",
              "      <td>5060</td>\n",
              "      <td>3839</td>\n",
              "      <td>13754</td>\n",
              "    </tr>\n",
              "    <tr>\n",
              "      <th>programmer</th>\n",
              "      <td>2345</td>\n",
              "      <td>5160</td>\n",
              "      <td>12696</td>\n",
              "      <td>17593</td>\n",
              "      <td>11315</td>\n",
              "      <td>49109</td>\n",
              "    </tr>\n",
              "    <tr>\n",
              "      <th>retired</th>\n",
              "      <td>887</td>\n",
              "      <td>2271</td>\n",
              "      <td>5571</td>\n",
              "      <td>8568</td>\n",
              "      <td>5654</td>\n",
              "      <td>22951</td>\n",
              "    </tr>\n",
              "    <tr>\n",
              "      <th>salesman</th>\n",
              "      <td>2051</td>\n",
              "      <td>4980</td>\n",
              "      <td>12355</td>\n",
              "      <td>16733</td>\n",
              "      <td>9902</td>\n",
              "      <td>46021</td>\n",
              "    </tr>\n",
              "    <tr>\n",
              "      <th>scientist</th>\n",
              "      <td>3351</td>\n",
              "      <td>7193</td>\n",
              "      <td>19908</td>\n",
              "      <td>26155</td>\n",
              "      <td>16209</td>\n",
              "      <td>72816</td>\n",
              "    </tr>\n",
              "    <tr>\n",
              "      <th>student</th>\n",
              "      <td>583</td>\n",
              "      <td>1295</td>\n",
              "      <td>3655</td>\n",
              "      <td>4238</td>\n",
              "      <td>2315</td>\n",
              "      <td>12086</td>\n",
              "    </tr>\n",
              "    <tr>\n",
              "      <th>technician</th>\n",
              "      <td>1417</td>\n",
              "      <td>1835</td>\n",
              "      <td>3991</td>\n",
              "      <td>4482</td>\n",
              "      <td>3179</td>\n",
              "      <td>14904</td>\n",
              "    </tr>\n",
              "    <tr>\n",
              "      <th>writer</th>\n",
              "      <td>4166</td>\n",
              "      <td>7427</td>\n",
              "      <td>15748</td>\n",
              "      <td>20312</td>\n",
              "      <td>12744</td>\n",
              "      <td>60397</td>\n",
              "    </tr>\n",
              "    <tr>\n",
              "      <th>All</th>\n",
              "      <td>56174</td>\n",
              "      <td>107557</td>\n",
              "      <td>261197</td>\n",
              "      <td>348971</td>\n",
              "      <td>226310</td>\n",
              "      <td>1000209</td>\n",
              "    </tr>\n",
              "  </tbody>\n",
              "</table>\n",
              "</div>"
            ],
            "text/plain": [
              "Rating             1       2       3       4       5      All\n",
              "Occupation                                                   \n",
              "administrator   7892   14679   35494   44256   28178   130499\n",
              "artist          4756    9054   22361   30577   18603    85351\n",
              "doctor          3062    5486   12919   16899   11702    50068\n",
              "educator        1521    3083    7958   11236    7825    31623\n",
              "engineer        9004   15418   33119   43219   30272   131032\n",
              "entertainment   1070    2552    6446    7127    4655    21850\n",
              "executive       2046    3332    9058   13500    9269    37205\n",
              "healthcare      5076   10978   28054   38273   23044   105425\n",
              "homemaker        176     292     820     929     489     2706\n",
              "lawyer           393    1045    3182    4170    2555    11345\n",
              "librarian       2058    2570    5392    7448    5822    23290\n",
              "marketing       1337    2056    4814    7287    5069    20563\n",
              "none            2578    5675   14382   20909   13670    57214\n",
              "other            405    1176    3274    5060    3839    13754\n",
              "programmer      2345    5160   12696   17593   11315    49109\n",
              "retired          887    2271    5571    8568    5654    22951\n",
              "salesman        2051    4980   12355   16733    9902    46021\n",
              "scientist       3351    7193   19908   26155   16209    72816\n",
              "student          583    1295    3655    4238    2315    12086\n",
              "technician      1417    1835    3991    4482    3179    14904\n",
              "writer          4166    7427   15748   20312   12744    60397\n",
              "All            56174  107557  261197  348971  226310  1000209"
            ]
          },
          "metadata": {
            "tags": []
          },
          "execution_count": 62
        }
      ]
    },
    {
      "metadata": {
        "id": "-upVWAdC8sJV",
        "colab_type": "code",
        "outputId": "ec64fe03-49fd-47eb-adf7-badb08fc22ab",
        "colab": {
          "base_uri": "https://localhost:8080/",
          "height": 102
        }
      },
      "cell_type": "code",
      "source": [
        "occupation[0].values"
      ],
      "execution_count": 0,
      "outputs": [
        {
          "output_type": "execute_result",
          "data": {
            "text/plain": [
              "array(['administrator', 'artist', 'doctor', 'educator', 'engineer',\n",
              "       'entertainment', 'executive', 'healthcare', 'homemaker', 'lawyer',\n",
              "       'librarian', 'marketing', 'none', 'other', 'programmer', 'retired',\n",
              "       'salesman', 'scientist', 'student', 'technician', 'writer'],\n",
              "      dtype=object)"
            ]
          },
          "metadata": {
            "tags": []
          },
          "execution_count": 63
        }
      ]
    },
    {
      "metadata": {
        "id": "8YQBdy4W8sJi",
        "colab_type": "code",
        "outputId": "c99e7e73-41b3-4482-aa57-45dbaad184c1",
        "colab": {
          "base_uri": "https://localhost:8080/",
          "height": 34
        }
      },
      "cell_type": "code",
      "source": [
        "len(occupation[0].values)"
      ],
      "execution_count": 0,
      "outputs": [
        {
          "output_type": "execute_result",
          "data": {
            "text/plain": [
              "21"
            ]
          },
          "metadata": {
            "tags": []
          },
          "execution_count": 64
        }
      ]
    },
    {
      "metadata": {
        "id": "PU_n8VwY8sJr",
        "colab_type": "code",
        "outputId": "862502ed-8df2-4c06-ef01-aad89d203173",
        "colab": {
          "base_uri": "https://localhost:8080/",
          "height": 34
        }
      },
      "cell_type": "code",
      "source": [
        "contingency_table.iloc[0][0:5].values"
      ],
      "execution_count": 0,
      "outputs": [
        {
          "output_type": "execute_result",
          "data": {
            "text/plain": [
              "array([ 7892, 14679, 35494, 44256, 28178])"
            ]
          },
          "metadata": {
            "tags": []
          },
          "execution_count": 65
        }
      ]
    },
    {
      "metadata": {
        "id": "EVxIxiU68sJ0",
        "colab_type": "code",
        "colab": {}
      },
      "cell_type": "code",
      "source": [
        "f_obs =[]\n",
        "for i in range(0, len(occupation[0].values)):\n",
        "    f_obs.append(contingency_table.iloc[i][0:5].values)"
      ],
      "execution_count": 0,
      "outputs": []
    },
    {
      "metadata": {
        "id": "Adfe3J0f8sJ8",
        "colab_type": "code",
        "outputId": "3930ccd3-c26b-4bf4-9fc0-82c7d58c2b50",
        "colab": {
          "base_uri": "https://localhost:8080/",
          "height": 374
        }
      },
      "cell_type": "code",
      "source": [
        "f_obs= np.array(f_obs)\n",
        "f_obs"
      ],
      "execution_count": 0,
      "outputs": [
        {
          "output_type": "execute_result",
          "data": {
            "text/plain": [
              "array([[ 7892, 14679, 35494, 44256, 28178],\n",
              "       [ 4756,  9054, 22361, 30577, 18603],\n",
              "       [ 3062,  5486, 12919, 16899, 11702],\n",
              "       [ 1521,  3083,  7958, 11236,  7825],\n",
              "       [ 9004, 15418, 33119, 43219, 30272],\n",
              "       [ 1070,  2552,  6446,  7127,  4655],\n",
              "       [ 2046,  3332,  9058, 13500,  9269],\n",
              "       [ 5076, 10978, 28054, 38273, 23044],\n",
              "       [  176,   292,   820,   929,   489],\n",
              "       [  393,  1045,  3182,  4170,  2555],\n",
              "       [ 2058,  2570,  5392,  7448,  5822],\n",
              "       [ 1337,  2056,  4814,  7287,  5069],\n",
              "       [ 2578,  5675, 14382, 20909, 13670],\n",
              "       [  405,  1176,  3274,  5060,  3839],\n",
              "       [ 2345,  5160, 12696, 17593, 11315],\n",
              "       [  887,  2271,  5571,  8568,  5654],\n",
              "       [ 2051,  4980, 12355, 16733,  9902],\n",
              "       [ 3351,  7193, 19908, 26155, 16209],\n",
              "       [  583,  1295,  3655,  4238,  2315],\n",
              "       [ 1417,  1835,  3991,  4482,  3179],\n",
              "       [ 4166,  7427, 15748, 20312, 12744]])"
            ]
          },
          "metadata": {
            "tags": []
          },
          "execution_count": 67
        }
      ]
    },
    {
      "metadata": {
        "id": "meRGPDVj8sKD",
        "colab_type": "code",
        "outputId": "3ce2e7ea-87b2-4e7b-d232-006ebcd2668a",
        "colab": {
          "base_uri": "https://localhost:8080/",
          "height": 34
        }
      },
      "cell_type": "code",
      "source": [
        "from scipy import stats\n",
        "stats.chi2_contingency(f_obs)[0:3]"
      ],
      "execution_count": 0,
      "outputs": [
        {
          "output_type": "execute_result",
          "data": {
            "text/plain": [
              "(5370.499189940039, 0.0, 80)"
            ]
          },
          "metadata": {
            "tags": []
          },
          "execution_count": 68
        }
      ]
    },
    {
      "metadata": {
        "id": "QaHJ5C3B8sKK",
        "colab_type": "text"
      },
      "cell_type": "markdown",
      "source": [
        "The X2 = ~5370, p-value = 0 and degrees of freedom = 80 *((Number of Rows -1) x (Number of columns - 1))*\n",
        "\n",
        "With a p-value < 0.05 , we can reject the null hypothesis. There is definitely some sort of relationship between 'Occupation' and the 'Rating' column. We don't know what this relationship is, but we do know that these two variables are not independent of each other."
      ]
    },
    {
      "metadata": {
        "id": "piii4tTO8sKO",
        "colab_type": "code",
        "outputId": "a440f24f-6e7c-4306-ff2f-29738de47e46",
        "colab": {
          "base_uri": "https://localhost:8080/",
          "height": 323
        }
      },
      "cell_type": "code",
      "source": [
        "list(unique_genres)"
      ],
      "execution_count": 0,
      "outputs": [
        {
          "output_type": "execute_result",
          "data": {
            "text/plain": [
              "['Fantasy',\n",
              " 'Romance',\n",
              " 'Adventure',\n",
              " 'Horror',\n",
              " 'Documentary',\n",
              " 'Western',\n",
              " 'Drama',\n",
              " 'Musical',\n",
              " 'Film-Noir',\n",
              " 'War',\n",
              " 'Crime',\n",
              " 'Thriller',\n",
              " 'Action',\n",
              " \"Children's\",\n",
              " 'Comedy',\n",
              " 'Mystery',\n",
              " 'Animation',\n",
              " 'Sci-Fi']"
            ]
          },
          "metadata": {
            "tags": []
          },
          "execution_count": 69
        }
      ]
    },
    {
      "metadata": {
        "id": "9PFoZPor8sKg",
        "colab_type": "code",
        "colab": {}
      },
      "cell_type": "code",
      "source": [
        "df[list(unique_genres)]= df[list(unique_genres)].astype(int)"
      ],
      "execution_count": 0,
      "outputs": []
    },
    {
      "metadata": {
        "id": "kSh0Rndh8sKo",
        "colab_type": "code",
        "outputId": "b464e6c9-dfdb-4f54-a2a3-b34518ac27b1",
        "colab": {
          "base_uri": "https://localhost:8080/",
          "height": 241
        }
      },
      "cell_type": "code",
      "source": [
        "df.head()"
      ],
      "execution_count": 0,
      "outputs": [
        {
          "output_type": "execute_result",
          "data": {
            "text/html": [
              "<div>\n",
              "<style scoped>\n",
              "    .dataframe tbody tr th:only-of-type {\n",
              "        vertical-align: middle;\n",
              "    }\n",
              "\n",
              "    .dataframe tbody tr th {\n",
              "        vertical-align: top;\n",
              "    }\n",
              "\n",
              "    .dataframe thead th {\n",
              "        text-align: right;\n",
              "    }\n",
              "</style>\n",
              "<table border=\"1\" class=\"dataframe\">\n",
              "  <thead>\n",
              "    <tr style=\"text-align: right;\">\n",
              "      <th></th>\n",
              "      <th>Gender</th>\n",
              "      <th>Age</th>\n",
              "      <th>Occupation</th>\n",
              "      <th>Animation</th>\n",
              "      <th>War</th>\n",
              "      <th>Fantasy</th>\n",
              "      <th>Adventure</th>\n",
              "      <th>Children's</th>\n",
              "      <th>Comedy</th>\n",
              "      <th>Drama</th>\n",
              "      <th>Action</th>\n",
              "      <th>Romance</th>\n",
              "      <th>Crime</th>\n",
              "      <th>Horror</th>\n",
              "      <th>Musical</th>\n",
              "      <th>Film-Noir</th>\n",
              "      <th>Thriller</th>\n",
              "      <th>Documentary</th>\n",
              "      <th>Western</th>\n",
              "      <th>Mystery</th>\n",
              "      <th>Sci-Fi</th>\n",
              "      <th>Rating</th>\n",
              "    </tr>\n",
              "  </thead>\n",
              "  <tbody>\n",
              "    <tr>\n",
              "      <th>0</th>\n",
              "      <td>F</td>\n",
              "      <td>1</td>\n",
              "      <td>librarian</td>\n",
              "      <td>1</td>\n",
              "      <td>0</td>\n",
              "      <td>0</td>\n",
              "      <td>0</td>\n",
              "      <td>1</td>\n",
              "      <td>1</td>\n",
              "      <td>0</td>\n",
              "      <td>0</td>\n",
              "      <td>0</td>\n",
              "      <td>0</td>\n",
              "      <td>0</td>\n",
              "      <td>0</td>\n",
              "      <td>0</td>\n",
              "      <td>0</td>\n",
              "      <td>0</td>\n",
              "      <td>0</td>\n",
              "      <td>0</td>\n",
              "      <td>0</td>\n",
              "      <td>5</td>\n",
              "    </tr>\n",
              "    <tr>\n",
              "      <th>1</th>\n",
              "      <td>F</td>\n",
              "      <td>1</td>\n",
              "      <td>librarian</td>\n",
              "      <td>1</td>\n",
              "      <td>0</td>\n",
              "      <td>0</td>\n",
              "      <td>0</td>\n",
              "      <td>1</td>\n",
              "      <td>0</td>\n",
              "      <td>0</td>\n",
              "      <td>0</td>\n",
              "      <td>1</td>\n",
              "      <td>0</td>\n",
              "      <td>0</td>\n",
              "      <td>1</td>\n",
              "      <td>0</td>\n",
              "      <td>0</td>\n",
              "      <td>0</td>\n",
              "      <td>0</td>\n",
              "      <td>0</td>\n",
              "      <td>0</td>\n",
              "      <td>5</td>\n",
              "    </tr>\n",
              "    <tr>\n",
              "      <th>2</th>\n",
              "      <td>F</td>\n",
              "      <td>1</td>\n",
              "      <td>librarian</td>\n",
              "      <td>0</td>\n",
              "      <td>0</td>\n",
              "      <td>0</td>\n",
              "      <td>0</td>\n",
              "      <td>0</td>\n",
              "      <td>0</td>\n",
              "      <td>1</td>\n",
              "      <td>0</td>\n",
              "      <td>0</td>\n",
              "      <td>0</td>\n",
              "      <td>0</td>\n",
              "      <td>0</td>\n",
              "      <td>0</td>\n",
              "      <td>0</td>\n",
              "      <td>0</td>\n",
              "      <td>0</td>\n",
              "      <td>0</td>\n",
              "      <td>0</td>\n",
              "      <td>5</td>\n",
              "    </tr>\n",
              "    <tr>\n",
              "      <th>3</th>\n",
              "      <td>F</td>\n",
              "      <td>1</td>\n",
              "      <td>librarian</td>\n",
              "      <td>0</td>\n",
              "      <td>0</td>\n",
              "      <td>1</td>\n",
              "      <td>1</td>\n",
              "      <td>0</td>\n",
              "      <td>0</td>\n",
              "      <td>0</td>\n",
              "      <td>1</td>\n",
              "      <td>0</td>\n",
              "      <td>0</td>\n",
              "      <td>0</td>\n",
              "      <td>0</td>\n",
              "      <td>0</td>\n",
              "      <td>0</td>\n",
              "      <td>0</td>\n",
              "      <td>0</td>\n",
              "      <td>0</td>\n",
              "      <td>1</td>\n",
              "      <td>4</td>\n",
              "    </tr>\n",
              "    <tr>\n",
              "      <th>4</th>\n",
              "      <td>F</td>\n",
              "      <td>1</td>\n",
              "      <td>librarian</td>\n",
              "      <td>0</td>\n",
              "      <td>1</td>\n",
              "      <td>0</td>\n",
              "      <td>0</td>\n",
              "      <td>0</td>\n",
              "      <td>0</td>\n",
              "      <td>1</td>\n",
              "      <td>0</td>\n",
              "      <td>0</td>\n",
              "      <td>0</td>\n",
              "      <td>0</td>\n",
              "      <td>0</td>\n",
              "      <td>0</td>\n",
              "      <td>0</td>\n",
              "      <td>0</td>\n",
              "      <td>0</td>\n",
              "      <td>0</td>\n",
              "      <td>0</td>\n",
              "      <td>5</td>\n",
              "    </tr>\n",
              "  </tbody>\n",
              "</table>\n",
              "</div>"
            ],
            "text/plain": [
              "  Gender  Age Occupation  Animation  War  Fantasy  Adventure  Children's  \\\n",
              "0      F    1  librarian          1    0        0          0           1   \n",
              "1      F    1  librarian          1    0        0          0           1   \n",
              "2      F    1  librarian          0    0        0          0           0   \n",
              "3      F    1  librarian          0    0        1          1           0   \n",
              "4      F    1  librarian          0    1        0          0           0   \n",
              "\n",
              "   Comedy  Drama  Action  Romance  Crime  Horror  Musical  Film-Noir  \\\n",
              "0       1      0       0        0      0       0        0          0   \n",
              "1       0      0       0        1      0       0        1          0   \n",
              "2       0      1       0        0      0       0        0          0   \n",
              "3       0      0       1        0      0       0        0          0   \n",
              "4       0      1       0        0      0       0        0          0   \n",
              "\n",
              "   Thriller  Documentary  Western  Mystery  Sci-Fi  Rating  \n",
              "0         0            0        0        0       0       5  \n",
              "1         0            0        0        0       0       5  \n",
              "2         0            0        0        0       0       5  \n",
              "3         0            0        0        0       1       4  \n",
              "4         0            0        0        0       0       5  "
            ]
          },
          "metadata": {
            "tags": []
          },
          "execution_count": 71
        }
      ]
    },
    {
      "metadata": {
        "id": "ICmyi8ZK8sK2",
        "colab_type": "code",
        "colab": {}
      },
      "cell_type": "code",
      "source": [
        "df = df.join(pd.get_dummies(df.Occupation))"
      ],
      "execution_count": 0,
      "outputs": []
    },
    {
      "metadata": {
        "id": "giDox4z08sK8",
        "colab_type": "code",
        "colab": {}
      },
      "cell_type": "code",
      "source": [
        "df= df.drop('Occupation', axis=1)"
      ],
      "execution_count": 0,
      "outputs": []
    },
    {
      "metadata": {
        "id": "Usiz0lIe8sLE",
        "colab_type": "code",
        "outputId": "eb20f127-df59-4f41-cff1-59c25617819c",
        "colab": {
          "base_uri": "https://localhost:8080/",
          "height": 241
        }
      },
      "cell_type": "code",
      "source": [
        "df.head()"
      ],
      "execution_count": 0,
      "outputs": [
        {
          "output_type": "execute_result",
          "data": {
            "text/html": [
              "<div>\n",
              "<style scoped>\n",
              "    .dataframe tbody tr th:only-of-type {\n",
              "        vertical-align: middle;\n",
              "    }\n",
              "\n",
              "    .dataframe tbody tr th {\n",
              "        vertical-align: top;\n",
              "    }\n",
              "\n",
              "    .dataframe thead th {\n",
              "        text-align: right;\n",
              "    }\n",
              "</style>\n",
              "<table border=\"1\" class=\"dataframe\">\n",
              "  <thead>\n",
              "    <tr style=\"text-align: right;\">\n",
              "      <th></th>\n",
              "      <th>Gender</th>\n",
              "      <th>Age</th>\n",
              "      <th>Animation</th>\n",
              "      <th>War</th>\n",
              "      <th>Fantasy</th>\n",
              "      <th>Adventure</th>\n",
              "      <th>Children's</th>\n",
              "      <th>Comedy</th>\n",
              "      <th>Drama</th>\n",
              "      <th>Action</th>\n",
              "      <th>Romance</th>\n",
              "      <th>Crime</th>\n",
              "      <th>Horror</th>\n",
              "      <th>Musical</th>\n",
              "      <th>Film-Noir</th>\n",
              "      <th>Thriller</th>\n",
              "      <th>Documentary</th>\n",
              "      <th>Western</th>\n",
              "      <th>Mystery</th>\n",
              "      <th>Sci-Fi</th>\n",
              "      <th>Rating</th>\n",
              "      <th>administrator</th>\n",
              "      <th>artist</th>\n",
              "      <th>doctor</th>\n",
              "      <th>educator</th>\n",
              "      <th>engineer</th>\n",
              "      <th>entertainment</th>\n",
              "      <th>executive</th>\n",
              "      <th>healthcare</th>\n",
              "      <th>homemaker</th>\n",
              "      <th>lawyer</th>\n",
              "      <th>librarian</th>\n",
              "      <th>marketing</th>\n",
              "      <th>none</th>\n",
              "      <th>other</th>\n",
              "      <th>programmer</th>\n",
              "      <th>retired</th>\n",
              "      <th>salesman</th>\n",
              "      <th>scientist</th>\n",
              "      <th>student</th>\n",
              "      <th>technician</th>\n",
              "      <th>writer</th>\n",
              "    </tr>\n",
              "  </thead>\n",
              "  <tbody>\n",
              "    <tr>\n",
              "      <th>0</th>\n",
              "      <td>F</td>\n",
              "      <td>1</td>\n",
              "      <td>1</td>\n",
              "      <td>0</td>\n",
              "      <td>0</td>\n",
              "      <td>0</td>\n",
              "      <td>1</td>\n",
              "      <td>1</td>\n",
              "      <td>0</td>\n",
              "      <td>0</td>\n",
              "      <td>0</td>\n",
              "      <td>0</td>\n",
              "      <td>0</td>\n",
              "      <td>0</td>\n",
              "      <td>0</td>\n",
              "      <td>0</td>\n",
              "      <td>0</td>\n",
              "      <td>0</td>\n",
              "      <td>0</td>\n",
              "      <td>0</td>\n",
              "      <td>5</td>\n",
              "      <td>0</td>\n",
              "      <td>0</td>\n",
              "      <td>0</td>\n",
              "      <td>0</td>\n",
              "      <td>0</td>\n",
              "      <td>0</td>\n",
              "      <td>0</td>\n",
              "      <td>0</td>\n",
              "      <td>0</td>\n",
              "      <td>0</td>\n",
              "      <td>1</td>\n",
              "      <td>0</td>\n",
              "      <td>0</td>\n",
              "      <td>0</td>\n",
              "      <td>0</td>\n",
              "      <td>0</td>\n",
              "      <td>0</td>\n",
              "      <td>0</td>\n",
              "      <td>0</td>\n",
              "      <td>0</td>\n",
              "      <td>0</td>\n",
              "    </tr>\n",
              "    <tr>\n",
              "      <th>1</th>\n",
              "      <td>F</td>\n",
              "      <td>1</td>\n",
              "      <td>1</td>\n",
              "      <td>0</td>\n",
              "      <td>0</td>\n",
              "      <td>0</td>\n",
              "      <td>1</td>\n",
              "      <td>0</td>\n",
              "      <td>0</td>\n",
              "      <td>0</td>\n",
              "      <td>1</td>\n",
              "      <td>0</td>\n",
              "      <td>0</td>\n",
              "      <td>1</td>\n",
              "      <td>0</td>\n",
              "      <td>0</td>\n",
              "      <td>0</td>\n",
              "      <td>0</td>\n",
              "      <td>0</td>\n",
              "      <td>0</td>\n",
              "      <td>5</td>\n",
              "      <td>0</td>\n",
              "      <td>0</td>\n",
              "      <td>0</td>\n",
              "      <td>0</td>\n",
              "      <td>0</td>\n",
              "      <td>0</td>\n",
              "      <td>0</td>\n",
              "      <td>0</td>\n",
              "      <td>0</td>\n",
              "      <td>0</td>\n",
              "      <td>1</td>\n",
              "      <td>0</td>\n",
              "      <td>0</td>\n",
              "      <td>0</td>\n",
              "      <td>0</td>\n",
              "      <td>0</td>\n",
              "      <td>0</td>\n",
              "      <td>0</td>\n",
              "      <td>0</td>\n",
              "      <td>0</td>\n",
              "      <td>0</td>\n",
              "    </tr>\n",
              "    <tr>\n",
              "      <th>2</th>\n",
              "      <td>F</td>\n",
              "      <td>1</td>\n",
              "      <td>0</td>\n",
              "      <td>0</td>\n",
              "      <td>0</td>\n",
              "      <td>0</td>\n",
              "      <td>0</td>\n",
              "      <td>0</td>\n",
              "      <td>1</td>\n",
              "      <td>0</td>\n",
              "      <td>0</td>\n",
              "      <td>0</td>\n",
              "      <td>0</td>\n",
              "      <td>0</td>\n",
              "      <td>0</td>\n",
              "      <td>0</td>\n",
              "      <td>0</td>\n",
              "      <td>0</td>\n",
              "      <td>0</td>\n",
              "      <td>0</td>\n",
              "      <td>5</td>\n",
              "      <td>0</td>\n",
              "      <td>0</td>\n",
              "      <td>0</td>\n",
              "      <td>0</td>\n",
              "      <td>0</td>\n",
              "      <td>0</td>\n",
              "      <td>0</td>\n",
              "      <td>0</td>\n",
              "      <td>0</td>\n",
              "      <td>0</td>\n",
              "      <td>1</td>\n",
              "      <td>0</td>\n",
              "      <td>0</td>\n",
              "      <td>0</td>\n",
              "      <td>0</td>\n",
              "      <td>0</td>\n",
              "      <td>0</td>\n",
              "      <td>0</td>\n",
              "      <td>0</td>\n",
              "      <td>0</td>\n",
              "      <td>0</td>\n",
              "    </tr>\n",
              "    <tr>\n",
              "      <th>3</th>\n",
              "      <td>F</td>\n",
              "      <td>1</td>\n",
              "      <td>0</td>\n",
              "      <td>0</td>\n",
              "      <td>1</td>\n",
              "      <td>1</td>\n",
              "      <td>0</td>\n",
              "      <td>0</td>\n",
              "      <td>0</td>\n",
              "      <td>1</td>\n",
              "      <td>0</td>\n",
              "      <td>0</td>\n",
              "      <td>0</td>\n",
              "      <td>0</td>\n",
              "      <td>0</td>\n",
              "      <td>0</td>\n",
              "      <td>0</td>\n",
              "      <td>0</td>\n",
              "      <td>0</td>\n",
              "      <td>1</td>\n",
              "      <td>4</td>\n",
              "      <td>0</td>\n",
              "      <td>0</td>\n",
              "      <td>0</td>\n",
              "      <td>0</td>\n",
              "      <td>0</td>\n",
              "      <td>0</td>\n",
              "      <td>0</td>\n",
              "      <td>0</td>\n",
              "      <td>0</td>\n",
              "      <td>0</td>\n",
              "      <td>1</td>\n",
              "      <td>0</td>\n",
              "      <td>0</td>\n",
              "      <td>0</td>\n",
              "      <td>0</td>\n",
              "      <td>0</td>\n",
              "      <td>0</td>\n",
              "      <td>0</td>\n",
              "      <td>0</td>\n",
              "      <td>0</td>\n",
              "      <td>0</td>\n",
              "    </tr>\n",
              "    <tr>\n",
              "      <th>4</th>\n",
              "      <td>F</td>\n",
              "      <td>1</td>\n",
              "      <td>0</td>\n",
              "      <td>1</td>\n",
              "      <td>0</td>\n",
              "      <td>0</td>\n",
              "      <td>0</td>\n",
              "      <td>0</td>\n",
              "      <td>1</td>\n",
              "      <td>0</td>\n",
              "      <td>0</td>\n",
              "      <td>0</td>\n",
              "      <td>0</td>\n",
              "      <td>0</td>\n",
              "      <td>0</td>\n",
              "      <td>0</td>\n",
              "      <td>0</td>\n",
              "      <td>0</td>\n",
              "      <td>0</td>\n",
              "      <td>0</td>\n",
              "      <td>5</td>\n",
              "      <td>0</td>\n",
              "      <td>0</td>\n",
              "      <td>0</td>\n",
              "      <td>0</td>\n",
              "      <td>0</td>\n",
              "      <td>0</td>\n",
              "      <td>0</td>\n",
              "      <td>0</td>\n",
              "      <td>0</td>\n",
              "      <td>0</td>\n",
              "      <td>1</td>\n",
              "      <td>0</td>\n",
              "      <td>0</td>\n",
              "      <td>0</td>\n",
              "      <td>0</td>\n",
              "      <td>0</td>\n",
              "      <td>0</td>\n",
              "      <td>0</td>\n",
              "      <td>0</td>\n",
              "      <td>0</td>\n",
              "      <td>0</td>\n",
              "    </tr>\n",
              "  </tbody>\n",
              "</table>\n",
              "</div>"
            ],
            "text/plain": [
              "  Gender  Age  Animation  War  Fantasy  Adventure  Children's  Comedy  Drama  \\\n",
              "0      F    1          1    0        0          0           1       1      0   \n",
              "1      F    1          1    0        0          0           1       0      0   \n",
              "2      F    1          0    0        0          0           0       0      1   \n",
              "3      F    1          0    0        1          1           0       0      0   \n",
              "4      F    1          0    1        0          0           0       0      1   \n",
              "\n",
              "   Action  Romance  Crime  Horror  Musical  Film-Noir  Thriller  Documentary  \\\n",
              "0       0        0      0       0        0          0         0            0   \n",
              "1       0        1      0       0        1          0         0            0   \n",
              "2       0        0      0       0        0          0         0            0   \n",
              "3       1        0      0       0        0          0         0            0   \n",
              "4       0        0      0       0        0          0         0            0   \n",
              "\n",
              "   Western  Mystery  Sci-Fi  Rating  administrator  artist  doctor  educator  \\\n",
              "0        0        0       0       5              0       0       0         0   \n",
              "1        0        0       0       5              0       0       0         0   \n",
              "2        0        0       0       5              0       0       0         0   \n",
              "3        0        0       1       4              0       0       0         0   \n",
              "4        0        0       0       5              0       0       0         0   \n",
              "\n",
              "   engineer  entertainment  executive  healthcare  homemaker  lawyer  \\\n",
              "0         0              0          0           0          0       0   \n",
              "1         0              0          0           0          0       0   \n",
              "2         0              0          0           0          0       0   \n",
              "3         0              0          0           0          0       0   \n",
              "4         0              0          0           0          0       0   \n",
              "\n",
              "   librarian  marketing  none  other  programmer  retired  salesman  \\\n",
              "0          1          0     0      0           0        0         0   \n",
              "1          1          0     0      0           0        0         0   \n",
              "2          1          0     0      0           0        0         0   \n",
              "3          1          0     0      0           0        0         0   \n",
              "4          1          0     0      0           0        0         0   \n",
              "\n",
              "   scientist  student  technician  writer  \n",
              "0          0        0           0       0  \n",
              "1          0        0           0       0  \n",
              "2          0        0           0       0  \n",
              "3          0        0           0       0  \n",
              "4          0        0           0       0  "
            ]
          },
          "metadata": {
            "tags": []
          },
          "execution_count": 74
        }
      ]
    },
    {
      "metadata": {
        "id": "4I1mTIv18sLL",
        "colab_type": "code",
        "outputId": "c0736a80-4ff9-48f9-848c-1e310e7748b1",
        "colab": {
          "base_uri": "https://localhost:8080/",
          "height": 34
        }
      },
      "cell_type": "code",
      "source": [
        "set(df.Age)"
      ],
      "execution_count": 0,
      "outputs": [
        {
          "output_type": "execute_result",
          "data": {
            "text/plain": [
              "{1, 18, 25, 35, 45, 50, 56}"
            ]
          },
          "metadata": {
            "tags": []
          },
          "execution_count": 75
        }
      ]
    },
    {
      "metadata": {
        "id": "5OXTUHrn8sLR",
        "colab_type": "code",
        "outputId": "054309b4-d895-4401-f613-f6acc755901b",
        "colab": {
          "base_uri": "https://localhost:8080/",
          "height": 323
        }
      },
      "cell_type": "code",
      "source": [
        "for i in list(unique_genres):\n",
        "    print(i,\":\", df.loc[df.Age == 1][i].sum())"
      ],
      "execution_count": 0,
      "outputs": [
        {
          "output_type": "stream",
          "text": [
            "Fantasy : 1360\n",
            "Romance : 3599\n",
            "Adventure : 3998\n",
            "Horror : 2211\n",
            "Documentary : 130\n",
            "Western : 335\n",
            "Drama : 7483\n",
            "Musical : 1647\n",
            "Film-Noir : 330\n",
            "War : 1578\n",
            "Crime : 1701\n",
            "Thriller : 4824\n",
            "Action : 6578\n",
            "Children's : 4337\n",
            "Comedy : 11162\n",
            "Mystery : 920\n",
            "Animation : 2449\n",
            "Sci-Fi : 4178\n"
          ],
          "name": "stdout"
        }
      ]
    },
    {
      "metadata": {
        "id": "0YVpIK-n8sLb",
        "colab_type": "text"
      },
      "cell_type": "markdown",
      "source": [
        "*There is something ambiguous in the Age column, I don't think a 1 Year old kid will watch movies and will rate it. These values might be for less than 18 years of age. So, Its best to remove these columns from the data frame.*"
      ]
    },
    {
      "metadata": {
        "id": "4WSieBwk8sLc",
        "colab_type": "code",
        "colab": {}
      },
      "cell_type": "code",
      "source": [
        "df.drop(df.loc[df.Age == 1].index, inplace= True)"
      ],
      "execution_count": 0,
      "outputs": []
    },
    {
      "metadata": {
        "id": "EiMpjVLz8sLj",
        "colab_type": "code",
        "colab": {}
      },
      "cell_type": "code",
      "source": [
        "df= df.reset_index()\n",
        "df= df.drop('index', axis=1)"
      ],
      "execution_count": 0,
      "outputs": []
    },
    {
      "metadata": {
        "id": "gLeMUOGL8sLp",
        "colab_type": "code",
        "outputId": "6e3ff1fd-a293-4585-958a-9007c56266ac",
        "colab": {
          "base_uri": "https://localhost:8080/",
          "height": 241
        }
      },
      "cell_type": "code",
      "source": [
        "df.head()"
      ],
      "execution_count": 0,
      "outputs": [
        {
          "output_type": "execute_result",
          "data": {
            "text/html": [
              "<div>\n",
              "<style scoped>\n",
              "    .dataframe tbody tr th:only-of-type {\n",
              "        vertical-align: middle;\n",
              "    }\n",
              "\n",
              "    .dataframe tbody tr th {\n",
              "        vertical-align: top;\n",
              "    }\n",
              "\n",
              "    .dataframe thead th {\n",
              "        text-align: right;\n",
              "    }\n",
              "</style>\n",
              "<table border=\"1\" class=\"dataframe\">\n",
              "  <thead>\n",
              "    <tr style=\"text-align: right;\">\n",
              "      <th></th>\n",
              "      <th>Gender</th>\n",
              "      <th>Age</th>\n",
              "      <th>Animation</th>\n",
              "      <th>War</th>\n",
              "      <th>Fantasy</th>\n",
              "      <th>Adventure</th>\n",
              "      <th>Children's</th>\n",
              "      <th>Comedy</th>\n",
              "      <th>Drama</th>\n",
              "      <th>Action</th>\n",
              "      <th>Romance</th>\n",
              "      <th>Crime</th>\n",
              "      <th>Horror</th>\n",
              "      <th>Musical</th>\n",
              "      <th>Film-Noir</th>\n",
              "      <th>Thriller</th>\n",
              "      <th>Documentary</th>\n",
              "      <th>Western</th>\n",
              "      <th>Mystery</th>\n",
              "      <th>Sci-Fi</th>\n",
              "      <th>Rating</th>\n",
              "      <th>administrator</th>\n",
              "      <th>artist</th>\n",
              "      <th>doctor</th>\n",
              "      <th>educator</th>\n",
              "      <th>engineer</th>\n",
              "      <th>entertainment</th>\n",
              "      <th>executive</th>\n",
              "      <th>healthcare</th>\n",
              "      <th>homemaker</th>\n",
              "      <th>lawyer</th>\n",
              "      <th>librarian</th>\n",
              "      <th>marketing</th>\n",
              "      <th>none</th>\n",
              "      <th>other</th>\n",
              "      <th>programmer</th>\n",
              "      <th>retired</th>\n",
              "      <th>salesman</th>\n",
              "      <th>scientist</th>\n",
              "      <th>student</th>\n",
              "      <th>technician</th>\n",
              "      <th>writer</th>\n",
              "    </tr>\n",
              "  </thead>\n",
              "  <tbody>\n",
              "    <tr>\n",
              "      <th>0</th>\n",
              "      <td>F</td>\n",
              "      <td>50</td>\n",
              "      <td>1</td>\n",
              "      <td>0</td>\n",
              "      <td>0</td>\n",
              "      <td>0</td>\n",
              "      <td>1</td>\n",
              "      <td>1</td>\n",
              "      <td>0</td>\n",
              "      <td>0</td>\n",
              "      <td>0</td>\n",
              "      <td>0</td>\n",
              "      <td>0</td>\n",
              "      <td>0</td>\n",
              "      <td>0</td>\n",
              "      <td>0</td>\n",
              "      <td>0</td>\n",
              "      <td>0</td>\n",
              "      <td>0</td>\n",
              "      <td>0</td>\n",
              "      <td>4</td>\n",
              "      <td>0</td>\n",
              "      <td>0</td>\n",
              "      <td>0</td>\n",
              "      <td>0</td>\n",
              "      <td>0</td>\n",
              "      <td>0</td>\n",
              "      <td>0</td>\n",
              "      <td>0</td>\n",
              "      <td>0</td>\n",
              "      <td>1</td>\n",
              "      <td>0</td>\n",
              "      <td>0</td>\n",
              "      <td>0</td>\n",
              "      <td>0</td>\n",
              "      <td>0</td>\n",
              "      <td>0</td>\n",
              "      <td>0</td>\n",
              "      <td>0</td>\n",
              "      <td>0</td>\n",
              "      <td>0</td>\n",
              "      <td>0</td>\n",
              "    </tr>\n",
              "    <tr>\n",
              "      <th>1</th>\n",
              "      <td>F</td>\n",
              "      <td>50</td>\n",
              "      <td>0</td>\n",
              "      <td>0</td>\n",
              "      <td>0</td>\n",
              "      <td>0</td>\n",
              "      <td>0</td>\n",
              "      <td>0</td>\n",
              "      <td>1</td>\n",
              "      <td>0</td>\n",
              "      <td>1</td>\n",
              "      <td>0</td>\n",
              "      <td>0</td>\n",
              "      <td>0</td>\n",
              "      <td>0</td>\n",
              "      <td>0</td>\n",
              "      <td>0</td>\n",
              "      <td>0</td>\n",
              "      <td>0</td>\n",
              "      <td>0</td>\n",
              "      <td>4</td>\n",
              "      <td>0</td>\n",
              "      <td>0</td>\n",
              "      <td>0</td>\n",
              "      <td>0</td>\n",
              "      <td>0</td>\n",
              "      <td>0</td>\n",
              "      <td>0</td>\n",
              "      <td>0</td>\n",
              "      <td>0</td>\n",
              "      <td>1</td>\n",
              "      <td>0</td>\n",
              "      <td>0</td>\n",
              "      <td>0</td>\n",
              "      <td>0</td>\n",
              "      <td>0</td>\n",
              "      <td>0</td>\n",
              "      <td>0</td>\n",
              "      <td>0</td>\n",
              "      <td>0</td>\n",
              "      <td>0</td>\n",
              "      <td>0</td>\n",
              "    </tr>\n",
              "    <tr>\n",
              "      <th>2</th>\n",
              "      <td>F</td>\n",
              "      <td>50</td>\n",
              "      <td>0</td>\n",
              "      <td>0</td>\n",
              "      <td>0</td>\n",
              "      <td>0</td>\n",
              "      <td>1</td>\n",
              "      <td>1</td>\n",
              "      <td>1</td>\n",
              "      <td>0</td>\n",
              "      <td>0</td>\n",
              "      <td>0</td>\n",
              "      <td>0</td>\n",
              "      <td>0</td>\n",
              "      <td>0</td>\n",
              "      <td>0</td>\n",
              "      <td>0</td>\n",
              "      <td>0</td>\n",
              "      <td>0</td>\n",
              "      <td>0</td>\n",
              "      <td>4</td>\n",
              "      <td>0</td>\n",
              "      <td>0</td>\n",
              "      <td>0</td>\n",
              "      <td>0</td>\n",
              "      <td>0</td>\n",
              "      <td>0</td>\n",
              "      <td>0</td>\n",
              "      <td>0</td>\n",
              "      <td>0</td>\n",
              "      <td>1</td>\n",
              "      <td>0</td>\n",
              "      <td>0</td>\n",
              "      <td>0</td>\n",
              "      <td>0</td>\n",
              "      <td>0</td>\n",
              "      <td>0</td>\n",
              "      <td>0</td>\n",
              "      <td>0</td>\n",
              "      <td>0</td>\n",
              "      <td>0</td>\n",
              "      <td>0</td>\n",
              "    </tr>\n",
              "    <tr>\n",
              "      <th>3</th>\n",
              "      <td>F</td>\n",
              "      <td>50</td>\n",
              "      <td>1</td>\n",
              "      <td>0</td>\n",
              "      <td>0</td>\n",
              "      <td>0</td>\n",
              "      <td>1</td>\n",
              "      <td>0</td>\n",
              "      <td>0</td>\n",
              "      <td>0</td>\n",
              "      <td>1</td>\n",
              "      <td>0</td>\n",
              "      <td>0</td>\n",
              "      <td>1</td>\n",
              "      <td>0</td>\n",
              "      <td>0</td>\n",
              "      <td>0</td>\n",
              "      <td>0</td>\n",
              "      <td>0</td>\n",
              "      <td>0</td>\n",
              "      <td>5</td>\n",
              "      <td>0</td>\n",
              "      <td>0</td>\n",
              "      <td>0</td>\n",
              "      <td>0</td>\n",
              "      <td>0</td>\n",
              "      <td>0</td>\n",
              "      <td>0</td>\n",
              "      <td>0</td>\n",
              "      <td>0</td>\n",
              "      <td>1</td>\n",
              "      <td>0</td>\n",
              "      <td>0</td>\n",
              "      <td>0</td>\n",
              "      <td>0</td>\n",
              "      <td>0</td>\n",
              "      <td>0</td>\n",
              "      <td>0</td>\n",
              "      <td>0</td>\n",
              "      <td>0</td>\n",
              "      <td>0</td>\n",
              "      <td>0</td>\n",
              "    </tr>\n",
              "    <tr>\n",
              "      <th>4</th>\n",
              "      <td>F</td>\n",
              "      <td>50</td>\n",
              "      <td>0</td>\n",
              "      <td>0</td>\n",
              "      <td>0</td>\n",
              "      <td>0</td>\n",
              "      <td>0</td>\n",
              "      <td>0</td>\n",
              "      <td>1</td>\n",
              "      <td>0</td>\n",
              "      <td>0</td>\n",
              "      <td>0</td>\n",
              "      <td>0</td>\n",
              "      <td>1</td>\n",
              "      <td>0</td>\n",
              "      <td>0</td>\n",
              "      <td>0</td>\n",
              "      <td>0</td>\n",
              "      <td>0</td>\n",
              "      <td>0</td>\n",
              "      <td>5</td>\n",
              "      <td>0</td>\n",
              "      <td>0</td>\n",
              "      <td>0</td>\n",
              "      <td>0</td>\n",
              "      <td>0</td>\n",
              "      <td>0</td>\n",
              "      <td>0</td>\n",
              "      <td>0</td>\n",
              "      <td>0</td>\n",
              "      <td>1</td>\n",
              "      <td>0</td>\n",
              "      <td>0</td>\n",
              "      <td>0</td>\n",
              "      <td>0</td>\n",
              "      <td>0</td>\n",
              "      <td>0</td>\n",
              "      <td>0</td>\n",
              "      <td>0</td>\n",
              "      <td>0</td>\n",
              "      <td>0</td>\n",
              "      <td>0</td>\n",
              "    </tr>\n",
              "  </tbody>\n",
              "</table>\n",
              "</div>"
            ],
            "text/plain": [
              "  Gender  Age  Animation  War  Fantasy  Adventure  Children's  Comedy  Drama  \\\n",
              "0      F   50          1    0        0          0           1       1      0   \n",
              "1      F   50          0    0        0          0           0       0      1   \n",
              "2      F   50          0    0        0          0           1       1      1   \n",
              "3      F   50          1    0        0          0           1       0      0   \n",
              "4      F   50          0    0        0          0           0       0      1   \n",
              "\n",
              "   Action  Romance  Crime  Horror  Musical  Film-Noir  Thriller  Documentary  \\\n",
              "0       0        0      0       0        0          0         0            0   \n",
              "1       0        1      0       0        0          0         0            0   \n",
              "2       0        0      0       0        0          0         0            0   \n",
              "3       0        1      0       0        1          0         0            0   \n",
              "4       0        0      0       0        1          0         0            0   \n",
              "\n",
              "   Western  Mystery  Sci-Fi  Rating  administrator  artist  doctor  educator  \\\n",
              "0        0        0       0       4              0       0       0         0   \n",
              "1        0        0       0       4              0       0       0         0   \n",
              "2        0        0       0       4              0       0       0         0   \n",
              "3        0        0       0       5              0       0       0         0   \n",
              "4        0        0       0       5              0       0       0         0   \n",
              "\n",
              "   engineer  entertainment  executive  healthcare  homemaker  lawyer  \\\n",
              "0         0              0          0           0          0       1   \n",
              "1         0              0          0           0          0       1   \n",
              "2         0              0          0           0          0       1   \n",
              "3         0              0          0           0          0       1   \n",
              "4         0              0          0           0          0       1   \n",
              "\n",
              "   librarian  marketing  none  other  programmer  retired  salesman  \\\n",
              "0          0          0     0      0           0        0         0   \n",
              "1          0          0     0      0           0        0         0   \n",
              "2          0          0     0      0           0        0         0   \n",
              "3          0          0     0      0           0        0         0   \n",
              "4          0          0     0      0           0        0         0   \n",
              "\n",
              "   scientist  student  technician  writer  \n",
              "0          0        0           0       0  \n",
              "1          0        0           0       0  \n",
              "2          0        0           0       0  \n",
              "3          0        0           0       0  \n",
              "4          0        0           0       0  "
            ]
          },
          "metadata": {
            "tags": []
          },
          "execution_count": 79
        }
      ]
    },
    {
      "metadata": {
        "id": "gjjYCqup8sLu",
        "colab_type": "code",
        "outputId": "3ef28522-a2e3-4be1-ee9e-22499dc36851",
        "colab": {
          "base_uri": "https://localhost:8080/",
          "height": 394
        }
      },
      "cell_type": "code",
      "source": [
        "# Check for dependency of ratings on Age\n",
        "# Distribution of Age\n",
        "sns.distplot(df.Age, hist= False)"
      ],
      "execution_count": 0,
      "outputs": [
        {
          "output_type": "execute_result",
          "data": {
            "text/plain": [
              "<matplotlib.axes._subplots.AxesSubplot at 0x7fb096fc6f60>"
            ]
          },
          "metadata": {
            "tags": []
          },
          "execution_count": 80
        },
        {
          "output_type": "display_data",
          "data": {
            "image/png": "[encoded data removed]",
            "text/plain": [
              "<Figure size 576x396 with 1 Axes>"
            ]
          },
          "metadata": {
            "tags": []
          }
        }
      ]
    },
    {
      "metadata": {
        "id": "DEly1g5m8sL-",
        "colab_type": "text"
      },
      "cell_type": "markdown",
      "source": [
        "### Shapiro- Wilk Test of Normality \n",
        "\n",
        "**H0: Age feature is normal.**"
      ]
    },
    {
      "metadata": {
        "scrolled": true,
        "id": "fsmbHeQo8sMB",
        "colab_type": "code",
        "outputId": "945990f2-37ef-42ad-8e07-77a8efb12563",
        "colab": {
          "base_uri": "https://localhost:8080/",
          "height": 34
        }
      },
      "cell_type": "code",
      "source": [
        "#Check for nomality of Age\n",
        "# Shapiro- Wilk Test\n",
        "from scipy.stats import shapiro\n",
        "stat, p= shapiro(df.Age)\n",
        "print(stat, p)"
      ],
      "execution_count": 0,
      "outputs": [
        {
          "output_type": "stream",
          "text": [
            "0.8496972322463989 0.0\n"
          ],
          "name": "stdout"
        }
      ]
    },
    {
      "metadata": {
        "id": "FK9fZxFi8sMM",
        "colab_type": "text"
      },
      "cell_type": "markdown",
      "source": [
        "*P value(0.0) returned is less than 0.05, then the null hypothesis is rejected and there is evidence that the data is not from a normally distributed population. now lets check for QQ Plots*"
      ]
    },
    {
      "metadata": {
        "id": "z0mRKol28sMN",
        "colab_type": "code",
        "outputId": "ab8b7d8b-fdd0-400a-8448-b2b587389e04",
        "colab": {
          "base_uri": "https://localhost:8080/",
          "height": 377
        }
      },
      "cell_type": "code",
      "source": [
        "import statsmodels.api as sm\n",
        "import pylab\n",
        "sm.qqplot(df.Age, loc = 4, scale = 3, line='s')\n",
        "pylab.show()"
      ],
      "execution_count": 0,
      "outputs": [
        {
          "output_type": "display_data",
          "data": {
            "image/png": "[encoded data removed]",
            "text/plain": [
              "<Figure size 576x396 with 1 Axes>"
            ]
          },
          "metadata": {
            "tags": []
          }
        }
      ]
    },
    {
      "metadata": {
        "id": "AGy9smb68sMU",
        "colab_type": "text"
      },
      "cell_type": "markdown",
      "source": [
        "*This QQ plot shows that that age column is not normally distributed*.\n",
        "\n",
        "So to check the dependency between Age and ratings we will use a non parametric test i.e. Mann-Whitney test"
      ]
    },
    {
      "metadata": {
        "id": "1Ok3hWfk8sMW",
        "colab_type": "code",
        "outputId": "f53bad89-6eac-449b-a238-780f661c4f5d",
        "colab": {
          "base_uri": "https://localhost:8080/",
          "height": 34
        }
      },
      "cell_type": "code",
      "source": [
        "# Mann-Whitney test\n",
        "from scipy.stats import mannwhitneyu\n",
        "stat, p = mannwhitneyu(df.Age, df.Rating)\n",
        "print(stat, p)"
      ],
      "execution_count": 0,
      "outputs": [
        {
          "output_type": "stream",
          "text": [
            "0.0 0.0\n"
          ],
          "name": "stdout"
        }
      ]
    },
    {
      "metadata": {
        "id": "g197Mu5a8sMe",
        "colab_type": "code",
        "colab": {}
      },
      "cell_type": "code",
      "source": [
        "df= df.drop('Age', axis=1)"
      ],
      "execution_count": 0,
      "outputs": []
    },
    {
      "metadata": {
        "id": "RG6YfeMz8sMp",
        "colab_type": "text"
      },
      "cell_type": "markdown",
      "source": [
        "*P value(0.0) returned is less than 0.05, then the null hypothesis is rejected and there is evidence that the distributions are different. Hence It is best to drop Age from the features set.\n",
        "\n",
        "In general Age might affect the ratings for a particular variable(i.e lower age groups might will rate animated movies most often and it is obvious that they will rate animated movies with higher values), but it will not affect the overall ratings."
      ]
    },
    {
      "metadata": {
        "id": "4syFPvEm8sMw",
        "colab_type": "code",
        "outputId": "ec342fec-b095-49e2-ba2e-a569819c77c8",
        "colab": {
          "base_uri": "https://localhost:8080/",
          "height": 34
        }
      },
      "cell_type": "code",
      "source": [
        "df.shape"
      ],
      "execution_count": 0,
      "outputs": [
        {
          "output_type": "execute_result",
          "data": {
            "text/plain": [
              "(972998, 41)"
            ]
          },
          "metadata": {
            "tags": []
          },
          "execution_count": 85
        }
      ]
    },
    {
      "metadata": {
        "id": "Mt5PdGm28sM_",
        "colab_type": "code",
        "outputId": "31f55a5b-c079-45ce-9633-9be95113ddfc",
        "colab": {
          "base_uri": "https://localhost:8080/",
          "height": 68
        }
      },
      "cell_type": "code",
      "source": [
        "df.Gender.value_counts()"
      ],
      "execution_count": 0,
      "outputs": [
        {
          "output_type": "execute_result",
          "data": {
            "text/plain": [
              "M    735385\n",
              "F    237613\n",
              "Name: Gender, dtype: int64"
            ]
          },
          "metadata": {
            "tags": []
          },
          "execution_count": 86
        }
      ]
    },
    {
      "metadata": {
        "id": "Pg_NTs1i8sNH",
        "colab_type": "code",
        "colab": {}
      },
      "cell_type": "code",
      "source": [
        "Gender_dict= {'F': 1, 'M': 0}"
      ],
      "execution_count": 0,
      "outputs": []
    },
    {
      "metadata": {
        "id": "muaTW6iQ8sNM",
        "colab_type": "code",
        "colab": {}
      },
      "cell_type": "code",
      "source": [
        "df.Gender= df.Gender.map(Gender_dict)"
      ],
      "execution_count": 0,
      "outputs": []
    },
    {
      "metadata": {
        "id": "v87do4Jm8sNR",
        "colab_type": "code",
        "outputId": "a6414a66-e8c2-49e7-b550-01b63985e953",
        "colab": {
          "base_uri": "https://localhost:8080/",
          "height": 241
        }
      },
      "cell_type": "code",
      "source": [
        "df.head()"
      ],
      "execution_count": 0,
      "outputs": [
        {
          "output_type": "execute_result",
          "data": {
            "text/html": [
              "<div>\n",
              "<style scoped>\n",
              "    .dataframe tbody tr th:only-of-type {\n",
              "        vertical-align: middle;\n",
              "    }\n",
              "\n",
              "    .dataframe tbody tr th {\n",
              "        vertical-align: top;\n",
              "    }\n",
              "\n",
              "    .dataframe thead th {\n",
              "        text-align: right;\n",
              "    }\n",
              "</style>\n",
              "<table border=\"1\" class=\"dataframe\">\n",
              "  <thead>\n",
              "    <tr style=\"text-align: right;\">\n",
              "      <th></th>\n",
              "      <th>Gender</th>\n",
              "      <th>Animation</th>\n",
              "      <th>War</th>\n",
              "      <th>Fantasy</th>\n",
              "      <th>Adventure</th>\n",
              "      <th>Children's</th>\n",
              "      <th>Comedy</th>\n",
              "      <th>Drama</th>\n",
              "      <th>Action</th>\n",
              "      <th>Romance</th>\n",
              "      <th>Crime</th>\n",
              "      <th>Horror</th>\n",
              "      <th>Musical</th>\n",
              "      <th>Film-Noir</th>\n",
              "      <th>Thriller</th>\n",
              "      <th>Documentary</th>\n",
              "      <th>Western</th>\n",
              "      <th>Mystery</th>\n",
              "      <th>Sci-Fi</th>\n",
              "      <th>Rating</th>\n",
              "      <th>administrator</th>\n",
              "      <th>artist</th>\n",
              "      <th>doctor</th>\n",
              "      <th>educator</th>\n",
              "      <th>engineer</th>\n",
              "      <th>entertainment</th>\n",
              "      <th>executive</th>\n",
              "      <th>healthcare</th>\n",
              "      <th>homemaker</th>\n",
              "      <th>lawyer</th>\n",
              "      <th>librarian</th>\n",
              "      <th>marketing</th>\n",
              "      <th>none</th>\n",
              "      <th>other</th>\n",
              "      <th>programmer</th>\n",
              "      <th>retired</th>\n",
              "      <th>salesman</th>\n",
              "      <th>scientist</th>\n",
              "      <th>student</th>\n",
              "      <th>technician</th>\n",
              "      <th>writer</th>\n",
              "    </tr>\n",
              "  </thead>\n",
              "  <tbody>\n",
              "    <tr>\n",
              "      <th>0</th>\n",
              "      <td>1</td>\n",
              "      <td>1</td>\n",
              "      <td>0</td>\n",
              "      <td>0</td>\n",
              "      <td>0</td>\n",
              "      <td>1</td>\n",
              "      <td>1</td>\n",
              "      <td>0</td>\n",
              "      <td>0</td>\n",
              "      <td>0</td>\n",
              "      <td>0</td>\n",
              "      <td>0</td>\n",
              "      <td>0</td>\n",
              "      <td>0</td>\n",
              "      <td>0</td>\n",
              "      <td>0</td>\n",
              "      <td>0</td>\n",
              "      <td>0</td>\n",
              "      <td>0</td>\n",
              "      <td>4</td>\n",
              "      <td>0</td>\n",
              "      <td>0</td>\n",
              "      <td>0</td>\n",
              "      <td>0</td>\n",
              "      <td>0</td>\n",
              "      <td>0</td>\n",
              "      <td>0</td>\n",
              "      <td>0</td>\n",
              "      <td>0</td>\n",
              "      <td>1</td>\n",
              "      <td>0</td>\n",
              "      <td>0</td>\n",
              "      <td>0</td>\n",
              "      <td>0</td>\n",
              "      <td>0</td>\n",
              "      <td>0</td>\n",
              "      <td>0</td>\n",
              "      <td>0</td>\n",
              "      <td>0</td>\n",
              "      <td>0</td>\n",
              "      <td>0</td>\n",
              "    </tr>\n",
              "    <tr>\n",
              "      <th>1</th>\n",
              "      <td>1</td>\n",
              "      <td>0</td>\n",
              "      <td>0</td>\n",
              "      <td>0</td>\n",
              "      <td>0</td>\n",
              "      <td>0</td>\n",
              "      <td>0</td>\n",
              "      <td>1</td>\n",
              "      <td>0</td>\n",
              "      <td>1</td>\n",
              "      <td>0</td>\n",
              "      <td>0</td>\n",
              "      <td>0</td>\n",
              "      <td>0</td>\n",
              "      <td>0</td>\n",
              "      <td>0</td>\n",
              "      <td>0</td>\n",
              "      <td>0</td>\n",
              "      <td>0</td>\n",
              "      <td>4</td>\n",
              "      <td>0</td>\n",
              "      <td>0</td>\n",
              "      <td>0</td>\n",
              "      <td>0</td>\n",
              "      <td>0</td>\n",
              "      <td>0</td>\n",
              "      <td>0</td>\n",
              "      <td>0</td>\n",
              "      <td>0</td>\n",
              "      <td>1</td>\n",
              "      <td>0</td>\n",
              "      <td>0</td>\n",
              "      <td>0</td>\n",
              "      <td>0</td>\n",
              "      <td>0</td>\n",
              "      <td>0</td>\n",
              "      <td>0</td>\n",
              "      <td>0</td>\n",
              "      <td>0</td>\n",
              "      <td>0</td>\n",
              "      <td>0</td>\n",
              "    </tr>\n",
              "    <tr>\n",
              "      <th>2</th>\n",
              "      <td>1</td>\n",
              "      <td>0</td>\n",
              "      <td>0</td>\n",
              "      <td>0</td>\n",
              "      <td>0</td>\n",
              "      <td>1</td>\n",
              "      <td>1</td>\n",
              "      <td>1</td>\n",
              "      <td>0</td>\n",
              "      <td>0</td>\n",
              "      <td>0</td>\n",
              "      <td>0</td>\n",
              "      <td>0</td>\n",
              "      <td>0</td>\n",
              "      <td>0</td>\n",
              "      <td>0</td>\n",
              "      <td>0</td>\n",
              "      <td>0</td>\n",
              "      <td>0</td>\n",
              "      <td>4</td>\n",
              "      <td>0</td>\n",
              "      <td>0</td>\n",
              "      <td>0</td>\n",
              "      <td>0</td>\n",
              "      <td>0</td>\n",
              "      <td>0</td>\n",
              "      <td>0</td>\n",
              "      <td>0</td>\n",
              "      <td>0</td>\n",
              "      <td>1</td>\n",
              "      <td>0</td>\n",
              "      <td>0</td>\n",
              "      <td>0</td>\n",
              "      <td>0</td>\n",
              "      <td>0</td>\n",
              "      <td>0</td>\n",
              "      <td>0</td>\n",
              "      <td>0</td>\n",
              "      <td>0</td>\n",
              "      <td>0</td>\n",
              "      <td>0</td>\n",
              "    </tr>\n",
              "    <tr>\n",
              "      <th>3</th>\n",
              "      <td>1</td>\n",
              "      <td>1</td>\n",
              "      <td>0</td>\n",
              "      <td>0</td>\n",
              "      <td>0</td>\n",
              "      <td>1</td>\n",
              "      <td>0</td>\n",
              "      <td>0</td>\n",
              "      <td>0</td>\n",
              "      <td>1</td>\n",
              "      <td>0</td>\n",
              "      <td>0</td>\n",
              "      <td>1</td>\n",
              "      <td>0</td>\n",
              "      <td>0</td>\n",
              "      <td>0</td>\n",
              "      <td>0</td>\n",
              "      <td>0</td>\n",
              "      <td>0</td>\n",
              "      <td>5</td>\n",
              "      <td>0</td>\n",
              "      <td>0</td>\n",
              "      <td>0</td>\n",
              "      <td>0</td>\n",
              "      <td>0</td>\n",
              "      <td>0</td>\n",
              "      <td>0</td>\n",
              "      <td>0</td>\n",
              "      <td>0</td>\n",
              "      <td>1</td>\n",
              "      <td>0</td>\n",
              "      <td>0</td>\n",
              "      <td>0</td>\n",
              "      <td>0</td>\n",
              "      <td>0</td>\n",
              "      <td>0</td>\n",
              "      <td>0</td>\n",
              "      <td>0</td>\n",
              "      <td>0</td>\n",
              "      <td>0</td>\n",
              "      <td>0</td>\n",
              "    </tr>\n",
              "    <tr>\n",
              "      <th>4</th>\n",
              "      <td>1</td>\n",
              "      <td>0</td>\n",
              "      <td>0</td>\n",
              "      <td>0</td>\n",
              "      <td>0</td>\n",
              "      <td>0</td>\n",
              "      <td>0</td>\n",
              "      <td>1</td>\n",
              "      <td>0</td>\n",
              "      <td>0</td>\n",
              "      <td>0</td>\n",
              "      <td>0</td>\n",
              "      <td>1</td>\n",
              "      <td>0</td>\n",
              "      <td>0</td>\n",
              "      <td>0</td>\n",
              "      <td>0</td>\n",
              "      <td>0</td>\n",
              "      <td>0</td>\n",
              "      <td>5</td>\n",
              "      <td>0</td>\n",
              "      <td>0</td>\n",
              "      <td>0</td>\n",
              "      <td>0</td>\n",
              "      <td>0</td>\n",
              "      <td>0</td>\n",
              "      <td>0</td>\n",
              "      <td>0</td>\n",
              "      <td>0</td>\n",
              "      <td>1</td>\n",
              "      <td>0</td>\n",
              "      <td>0</td>\n",
              "      <td>0</td>\n",
              "      <td>0</td>\n",
              "      <td>0</td>\n",
              "      <td>0</td>\n",
              "      <td>0</td>\n",
              "      <td>0</td>\n",
              "      <td>0</td>\n",
              "      <td>0</td>\n",
              "      <td>0</td>\n",
              "    </tr>\n",
              "  </tbody>\n",
              "</table>\n",
              "</div>"
            ],
            "text/plain": [
              "   Gender  Animation  War  Fantasy  Adventure  Children's  Comedy  Drama  \\\n",
              "0       1          1    0        0          0           1       1      0   \n",
              "1       1          0    0        0          0           0       0      1   \n",
              "2       1          0    0        0          0           1       1      1   \n",
              "3       1          1    0        0          0           1       0      0   \n",
              "4       1          0    0        0          0           0       0      1   \n",
              "\n",
              "   Action  Romance  Crime  Horror  Musical  Film-Noir  Thriller  Documentary  \\\n",
              "0       0        0      0       0        0          0         0            0   \n",
              "1       0        1      0       0        0          0         0            0   \n",
              "2       0        0      0       0        0          0         0            0   \n",
              "3       0        1      0       0        1          0         0            0   \n",
              "4       0        0      0       0        1          0         0            0   \n",
              "\n",
              "   Western  Mystery  Sci-Fi  Rating  administrator  artist  doctor  educator  \\\n",
              "0        0        0       0       4              0       0       0         0   \n",
              "1        0        0       0       4              0       0       0         0   \n",
              "2        0        0       0       4              0       0       0         0   \n",
              "3        0        0       0       5              0       0       0         0   \n",
              "4        0        0       0       5              0       0       0         0   \n",
              "\n",
              "   engineer  entertainment  executive  healthcare  homemaker  lawyer  \\\n",
              "0         0              0          0           0          0       1   \n",
              "1         0              0          0           0          0       1   \n",
              "2         0              0          0           0          0       1   \n",
              "3         0              0          0           0          0       1   \n",
              "4         0              0          0           0          0       1   \n",
              "\n",
              "   librarian  marketing  none  other  programmer  retired  salesman  \\\n",
              "0          0          0     0      0           0        0         0   \n",
              "1          0          0     0      0           0        0         0   \n",
              "2          0          0     0      0           0        0         0   \n",
              "3          0          0     0      0           0        0         0   \n",
              "4          0          0     0      0           0        0         0   \n",
              "\n",
              "   scientist  student  technician  writer  \n",
              "0          0        0           0       0  \n",
              "1          0        0           0       0  \n",
              "2          0        0           0       0  \n",
              "3          0        0           0       0  \n",
              "4          0        0           0       0  "
            ]
          },
          "metadata": {
            "tags": []
          },
          "execution_count": 89
        }
      ]
    },
    {
      "metadata": {
        "id": "fd3hIbbp8sNX",
        "colab_type": "text"
      },
      "cell_type": "markdown",
      "source": [
        "*Data is cleaned and well prepared for to build the model*"
      ]
    },
    {
      "metadata": {
        "id": "vXUOgCKD8sNa",
        "colab_type": "code",
        "outputId": "0d8b5607-a1aa-4d1e-a609-0c50b57a67ca",
        "colab": {
          "base_uri": "https://localhost:8080/",
          "height": 153
        }
      },
      "cell_type": "code",
      "source": [
        "df.columns"
      ],
      "execution_count": 0,
      "outputs": [
        {
          "output_type": "execute_result",
          "data": {
            "text/plain": [
              "Index(['Gender', 'Animation', 'War', 'Fantasy', 'Adventure', 'Children's',\n",
              "       'Comedy', 'Drama', 'Action', 'Romance', 'Crime', 'Horror', 'Musical',\n",
              "       'Film-Noir', 'Thriller', 'Documentary', 'Western', 'Mystery', 'Sci-Fi',\n",
              "       'Rating', 'administrator', 'artist', 'doctor', 'educator', 'engineer',\n",
              "       'entertainment', 'executive', 'healthcare', 'homemaker', 'lawyer',\n",
              "       'librarian', 'marketing', 'none', 'other', 'programmer', 'retired',\n",
              "       'salesman', 'scientist', 'student', 'technician', 'writer'],\n",
              "      dtype='object')"
            ]
          },
          "metadata": {
            "tags": []
          },
          "execution_count": 90
        }
      ]
    },
    {
      "metadata": {
        "id": "977RT_Cd8sNh",
        "colab_type": "code",
        "colab": {}
      },
      "cell_type": "code",
      "source": [
        "X= df.drop('Rating', axis=1)\n",
        "Y= df[['Rating']]"
      ],
      "execution_count": 0,
      "outputs": []
    },
    {
      "metadata": {
        "id": "9EXFigNK8sNl",
        "colab_type": "code",
        "colab": {}
      },
      "cell_type": "code",
      "source": [
        "from sklearn.model_selection import train_test_split\n",
        "X_train, X_test, y_train, y_test = train_test_split(X, Y, test_size = 0.20, random_state=5, stratify= df.Rating)"
      ],
      "execution_count": 0,
      "outputs": []
    },
    {
      "metadata": {
        "id": "--r3sKzk8sNp",
        "colab_type": "code",
        "outputId": "46615142-a441-49d2-bf88-a2f8527e2ff5",
        "colab": {
          "base_uri": "https://localhost:8080/",
          "height": 241
        }
      },
      "cell_type": "code",
      "source": [
        "X_train.head()"
      ],
      "execution_count": 0,
      "outputs": [
        {
          "output_type": "execute_result",
          "data": {
            "text/html": [
              "<div>\n",
              "<style scoped>\n",
              "    .dataframe tbody tr th:only-of-type {\n",
              "        vertical-align: middle;\n",
              "    }\n",
              "\n",
              "    .dataframe tbody tr th {\n",
              "        vertical-align: top;\n",
              "    }\n",
              "\n",
              "    .dataframe thead th {\n",
              "        text-align: right;\n",
              "    }\n",
              "</style>\n",
              "<table border=\"1\" class=\"dataframe\">\n",
              "  <thead>\n",
              "    <tr style=\"text-align: right;\">\n",
              "      <th></th>\n",
              "      <th>Gender</th>\n",
              "      <th>Animation</th>\n",
              "      <th>War</th>\n",
              "      <th>Fantasy</th>\n",
              "      <th>Adventure</th>\n",
              "      <th>Children's</th>\n",
              "      <th>Comedy</th>\n",
              "      <th>Drama</th>\n",
              "      <th>Action</th>\n",
              "      <th>Romance</th>\n",
              "      <th>Crime</th>\n",
              "      <th>Horror</th>\n",
              "      <th>Musical</th>\n",
              "      <th>Film-Noir</th>\n",
              "      <th>Thriller</th>\n",
              "      <th>Documentary</th>\n",
              "      <th>Western</th>\n",
              "      <th>Mystery</th>\n",
              "      <th>Sci-Fi</th>\n",
              "      <th>administrator</th>\n",
              "      <th>artist</th>\n",
              "      <th>doctor</th>\n",
              "      <th>educator</th>\n",
              "      <th>engineer</th>\n",
              "      <th>entertainment</th>\n",
              "      <th>executive</th>\n",
              "      <th>healthcare</th>\n",
              "      <th>homemaker</th>\n",
              "      <th>lawyer</th>\n",
              "      <th>librarian</th>\n",
              "      <th>marketing</th>\n",
              "      <th>none</th>\n",
              "      <th>other</th>\n",
              "      <th>programmer</th>\n",
              "      <th>retired</th>\n",
              "      <th>salesman</th>\n",
              "      <th>scientist</th>\n",
              "      <th>student</th>\n",
              "      <th>technician</th>\n",
              "      <th>writer</th>\n",
              "    </tr>\n",
              "  </thead>\n",
              "  <tbody>\n",
              "    <tr>\n",
              "      <th>545252</th>\n",
              "      <td>0</td>\n",
              "      <td>0</td>\n",
              "      <td>0</td>\n",
              "      <td>0</td>\n",
              "      <td>0</td>\n",
              "      <td>0</td>\n",
              "      <td>0</td>\n",
              "      <td>1</td>\n",
              "      <td>0</td>\n",
              "      <td>0</td>\n",
              "      <td>0</td>\n",
              "      <td>0</td>\n",
              "      <td>0</td>\n",
              "      <td>0</td>\n",
              "      <td>0</td>\n",
              "      <td>0</td>\n",
              "      <td>0</td>\n",
              "      <td>0</td>\n",
              "      <td>0</td>\n",
              "      <td>0</td>\n",
              "      <td>0</td>\n",
              "      <td>0</td>\n",
              "      <td>0</td>\n",
              "      <td>0</td>\n",
              "      <td>0</td>\n",
              "      <td>0</td>\n",
              "      <td>0</td>\n",
              "      <td>0</td>\n",
              "      <td>0</td>\n",
              "      <td>0</td>\n",
              "      <td>0</td>\n",
              "      <td>0</td>\n",
              "      <td>0</td>\n",
              "      <td>0</td>\n",
              "      <td>0</td>\n",
              "      <td>0</td>\n",
              "      <td>1</td>\n",
              "      <td>0</td>\n",
              "      <td>0</td>\n",
              "      <td>0</td>\n",
              "    </tr>\n",
              "    <tr>\n",
              "      <th>379560</th>\n",
              "      <td>0</td>\n",
              "      <td>0</td>\n",
              "      <td>0</td>\n",
              "      <td>0</td>\n",
              "      <td>0</td>\n",
              "      <td>0</td>\n",
              "      <td>0</td>\n",
              "      <td>0</td>\n",
              "      <td>0</td>\n",
              "      <td>0</td>\n",
              "      <td>0</td>\n",
              "      <td>0</td>\n",
              "      <td>0</td>\n",
              "      <td>0</td>\n",
              "      <td>0</td>\n",
              "      <td>0</td>\n",
              "      <td>0</td>\n",
              "      <td>1</td>\n",
              "      <td>0</td>\n",
              "      <td>0</td>\n",
              "      <td>0</td>\n",
              "      <td>0</td>\n",
              "      <td>1</td>\n",
              "      <td>0</td>\n",
              "      <td>0</td>\n",
              "      <td>0</td>\n",
              "      <td>0</td>\n",
              "      <td>0</td>\n",
              "      <td>0</td>\n",
              "      <td>0</td>\n",
              "      <td>0</td>\n",
              "      <td>0</td>\n",
              "      <td>0</td>\n",
              "      <td>0</td>\n",
              "      <td>0</td>\n",
              "      <td>0</td>\n",
              "      <td>0</td>\n",
              "      <td>0</td>\n",
              "      <td>0</td>\n",
              "      <td>0</td>\n",
              "    </tr>\n",
              "    <tr>\n",
              "      <th>276921</th>\n",
              "      <td>0</td>\n",
              "      <td>0</td>\n",
              "      <td>0</td>\n",
              "      <td>0</td>\n",
              "      <td>1</td>\n",
              "      <td>0</td>\n",
              "      <td>0</td>\n",
              "      <td>0</td>\n",
              "      <td>1</td>\n",
              "      <td>0</td>\n",
              "      <td>0</td>\n",
              "      <td>0</td>\n",
              "      <td>0</td>\n",
              "      <td>0</td>\n",
              "      <td>0</td>\n",
              "      <td>0</td>\n",
              "      <td>0</td>\n",
              "      <td>0</td>\n",
              "      <td>1</td>\n",
              "      <td>0</td>\n",
              "      <td>0</td>\n",
              "      <td>0</td>\n",
              "      <td>0</td>\n",
              "      <td>0</td>\n",
              "      <td>0</td>\n",
              "      <td>0</td>\n",
              "      <td>1</td>\n",
              "      <td>0</td>\n",
              "      <td>0</td>\n",
              "      <td>0</td>\n",
              "      <td>0</td>\n",
              "      <td>0</td>\n",
              "      <td>0</td>\n",
              "      <td>0</td>\n",
              "      <td>0</td>\n",
              "      <td>0</td>\n",
              "      <td>0</td>\n",
              "      <td>0</td>\n",
              "      <td>0</td>\n",
              "      <td>0</td>\n",
              "    </tr>\n",
              "    <tr>\n",
              "      <th>654500</th>\n",
              "      <td>0</td>\n",
              "      <td>0</td>\n",
              "      <td>0</td>\n",
              "      <td>0</td>\n",
              "      <td>0</td>\n",
              "      <td>0</td>\n",
              "      <td>0</td>\n",
              "      <td>1</td>\n",
              "      <td>0</td>\n",
              "      <td>0</td>\n",
              "      <td>0</td>\n",
              "      <td>0</td>\n",
              "      <td>0</td>\n",
              "      <td>0</td>\n",
              "      <td>0</td>\n",
              "      <td>0</td>\n",
              "      <td>0</td>\n",
              "      <td>0</td>\n",
              "      <td>0</td>\n",
              "      <td>0</td>\n",
              "      <td>1</td>\n",
              "      <td>0</td>\n",
              "      <td>0</td>\n",
              "      <td>0</td>\n",
              "      <td>0</td>\n",
              "      <td>0</td>\n",
              "      <td>0</td>\n",
              "      <td>0</td>\n",
              "      <td>0</td>\n",
              "      <td>0</td>\n",
              "      <td>0</td>\n",
              "      <td>0</td>\n",
              "      <td>0</td>\n",
              "      <td>0</td>\n",
              "      <td>0</td>\n",
              "      <td>0</td>\n",
              "      <td>0</td>\n",
              "      <td>0</td>\n",
              "      <td>0</td>\n",
              "      <td>0</td>\n",
              "    </tr>\n",
              "    <tr>\n",
              "      <th>472053</th>\n",
              "      <td>0</td>\n",
              "      <td>0</td>\n",
              "      <td>0</td>\n",
              "      <td>0</td>\n",
              "      <td>1</td>\n",
              "      <td>0</td>\n",
              "      <td>0</td>\n",
              "      <td>0</td>\n",
              "      <td>1</td>\n",
              "      <td>0</td>\n",
              "      <td>0</td>\n",
              "      <td>0</td>\n",
              "      <td>0</td>\n",
              "      <td>0</td>\n",
              "      <td>0</td>\n",
              "      <td>0</td>\n",
              "      <td>0</td>\n",
              "      <td>0</td>\n",
              "      <td>0</td>\n",
              "      <td>0</td>\n",
              "      <td>0</td>\n",
              "      <td>0</td>\n",
              "      <td>0</td>\n",
              "      <td>0</td>\n",
              "      <td>0</td>\n",
              "      <td>1</td>\n",
              "      <td>0</td>\n",
              "      <td>0</td>\n",
              "      <td>0</td>\n",
              "      <td>0</td>\n",
              "      <td>0</td>\n",
              "      <td>0</td>\n",
              "      <td>0</td>\n",
              "      <td>0</td>\n",
              "      <td>0</td>\n",
              "      <td>0</td>\n",
              "      <td>0</td>\n",
              "      <td>0</td>\n",
              "      <td>0</td>\n",
              "      <td>0</td>\n",
              "    </tr>\n",
              "  </tbody>\n",
              "</table>\n",
              "</div>"
            ],
            "text/plain": [
              "        Gender  Animation  War  Fantasy  Adventure  Children's  Comedy  Drama  \\\n",
              "545252       0          0    0        0          0           0       0      1   \n",
              "379560       0          0    0        0          0           0       0      0   \n",
              "276921       0          0    0        0          1           0       0      0   \n",
              "654500       0          0    0        0          0           0       0      1   \n",
              "472053       0          0    0        0          1           0       0      0   \n",
              "\n",
              "        Action  Romance  Crime  Horror  Musical  Film-Noir  Thriller  \\\n",
              "545252       0        0      0       0        0          0         0   \n",
              "379560       0        0      0       0        0          0         0   \n",
              "276921       1        0      0       0        0          0         0   \n",
              "654500       0        0      0       0        0          0         0   \n",
              "472053       1        0      0       0        0          0         0   \n",
              "\n",
              "        Documentary  Western  Mystery  Sci-Fi  administrator  artist  doctor  \\\n",
              "545252            0        0        0       0              0       0       0   \n",
              "379560            0        0        1       0              0       0       0   \n",
              "276921            0        0        0       1              0       0       0   \n",
              "654500            0        0        0       0              0       1       0   \n",
              "472053            0        0        0       0              0       0       0   \n",
              "\n",
              "        educator  engineer  entertainment  executive  healthcare  homemaker  \\\n",
              "545252         0         0              0          0           0          0   \n",
              "379560         1         0              0          0           0          0   \n",
              "276921         0         0              0          0           1          0   \n",
              "654500         0         0              0          0           0          0   \n",
              "472053         0         0              0          1           0          0   \n",
              "\n",
              "        lawyer  librarian  marketing  none  other  programmer  retired  \\\n",
              "545252       0          0          0     0      0           0        0   \n",
              "379560       0          0          0     0      0           0        0   \n",
              "276921       0          0          0     0      0           0        0   \n",
              "654500       0          0          0     0      0           0        0   \n",
              "472053       0          0          0     0      0           0        0   \n",
              "\n",
              "        salesman  scientist  student  technician  writer  \n",
              "545252         0          1        0           0       0  \n",
              "379560         0          0        0           0       0  \n",
              "276921         0          0        0           0       0  \n",
              "654500         0          0        0           0       0  \n",
              "472053         0          0        0           0       0  "
            ]
          },
          "metadata": {
            "tags": []
          },
          "execution_count": 93
        }
      ]
    },
    {
      "metadata": {
        "id": "4j4JWyAt8sNw",
        "colab_type": "code",
        "outputId": "dd4bf9f0-584a-434e-a364-b5a373061660",
        "colab": {
          "base_uri": "https://localhost:8080/",
          "height": 241
        }
      },
      "cell_type": "code",
      "source": [
        "X_test.head()"
      ],
      "execution_count": 0,
      "outputs": [
        {
          "output_type": "execute_result",
          "data": {
            "text/html": [
              "<div>\n",
              "<style scoped>\n",
              "    .dataframe tbody tr th:only-of-type {\n",
              "        vertical-align: middle;\n",
              "    }\n",
              "\n",
              "    .dataframe tbody tr th {\n",
              "        vertical-align: top;\n",
              "    }\n",
              "\n",
              "    .dataframe thead th {\n",
              "        text-align: right;\n",
              "    }\n",
              "</style>\n",
              "<table border=\"1\" class=\"dataframe\">\n",
              "  <thead>\n",
              "    <tr style=\"text-align: right;\">\n",
              "      <th></th>\n",
              "      <th>Gender</th>\n",
              "      <th>Animation</th>\n",
              "      <th>War</th>\n",
              "      <th>Fantasy</th>\n",
              "      <th>Adventure</th>\n",
              "      <th>Children's</th>\n",
              "      <th>Comedy</th>\n",
              "      <th>Drama</th>\n",
              "      <th>Action</th>\n",
              "      <th>Romance</th>\n",
              "      <th>Crime</th>\n",
              "      <th>Horror</th>\n",
              "      <th>Musical</th>\n",
              "      <th>Film-Noir</th>\n",
              "      <th>Thriller</th>\n",
              "      <th>Documentary</th>\n",
              "      <th>Western</th>\n",
              "      <th>Mystery</th>\n",
              "      <th>Sci-Fi</th>\n",
              "      <th>administrator</th>\n",
              "      <th>artist</th>\n",
              "      <th>doctor</th>\n",
              "      <th>educator</th>\n",
              "      <th>engineer</th>\n",
              "      <th>entertainment</th>\n",
              "      <th>executive</th>\n",
              "      <th>healthcare</th>\n",
              "      <th>homemaker</th>\n",
              "      <th>lawyer</th>\n",
              "      <th>librarian</th>\n",
              "      <th>marketing</th>\n",
              "      <th>none</th>\n",
              "      <th>other</th>\n",
              "      <th>programmer</th>\n",
              "      <th>retired</th>\n",
              "      <th>salesman</th>\n",
              "      <th>scientist</th>\n",
              "      <th>student</th>\n",
              "      <th>technician</th>\n",
              "      <th>writer</th>\n",
              "    </tr>\n",
              "  </thead>\n",
              "  <tbody>\n",
              "    <tr>\n",
              "      <th>611972</th>\n",
              "      <td>1</td>\n",
              "      <td>0</td>\n",
              "      <td>0</td>\n",
              "      <td>0</td>\n",
              "      <td>0</td>\n",
              "      <td>0</td>\n",
              "      <td>0</td>\n",
              "      <td>1</td>\n",
              "      <td>0</td>\n",
              "      <td>0</td>\n",
              "      <td>0</td>\n",
              "      <td>0</td>\n",
              "      <td>0</td>\n",
              "      <td>0</td>\n",
              "      <td>0</td>\n",
              "      <td>0</td>\n",
              "      <td>0</td>\n",
              "      <td>0</td>\n",
              "      <td>1</td>\n",
              "      <td>0</td>\n",
              "      <td>0</td>\n",
              "      <td>0</td>\n",
              "      <td>0</td>\n",
              "      <td>0</td>\n",
              "      <td>0</td>\n",
              "      <td>1</td>\n",
              "      <td>0</td>\n",
              "      <td>0</td>\n",
              "      <td>0</td>\n",
              "      <td>0</td>\n",
              "      <td>0</td>\n",
              "      <td>0</td>\n",
              "      <td>0</td>\n",
              "      <td>0</td>\n",
              "      <td>0</td>\n",
              "      <td>0</td>\n",
              "      <td>0</td>\n",
              "      <td>0</td>\n",
              "      <td>0</td>\n",
              "      <td>0</td>\n",
              "    </tr>\n",
              "    <tr>\n",
              "      <th>275050</th>\n",
              "      <td>0</td>\n",
              "      <td>0</td>\n",
              "      <td>0</td>\n",
              "      <td>0</td>\n",
              "      <td>0</td>\n",
              "      <td>0</td>\n",
              "      <td>1</td>\n",
              "      <td>0</td>\n",
              "      <td>0</td>\n",
              "      <td>0</td>\n",
              "      <td>0</td>\n",
              "      <td>0</td>\n",
              "      <td>0</td>\n",
              "      <td>0</td>\n",
              "      <td>0</td>\n",
              "      <td>0</td>\n",
              "      <td>0</td>\n",
              "      <td>0</td>\n",
              "      <td>0</td>\n",
              "      <td>0</td>\n",
              "      <td>0</td>\n",
              "      <td>0</td>\n",
              "      <td>0</td>\n",
              "      <td>1</td>\n",
              "      <td>0</td>\n",
              "      <td>0</td>\n",
              "      <td>0</td>\n",
              "      <td>0</td>\n",
              "      <td>0</td>\n",
              "      <td>0</td>\n",
              "      <td>0</td>\n",
              "      <td>0</td>\n",
              "      <td>0</td>\n",
              "      <td>0</td>\n",
              "      <td>0</td>\n",
              "      <td>0</td>\n",
              "      <td>0</td>\n",
              "      <td>0</td>\n",
              "      <td>0</td>\n",
              "      <td>0</td>\n",
              "    </tr>\n",
              "    <tr>\n",
              "      <th>280905</th>\n",
              "      <td>0</td>\n",
              "      <td>1</td>\n",
              "      <td>0</td>\n",
              "      <td>0</td>\n",
              "      <td>0</td>\n",
              "      <td>1</td>\n",
              "      <td>1</td>\n",
              "      <td>0</td>\n",
              "      <td>0</td>\n",
              "      <td>1</td>\n",
              "      <td>0</td>\n",
              "      <td>0</td>\n",
              "      <td>1</td>\n",
              "      <td>0</td>\n",
              "      <td>0</td>\n",
              "      <td>0</td>\n",
              "      <td>0</td>\n",
              "      <td>0</td>\n",
              "      <td>0</td>\n",
              "      <td>0</td>\n",
              "      <td>0</td>\n",
              "      <td>0</td>\n",
              "      <td>0</td>\n",
              "      <td>0</td>\n",
              "      <td>0</td>\n",
              "      <td>0</td>\n",
              "      <td>0</td>\n",
              "      <td>0</td>\n",
              "      <td>0</td>\n",
              "      <td>0</td>\n",
              "      <td>0</td>\n",
              "      <td>1</td>\n",
              "      <td>0</td>\n",
              "      <td>0</td>\n",
              "      <td>0</td>\n",
              "      <td>0</td>\n",
              "      <td>0</td>\n",
              "      <td>0</td>\n",
              "      <td>0</td>\n",
              "      <td>0</td>\n",
              "    </tr>\n",
              "    <tr>\n",
              "      <th>911685</th>\n",
              "      <td>0</td>\n",
              "      <td>0</td>\n",
              "      <td>0</td>\n",
              "      <td>0</td>\n",
              "      <td>0</td>\n",
              "      <td>0</td>\n",
              "      <td>0</td>\n",
              "      <td>1</td>\n",
              "      <td>0</td>\n",
              "      <td>0</td>\n",
              "      <td>0</td>\n",
              "      <td>0</td>\n",
              "      <td>0</td>\n",
              "      <td>0</td>\n",
              "      <td>0</td>\n",
              "      <td>0</td>\n",
              "      <td>0</td>\n",
              "      <td>0</td>\n",
              "      <td>0</td>\n",
              "      <td>0</td>\n",
              "      <td>0</td>\n",
              "      <td>0</td>\n",
              "      <td>0</td>\n",
              "      <td>0</td>\n",
              "      <td>0</td>\n",
              "      <td>0</td>\n",
              "      <td>0</td>\n",
              "      <td>0</td>\n",
              "      <td>0</td>\n",
              "      <td>0</td>\n",
              "      <td>1</td>\n",
              "      <td>0</td>\n",
              "      <td>0</td>\n",
              "      <td>0</td>\n",
              "      <td>0</td>\n",
              "      <td>0</td>\n",
              "      <td>0</td>\n",
              "      <td>0</td>\n",
              "      <td>0</td>\n",
              "      <td>0</td>\n",
              "    </tr>\n",
              "    <tr>\n",
              "      <th>963551</th>\n",
              "      <td>0</td>\n",
              "      <td>0</td>\n",
              "      <td>0</td>\n",
              "      <td>0</td>\n",
              "      <td>0</td>\n",
              "      <td>0</td>\n",
              "      <td>1</td>\n",
              "      <td>0</td>\n",
              "      <td>0</td>\n",
              "      <td>0</td>\n",
              "      <td>0</td>\n",
              "      <td>0</td>\n",
              "      <td>0</td>\n",
              "      <td>0</td>\n",
              "      <td>0</td>\n",
              "      <td>0</td>\n",
              "      <td>0</td>\n",
              "      <td>0</td>\n",
              "      <td>0</td>\n",
              "      <td>0</td>\n",
              "      <td>0</td>\n",
              "      <td>0</td>\n",
              "      <td>0</td>\n",
              "      <td>0</td>\n",
              "      <td>0</td>\n",
              "      <td>0</td>\n",
              "      <td>1</td>\n",
              "      <td>0</td>\n",
              "      <td>0</td>\n",
              "      <td>0</td>\n",
              "      <td>0</td>\n",
              "      <td>0</td>\n",
              "      <td>0</td>\n",
              "      <td>0</td>\n",
              "      <td>0</td>\n",
              "      <td>0</td>\n",
              "      <td>0</td>\n",
              "      <td>0</td>\n",
              "      <td>0</td>\n",
              "      <td>0</td>\n",
              "    </tr>\n",
              "  </tbody>\n",
              "</table>\n",
              "</div>"
            ],
            "text/plain": [
              "        Gender  Animation  War  Fantasy  Adventure  Children's  Comedy  Drama  \\\n",
              "611972       1          0    0        0          0           0       0      1   \n",
              "275050       0          0    0        0          0           0       1      0   \n",
              "280905       0          1    0        0          0           1       1      0   \n",
              "911685       0          0    0        0          0           0       0      1   \n",
              "963551       0          0    0        0          0           0       1      0   \n",
              "\n",
              "        Action  Romance  Crime  Horror  Musical  Film-Noir  Thriller  \\\n",
              "611972       0        0      0       0        0          0         0   \n",
              "275050       0        0      0       0        0          0         0   \n",
              "280905       0        1      0       0        1          0         0   \n",
              "911685       0        0      0       0        0          0         0   \n",
              "963551       0        0      0       0        0          0         0   \n",
              "\n",
              "        Documentary  Western  Mystery  Sci-Fi  administrator  artist  doctor  \\\n",
              "611972            0        0        0       1              0       0       0   \n",
              "275050            0        0        0       0              0       0       0   \n",
              "280905            0        0        0       0              0       0       0   \n",
              "911685            0        0        0       0              0       0       0   \n",
              "963551            0        0        0       0              0       0       0   \n",
              "\n",
              "        educator  engineer  entertainment  executive  healthcare  homemaker  \\\n",
              "611972         0         0              0          1           0          0   \n",
              "275050         0         1              0          0           0          0   \n",
              "280905         0         0              0          0           0          0   \n",
              "911685         0         0              0          0           0          0   \n",
              "963551         0         0              0          0           1          0   \n",
              "\n",
              "        lawyer  librarian  marketing  none  other  programmer  retired  \\\n",
              "611972       0          0          0     0      0           0        0   \n",
              "275050       0          0          0     0      0           0        0   \n",
              "280905       0          0          0     1      0           0        0   \n",
              "911685       0          0          1     0      0           0        0   \n",
              "963551       0          0          0     0      0           0        0   \n",
              "\n",
              "        salesman  scientist  student  technician  writer  \n",
              "611972         0          0        0           0       0  \n",
              "275050         0          0        0           0       0  \n",
              "280905         0          0        0           0       0  \n",
              "911685         0          0        0           0       0  \n",
              "963551         0          0        0           0       0  "
            ]
          },
          "metadata": {
            "tags": []
          },
          "execution_count": 94
        }
      ]
    },
    {
      "metadata": {
        "id": "waqH_Rjq8sN2",
        "colab_type": "code",
        "outputId": "c96db3dc-8e19-45e8-dbdb-b2d6ae385f27",
        "colab": {
          "base_uri": "https://localhost:8080/",
          "height": 204
        }
      },
      "cell_type": "code",
      "source": [
        "y_train.head()"
      ],
      "execution_count": 0,
      "outputs": [
        {
          "output_type": "execute_result",
          "data": {
            "text/html": [
              "<div>\n",
              "<style scoped>\n",
              "    .dataframe tbody tr th:only-of-type {\n",
              "        vertical-align: middle;\n",
              "    }\n",
              "\n",
              "    .dataframe tbody tr th {\n",
              "        vertical-align: top;\n",
              "    }\n",
              "\n",
              "    .dataframe thead th {\n",
              "        text-align: right;\n",
              "    }\n",
              "</style>\n",
              "<table border=\"1\" class=\"dataframe\">\n",
              "  <thead>\n",
              "    <tr style=\"text-align: right;\">\n",
              "      <th></th>\n",
              "      <th>Rating</th>\n",
              "    </tr>\n",
              "  </thead>\n",
              "  <tbody>\n",
              "    <tr>\n",
              "      <th>545252</th>\n",
              "      <td>4</td>\n",
              "    </tr>\n",
              "    <tr>\n",
              "      <th>379560</th>\n",
              "      <td>4</td>\n",
              "    </tr>\n",
              "    <tr>\n",
              "      <th>276921</th>\n",
              "      <td>3</td>\n",
              "    </tr>\n",
              "    <tr>\n",
              "      <th>654500</th>\n",
              "      <td>3</td>\n",
              "    </tr>\n",
              "    <tr>\n",
              "      <th>472053</th>\n",
              "      <td>3</td>\n",
              "    </tr>\n",
              "  </tbody>\n",
              "</table>\n",
              "</div>"
            ],
            "text/plain": [
              "        Rating\n",
              "545252       4\n",
              "379560       4\n",
              "276921       3\n",
              "654500       3\n",
              "472053       3"
            ]
          },
          "metadata": {
            "tags": []
          },
          "execution_count": 95
        }
      ]
    },
    {
      "metadata": {
        "id": "38TdEAdL8sN7",
        "colab_type": "code",
        "outputId": "85f840a6-eec9-4edc-a07b-51d8ffab45e9",
        "colab": {
          "base_uri": "https://localhost:8080/",
          "height": 204
        }
      },
      "cell_type": "code",
      "source": [
        "y_test.head()"
      ],
      "execution_count": 0,
      "outputs": [
        {
          "output_type": "execute_result",
          "data": {
            "text/html": [
              "<div>\n",
              "<style scoped>\n",
              "    .dataframe tbody tr th:only-of-type {\n",
              "        vertical-align: middle;\n",
              "    }\n",
              "\n",
              "    .dataframe tbody tr th {\n",
              "        vertical-align: top;\n",
              "    }\n",
              "\n",
              "    .dataframe thead th {\n",
              "        text-align: right;\n",
              "    }\n",
              "</style>\n",
              "<table border=\"1\" class=\"dataframe\">\n",
              "  <thead>\n",
              "    <tr style=\"text-align: right;\">\n",
              "      <th></th>\n",
              "      <th>Rating</th>\n",
              "    </tr>\n",
              "  </thead>\n",
              "  <tbody>\n",
              "    <tr>\n",
              "      <th>611972</th>\n",
              "      <td>4</td>\n",
              "    </tr>\n",
              "    <tr>\n",
              "      <th>275050</th>\n",
              "      <td>3</td>\n",
              "    </tr>\n",
              "    <tr>\n",
              "      <th>280905</th>\n",
              "      <td>4</td>\n",
              "    </tr>\n",
              "    <tr>\n",
              "      <th>911685</th>\n",
              "      <td>4</td>\n",
              "    </tr>\n",
              "    <tr>\n",
              "      <th>963551</th>\n",
              "      <td>3</td>\n",
              "    </tr>\n",
              "  </tbody>\n",
              "</table>\n",
              "</div>"
            ],
            "text/plain": [
              "        Rating\n",
              "611972       4\n",
              "275050       3\n",
              "280905       4\n",
              "911685       4\n",
              "963551       3"
            ]
          },
          "metadata": {
            "tags": []
          },
          "execution_count": 96
        }
      ]
    },
    {
      "metadata": {
        "id": "v-CAFBh78sOB",
        "colab_type": "code",
        "outputId": "f3fc4516-94df-4f77-b140-1f0f008d617f",
        "colab": {
          "base_uri": "https://localhost:8080/",
          "height": 34
        }
      },
      "cell_type": "code",
      "source": [
        "X_train.shape, X_test.shape"
      ],
      "execution_count": 0,
      "outputs": [
        {
          "output_type": "execute_result",
          "data": {
            "text/plain": [
              "((778398, 40), (194600, 40))"
            ]
          },
          "metadata": {
            "tags": []
          },
          "execution_count": 97
        }
      ]
    },
    {
      "metadata": {
        "id": "2XSRMPvW8sOG",
        "colab_type": "code",
        "outputId": "520a2da4-eb40-4a33-cad1-a6c412eb72cd",
        "colab": {
          "base_uri": "https://localhost:8080/",
          "height": 34
        }
      },
      "cell_type": "code",
      "source": [
        "y_train.shape, y_test.shape"
      ],
      "execution_count": 0,
      "outputs": [
        {
          "output_type": "execute_result",
          "data": {
            "text/plain": [
              "((778398, 1), (194600, 1))"
            ]
          },
          "metadata": {
            "tags": []
          },
          "execution_count": 98
        }
      ]
    },
    {
      "metadata": {
        "id": "YDj8BVoM8sOM",
        "colab_type": "code",
        "colab": {}
      },
      "cell_type": "code",
      "source": [
        "from sklearn.preprocessing import MinMaxScaler\n",
        "scaler = MinMaxScaler()\n",
        "y_train= scaler.fit_transform(y_train).ravel()\n",
        "y_test= scaler.transform(y_test).ravel()"
      ],
      "execution_count": 0,
      "outputs": []
    },
    {
      "metadata": {
        "id": "mwGDXdWJ8sOQ",
        "colab_type": "code",
        "outputId": "35a916b0-2189-4d51-9185-9e36c6c23b39",
        "colab": {
          "base_uri": "https://localhost:8080/",
          "height": 51
        }
      },
      "cell_type": "code",
      "source": [
        "y_train, y_test"
      ],
      "execution_count": 0,
      "outputs": [
        {
          "output_type": "execute_result",
          "data": {
            "text/plain": [
              "(array([0.75, 0.75, 0.5 , ..., 0.  , 0.75, 0.5 ]),\n",
              " array([0.75, 0.5 , 0.75, ..., 0.75, 0.75, 1.  ]))"
            ]
          },
          "metadata": {
            "tags": []
          },
          "execution_count": 100
        }
      ]
    },
    {
      "metadata": {
        "id": "77ND3MdX8sOW",
        "colab_type": "code",
        "colab": {}
      },
      "cell_type": "code",
      "source": [
        "import statsmodels.api as sm\n",
        "from sklearn.metrics import mean_squared_error\n",
        "from sklearn.metrics import r2_score"
      ],
      "execution_count": 0,
      "outputs": []
    },
    {
      "metadata": {
        "id": "D8-vfbdu8sOg",
        "colab_type": "code",
        "outputId": "070c6a7d-887b-48d1-befe-a3520d70c8be",
        "colab": {
          "base_uri": "https://localhost:8080/",
          "height": 1088
        }
      },
      "cell_type": "code",
      "source": [
        "mod0 = sm.OLS(y_train, X_train)\n",
        "res = mod0.fit()\n",
        "print(res.summary())"
      ],
      "execution_count": 0,
      "outputs": [
        {
          "output_type": "stream",
          "text": [
            "                            OLS Regression Results                            \n",
            "==============================================================================\n",
            "Dep. Variable:                      y   R-squared:                       0.038\n",
            "Model:                            OLS   Adj. R-squared:                  0.038\n",
            "Method:                 Least Squares   F-statistic:                     796.7\n",
            "Date:                Fri, 29 Mar 2019   Prob (F-statistic):               0.00\n",
            "Time:                        01:01:49   Log-Likelihood:                -94508.\n",
            "No. Observations:              778398   AIC:                         1.891e+05\n",
            "Df Residuals:                  778358   BIC:                         1.896e+05\n",
            "Df Model:                          39                                         \n",
            "Covariance Type:            nonrobust                                         \n",
            "=================================================================================\n",
            "                    coef    std err          t      P>|t|      [0.025      0.975]\n",
            "---------------------------------------------------------------------------------\n",
            "Gender            0.0090      0.001     11.850      0.000       0.007       0.010\n",
            "Animation         0.0902      0.002     45.546      0.000       0.086       0.094\n",
            "War               0.0746      0.001     58.201      0.000       0.072       0.077\n",
            "Fantasy           0.0170      0.002      9.389      0.000       0.013       0.021\n",
            "Adventure         0.0025      0.001      2.372      0.018       0.000       0.005\n",
            "Children's       -0.0765      0.002    -47.088      0.000      -0.080      -0.073\n",
            "Comedy           -0.0042      0.001     -5.204      0.000      -0.006      -0.003\n",
            "Drama             0.0586      0.001     70.944      0.000       0.057       0.060\n",
            "Action           -0.0258      0.001    -29.101      0.000      -0.027      -0.024\n",
            "Romance          -0.0023      0.001     -2.493      0.013      -0.004      -0.000\n",
            "Crime             0.0237      0.001     19.900      0.000       0.021       0.026\n",
            "Horror           -0.0717      0.001    -56.885      0.000      -0.074      -0.069\n",
            "Musical           0.0400      0.002     23.544      0.000       0.037       0.043\n",
            "Film-Noir         0.1108      0.002     45.271      0.000       0.106       0.116\n",
            "Thriller          0.0146      0.001     15.938      0.000       0.013       0.016\n",
            "Documentary       0.1067      0.004     30.048      0.000       0.100       0.114\n",
            "Western           0.0310      0.002     14.114      0.000       0.027       0.035\n",
            "Mystery           0.0041      0.002      2.438      0.015       0.001       0.007\n",
            "Sci-Fi           -0.0067      0.001     -6.989      0.000      -0.009      -0.005\n",
            "administrator     0.6128      0.001    500.632      0.000       0.610       0.615\n",
            "artist            0.6142      0.001    444.081      0.000       0.611       0.617\n",
            "doctor            0.6172      0.002    378.413      0.000       0.614       0.620\n",
            "educator          0.6375      0.002    327.539      0.000       0.634       0.641\n",
            "engineer          0.6149      0.001    504.374      0.000       0.613       0.617\n",
            "entertainment     0.6225      0.002    277.989      0.000       0.618       0.627\n",
            "executive         0.6372      0.002    350.580      0.000       0.634       0.641\n",
            "healthcare        0.6275      0.001    491.301      0.000       0.625       0.630\n",
            "homemaker         0.6019      0.006    101.204      0.000       0.590       0.614\n",
            "lawyer            0.6340      0.003    205.172      0.000       0.628       0.640\n",
            "librarian         0.6309      0.005    122.369      0.000       0.621       0.641\n",
            "marketing         0.6263      0.002    272.804      0.000       0.622       0.631\n",
            "none              0.6458      0.002    416.026      0.000       0.643       0.649\n",
            "other             0.6625      0.003    241.249      0.000       0.657       0.668\n",
            "programmer        0.6319      0.002    385.372      0.000       0.629       0.635\n",
            "retired           0.6479      0.002    295.045      0.000       0.644       0.652\n",
            "salesman          0.6260      0.002    376.875      0.000       0.623       0.629\n",
            "scientist         0.6359      0.001    444.634      0.000       0.633       0.639\n",
            "student           0.6222      0.003    214.555      0.000       0.617       0.628\n",
            "technician        0.5812      0.003    209.529      0.000       0.576       0.587\n",
            "writer            0.5962      0.002    392.505      0.000       0.593       0.599\n",
            "==============================================================================\n",
            "Omnibus:                    35751.169   Durbin-Watson:                   2.002\n",
            "Prob(Omnibus):                  0.000   Jarque-Bera (JB):            38159.163\n",
            "Skew:                          -0.518   Prob(JB):                         0.00\n",
            "Kurtosis:                       2.679   Cond. No.                         16.1\n",
            "==============================================================================\n",
            "\n",
            "Warnings:\n",
            "[1] Standard Errors assume that the covariance matrix of the errors is correctly specified.\n"
          ],
          "name": "stdout"
        }
      ]
    },
    {
      "metadata": {
        "id": "mabZOyaM8sOu",
        "colab_type": "code",
        "colab": {}
      },
      "cell_type": "code",
      "source": [
        "y_pred= mod0.predict(res.params, X_test)"
      ],
      "execution_count": 0,
      "outputs": []
    },
    {
      "metadata": {
        "scrolled": false,
        "id": "Jex95O8x8sOz",
        "colab_type": "code",
        "outputId": "b5e762d1-2a5f-472a-d107-5db8bc382ecd",
        "colab": {
          "base_uri": "https://localhost:8080/",
          "height": 34
        }
      },
      "cell_type": "code",
      "source": [
        "print(r2_score(y_test, y_pred), mean_squared_error(y_test, y_pred)) "
      ],
      "execution_count": 0,
      "outputs": [
        {
          "output_type": "stream",
          "text": [
            "0.039525769792749466 0.07455353486950585\n"
          ],
          "name": "stdout"
        }
      ]
    },
    {
      "metadata": {
        "id": "rrA26Xuz8sO8",
        "colab_type": "code",
        "outputId": "2a90766a-26b1-4940-f0e1-e9506edcef5e",
        "colab": {
          "base_uri": "https://localhost:8080/",
          "height": 119
        }
      },
      "cell_type": "code",
      "source": [
        "# Regressor with Sochastic Gradient Descent optimiser\n",
        "from sklearn.linear_model import SGDRegressor\n",
        "sgd_reg= SGDRegressor(max_iter= 100, penalty=None, eta0= 0.001)\n",
        "sgd_reg.fit(X_train, y_train)"
      ],
      "execution_count": 0,
      "outputs": [
        {
          "output_type": "execute_result",
          "data": {
            "text/plain": [
              "SGDRegressor(alpha=0.0001, average=False, early_stopping=False, epsilon=0.1,\n",
              "       eta0=0.001, fit_intercept=True, l1_ratio=0.15,\n",
              "       learning_rate='invscaling', loss='squared_loss', max_iter=100,\n",
              "       n_iter=None, n_iter_no_change=5, penalty=None, power_t=0.25,\n",
              "       random_state=None, shuffle=True, tol=None, validation_fraction=0.1,\n",
              "       verbose=0, warm_start=False)"
            ]
          },
          "metadata": {
            "tags": []
          },
          "execution_count": 105
        }
      ]
    },
    {
      "metadata": {
        "id": "fMgHoGDu8sPD",
        "colab_type": "code",
        "colab": {}
      },
      "cell_type": "code",
      "source": [
        "y_pred= sgd_reg.predict(X_test)"
      ],
      "execution_count": 0,
      "outputs": []
    },
    {
      "metadata": {
        "id": "AS6nGYzM8sPH",
        "colab_type": "code",
        "outputId": "7c47cb05-15b2-46c6-cf06-aa6d7b3bf0a9",
        "colab": {
          "base_uri": "https://localhost:8080/",
          "height": 34
        }
      },
      "cell_type": "code",
      "source": [
        "print(r2_score(y_test, y_pred), mean_squared_error(y_test, y_pred)) "
      ],
      "execution_count": 0,
      "outputs": [
        {
          "output_type": "stream",
          "text": [
            "0.03952463311607468 0.07455362310015425\n"
          ],
          "name": "stdout"
        }
      ]
    },
    {
      "metadata": {
        "id": "3oPVYcAH9lnr",
        "colab_type": "code",
        "colab": {}
      },
      "cell_type": "code",
      "source": [
        "#Ridge regression\n",
        "from sklearn.linear_model import Ridge\n",
        "ridge_reg= Ridge(alpha=0.001, solver= \"cholesky\" , max_iter= 200)\n",
        "ridge_reg.fit(X_train, y_train)\n",
        "y_pred= ridge_reg.predict(X_test)"
      ],
      "execution_count": 0,
      "outputs": []
    },
    {
      "metadata": {
        "id": "P_ue6PFa_mAO",
        "colab_type": "code",
        "outputId": "0216801d-3344-46a2-929e-50f6ffb18467",
        "colab": {
          "base_uri": "https://localhost:8080/",
          "height": 34
        }
      },
      "cell_type": "code",
      "source": [
        "print(r2_score(y_test, y_pred), mean_squared_error(y_test, y_pred)) "
      ],
      "execution_count": 0,
      "outputs": [
        {
          "output_type": "stream",
          "text": [
            "0.03952576974894351 0.07455353487290613\n"
          ],
          "name": "stdout"
        }
      ]
    },
    {
      "metadata": {
        "id": "INL5jIPzAb5S",
        "colab_type": "code",
        "colab": {}
      },
      "cell_type": "code",
      "source": [
        "#Lasso Regression\n",
        "from sklearn.linear_model import Lasso\n",
        "lasso_reg= Lasso(alpha=0.0001, max_iter=500)\n",
        "lasso_reg.fit(X_train, y_train)\n",
        "y_pred= lasso_reg.predict(X_test)"
      ],
      "execution_count": 0,
      "outputs": []
    },
    {
      "metadata": {
        "id": "_hhF4ArPAPYt",
        "colab_type": "code",
        "outputId": "2840b6f4-30ff-4dfb-b969-06d0a3aa8ec9",
        "colab": {
          "base_uri": "https://localhost:8080/",
          "height": 34
        }
      },
      "cell_type": "code",
      "source": [
        "print(r2_score(y_test, y_pred), mean_squared_error(y_test, y_pred))"
      ],
      "execution_count": 0,
      "outputs": [
        {
          "output_type": "stream",
          "text": [
            "0.03928712030668302 0.0745720592215618\n"
          ],
          "name": "stdout"
        }
      ]
    },
    {
      "metadata": {
        "id": "MDHwJoBvBrJZ",
        "colab_type": "code",
        "colab": {}
      },
      "cell_type": "code",
      "source": [
        "#Elastic Net\n",
        "from sklearn.linear_model import ElasticNet\n",
        "elastic_net= ElasticNet(alpha=0.0001, l1_ratio= 0.5)\n",
        "elastic_net.fit(X_train, y_train)\n",
        "y_pred= elastic_net.predict(X_test)"
      ],
      "execution_count": 0,
      "outputs": []
    },
    {
      "metadata": {
        "id": "L06X-6skCKH9",
        "colab_type": "code",
        "outputId": "497512bc-41e2-4173-862f-fba70024aeb3",
        "colab": {
          "base_uri": "https://localhost:8080/",
          "height": 34
        }
      },
      "cell_type": "code",
      "source": [
        "print(r2_score(y_test, y_pred), mean_squared_error(y_test, y_pred))"
      ],
      "execution_count": 0,
      "outputs": [
        {
          "output_type": "stream",
          "text": [
            "0.03942193044922815 0.07456159504423471\n"
          ],
          "name": "stdout"
        }
      ]
    },
    {
      "metadata": {
        "id": "-_QFg2qoM6ZF",
        "colab_type": "code",
        "colab": {}
      },
      "cell_type": "code",
      "source": [
        "#Random Forest Regressor\n",
        "from sklearn.ensemble import RandomForestRegressor\n",
        "rf = RandomForestRegressor( bootstrap= True, max_depth= 100,max_features= 3,min_samples_leaf= 5,min_samples_split= 12, n_estimators= 500)\n",
        "rf.fit(X_train, y_train)\n",
        "y_pred= rf.predict(X_test)"
      ],
      "execution_count": 0,
      "outputs": []
    },
    {
      "metadata": {
        "id": "HkR_16cWNa9Z",
        "colab_type": "code",
        "colab": {
          "base_uri": "https://localhost:8080/",
          "height": 34
        },
        "outputId": "09bc377c-6b58-40a4-87cc-10387d6209ff"
      },
      "cell_type": "code",
      "source": [
        "print(r2_score(y_test, y_pred), mean_squared_error(y_test, y_pred))"
      ],
      "execution_count": 115,
      "outputs": [
        {
          "output_type": "stream",
          "text": [
            "0.08243350795799997 0.07122296810064588\n"
          ],
          "name": "stdout"
        }
      ]
    },
    {
      "metadata": {
        "id": "Ew1gbSWsCzgC",
        "colab_type": "code",
        "colab": {
          "base_uri": "https://localhost:8080/",
          "height": 34
        },
        "outputId": "02c11876-a3f8-4928-8343-edfbce7f495a"
      },
      "cell_type": "code",
      "source": [
        "# Perform 3-fold cross validation\n",
        "from sklearn.model_selection import cross_val_score, cross_val_predict\n",
        "from sklearn import metrics\n",
        "scores = cross_val_score(rf, X_train, y_train, cv=3)\n",
        "print(\"Cross-validated scores:\", scores)"
      ],
      "execution_count": 116,
      "outputs": [
        {
          "output_type": "stream",
          "text": [
            "Cross-validated scores: [0.08079986 0.08039735 0.08009186]\n"
          ],
          "name": "stdout"
        }
      ]
    },
    {
      "metadata": {
        "id": "e0mZv6NRFZz0",
        "colab_type": "code",
        "colab": {
          "base_uri": "https://localhost:8080/",
          "height": 34
        },
        "outputId": "800e6864-ff0c-4321-b183-cc0df0c5df29"
      },
      "cell_type": "code",
      "source": [
        "# Make cross validated predictions\n",
        "predictions = cross_val_predict(rf, X_train, y_train, cv=3)\n",
        "print(\"Predictions: \", predictions)"
      ],
      "execution_count": 117,
      "outputs": [
        {
          "output_type": "stream",
          "text": [
            "Predictions:  [0.69588258 0.71985836 0.62294969 ... 0.4774495  0.65639288 0.8019238 ]\n"
          ],
          "name": "stdout"
        }
      ]
    },
    {
      "metadata": {
        "id": "7nLmKS78GS2m",
        "colab_type": "code",
        "colab": {
          "base_uri": "https://localhost:8080/",
          "height": 34
        },
        "outputId": "b7559ed8-4115-4e28-d85b-7ec52728c9a3"
      },
      "cell_type": "code",
      "source": [
        "accuracy = metrics.r2_score(y_train, predictions)\n",
        "print(\"Cross-Predicted Accuracy:\", accuracy)"
      ],
      "execution_count": 118,
      "outputs": [
        {
          "output_type": "stream",
          "text": [
            "Cross-Predicted Accuracy: 0.08041984118817502\n"
          ],
          "name": "stdout"
        }
      ]
    },
    {
      "metadata": {
        "id": "wQTJ3oYIdDBi",
        "colab_type": "text"
      },
      "cell_type": "markdown",
      "source": [
        "*rf is the final model which we got after some parameter tweaking and triying out every model.*"
      ]
    }
  ]
}